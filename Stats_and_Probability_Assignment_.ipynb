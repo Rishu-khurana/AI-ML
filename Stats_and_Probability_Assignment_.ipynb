{
  "nbformat": 4,
  "nbformat_minor": 0,
  "metadata": {
    "kernelspec": {
      "display_name": "Python 3",
      "language": "python",
      "name": "python3"
    },
    "language_info": {
      "codemirror_mode": {
        "name": "ipython",
        "version": 3
      },
      "file_extension": ".py",
      "mimetype": "text/x-python",
      "name": "python",
      "nbconvert_exporter": "python",
      "pygments_lexer": "ipython3",
      "version": "3.8.5"
    },
    "colab": {
      "provenance": [],
      "include_colab_link": true
    }
  },
  "cells": [
    {
      "cell_type": "markdown",
      "metadata": {
        "id": "view-in-github",
        "colab_type": "text"
      },
      "source": [
        "<a href=\"https://colab.research.google.com/github/Rishu-khurana/AI-ML/blob/main/Stats_and_Probability_Assignment_.ipynb\" target=\"_parent\"><img src=\"https://colab.research.google.com/assets/colab-badge.svg\" alt=\"Open In Colab\"/></a>"
      ]
    },
    {
      "cell_type": "markdown",
      "metadata": {
        "id": "cg3oHaCauV-j"
      },
      "source": [
        "##  Assignment"
      ]
    },
    {
      "cell_type": "code",
      "metadata": {
        "id": "rezYyWudIl-l"
      },
      "source": [
        "import pandas as pd\n",
        "import numpy as np\n",
        "import seaborn as sns\n",
        "import matplotlib.pyplot as plt\n",
        "from sklearn.linear_model import LinearRegression\n",
        "from sklearn.model_selection import train_test_split\n",
        "from sklearn.preprocessing import StandardScaler"
      ],
      "execution_count": null,
      "outputs": []
    },
    {
      "cell_type": "code",
      "metadata": {
        "id": "Lhp-xBrMysxp"
      },
      "source": [
        "from google.colab import drive"
      ],
      "execution_count": null,
      "outputs": []
    },
    {
      "cell_type": "code",
      "metadata": {
        "colab": {
          "base_uri": "https://localhost:8080/"
        },
        "id": "VoJjVpjx3HFk",
        "outputId": "b302aa28-7231-408e-b918-c5b6be197167"
      },
      "source": [
        "drive.mount('/content/drive')"
      ],
      "execution_count": null,
      "outputs": [
        {
          "output_type": "stream",
          "text": [
            "Mounted at /content/drive\n"
          ],
          "name": "stdout"
        }
      ]
    },
    {
      "cell_type": "code",
      "metadata": {
        "id": "bUtJ2iMc3vC2"
      },
      "source": [
        "import os"
      ],
      "execution_count": null,
      "outputs": []
    },
    {
      "cell_type": "code",
      "metadata": {
        "id": "fqj9IFhv3xY7"
      },
      "source": [
        "os.chdir('/content/drive/My Drive')"
      ],
      "execution_count": null,
      "outputs": []
    },
    {
      "cell_type": "code",
      "metadata": {
        "id": "JtdV_q5Q4FXA",
        "colab": {
          "base_uri": "https://localhost:8080/",
          "height": 35
        },
        "outputId": "0a0c7d11-c637-4469-a8b1-9b0c7afba544"
      },
      "source": [
        "os.getcwd()"
      ],
      "execution_count": null,
      "outputs": [
        {
          "output_type": "execute_result",
          "data": {
            "application/vnd.google.colaboratory.intrinsic+json": {
              "type": "string"
            },
            "text/plain": [
              "'/content/drive/My Drive'"
            ]
          },
          "metadata": {
            "tags": []
          },
          "execution_count": 6
        }
      ]
    },
    {
      "cell_type": "code",
      "metadata": {
        "id": "PDkFfhck4KAb",
        "colab": {
          "base_uri": "https://localhost:8080/"
        },
        "outputId": "2eea68ef-ff64-44f0-e4d8-a386185d9223"
      },
      "source": [
        "os.listdir('.')"
      ],
      "execution_count": null,
      "outputs": [
        {
          "output_type": "execute_result",
          "data": {
            "text/plain": [
              "['Classroom',\n",
              " 'Colab Notebooks',\n",
              " 'Copy of Example-Data.gsheet',\n",
              " 'file.csv',\n",
              " 'Salaries.csv',\n",
              " 'Inclass-racingData - Inclass-racingData.csv',\n",
              " 'Inclass-racingData.gsheet',\n",
              " 'Untitled6 (1) (1).ipynb',\n",
              " 'matplotlib.ipynb',\n",
              " 'new data.csv',\n",
              " '1.jpg',\n",
              " '2.jpg',\n",
              " '4.jpg',\n",
              " 'Linear Algebra and Its Applications.gdoc',\n",
              " 'img3.jpg',\n",
              " 'sample.jpg',\n",
              " 'same dim.jpg',\n",
              " 'same dim 2.jpg',\n",
              " 'Concrete_Data.xls',\n",
              " 'ass.ipynb',\n",
              " 'airfoil.xlsx',\n",
              " 'Maths and optimization assignment 1.ipynb',\n",
              " 'area nd price.xlsx',\n",
              " 'airfoil_self_noise Assigment-Maths (3).ipynb',\n",
              " 'ass 2 maths.ipynb',\n",
              " 'Copy of dataset.gsheet',\n",
              " 'dataset.csv',\n",
              " 'literacy.xlsx',\n",
              " 'Prob & Stats_Assignement .ipynb']"
            ]
          },
          "metadata": {
            "tags": []
          },
          "execution_count": 7
        }
      ]
    },
    {
      "cell_type": "markdown",
      "metadata": {
        "id": "fralBhHnNSPN"
      },
      "source": [
        "Question 1 ."
      ]
    },
    {
      "cell_type": "code",
      "metadata": {
        "id": "i_pNMtvDuV-2"
      },
      "source": [
        "import pandas as pd\n",
        "df = pd.read_csv('dataset.csv')"
      ],
      "execution_count": null,
      "outputs": []
    },
    {
      "cell_type": "code",
      "metadata": {
        "id": "cDxtX2WGuV_E",
        "colab": {
          "base_uri": "https://localhost:8080/",
          "height": 198
        },
        "outputId": "b6667f49-8544-4893-b106-9f47f5266613"
      },
      "source": [
        "df.head()"
      ],
      "execution_count": null,
      "outputs": [
        {
          "output_type": "execute_result",
          "data": {
            "text/html": [
              "<div>\n",
              "<style scoped>\n",
              "    .dataframe tbody tr th:only-of-type {\n",
              "        vertical-align: middle;\n",
              "    }\n",
              "\n",
              "    .dataframe tbody tr th {\n",
              "        vertical-align: top;\n",
              "    }\n",
              "\n",
              "    .dataframe thead th {\n",
              "        text-align: right;\n",
              "    }\n",
              "</style>\n",
              "<table border=\"1\" class=\"dataframe\">\n",
              "  <thead>\n",
              "    <tr style=\"text-align: right;\">\n",
              "      <th></th>\n",
              "      <th>STATE</th>\n",
              "      <th>YEAR</th>\n",
              "      <th>BT</th>\n",
              "      <th>EL</th>\n",
              "      <th>CA</th>\n",
              "      <th>GT</th>\n",
              "      <th>DW</th>\n",
              "      <th>GER</th>\n",
              "    </tr>\n",
              "  </thead>\n",
              "  <tbody>\n",
              "    <tr>\n",
              "      <th>0</th>\n",
              "      <td>Andaman &amp; Nicobar Islands</td>\n",
              "      <td>2013-14</td>\n",
              "      <td>94.52</td>\n",
              "      <td>88.86</td>\n",
              "      <td>53.06</td>\n",
              "      <td>93.44</td>\n",
              "      <td>98.69</td>\n",
              "      <td>95.680000</td>\n",
              "    </tr>\n",
              "    <tr>\n",
              "      <th>1</th>\n",
              "      <td>Andaman &amp; Nicobar Islands</td>\n",
              "      <td>2014-15</td>\n",
              "      <td>100.00</td>\n",
              "      <td>88.89</td>\n",
              "      <td>57.25</td>\n",
              "      <td>100.00</td>\n",
              "      <td>99.52</td>\n",
              "      <td>82.563333</td>\n",
              "    </tr>\n",
              "    <tr>\n",
              "      <th>2</th>\n",
              "      <td>Andaman &amp; Nicobar Islands</td>\n",
              "      <td>2015-16</td>\n",
              "      <td>100.00</td>\n",
              "      <td>90.10</td>\n",
              "      <td>57.00</td>\n",
              "      <td>100.00</td>\n",
              "      <td>100.00</td>\n",
              "      <td>91.396667</td>\n",
              "    </tr>\n",
              "    <tr>\n",
              "      <th>3</th>\n",
              "      <td>Andhra Pradesh</td>\n",
              "      <td>2013-14</td>\n",
              "      <td>56.88</td>\n",
              "      <td>90.34</td>\n",
              "      <td>29.57</td>\n",
              "      <td>81.31</td>\n",
              "      <td>90.35</td>\n",
              "      <td>80.203333</td>\n",
              "    </tr>\n",
              "    <tr>\n",
              "      <th>4</th>\n",
              "      <td>Andhra Pradesh</td>\n",
              "      <td>2014-15</td>\n",
              "      <td>65.34</td>\n",
              "      <td>92.76</td>\n",
              "      <td>28.06</td>\n",
              "      <td>98.07</td>\n",
              "      <td>93.74</td>\n",
              "      <td>75.323333</td>\n",
              "    </tr>\n",
              "  </tbody>\n",
              "</table>\n",
              "</div>"
            ],
            "text/plain": [
              "                       STATE     YEAR      BT  ...      GT      DW        GER\n",
              "0  Andaman & Nicobar Islands  2013-14   94.52  ...   93.44   98.69  95.680000\n",
              "1  Andaman & Nicobar Islands  2014-15  100.00  ...  100.00   99.52  82.563333\n",
              "2  Andaman & Nicobar Islands  2015-16  100.00  ...  100.00  100.00  91.396667\n",
              "3             Andhra Pradesh  2013-14   56.88  ...   81.31   90.35  80.203333\n",
              "4             Andhra Pradesh  2014-15   65.34  ...   98.07   93.74  75.323333\n",
              "\n",
              "[5 rows x 8 columns]"
            ]
          },
          "metadata": {
            "tags": []
          },
          "execution_count": 9
        }
      ]
    },
    {
      "cell_type": "markdown",
      "metadata": {
        "id": "46ru8kcZH_bt"
      },
      "source": [
        "a) Find the average GER of India from 2013-14 to 2015-16.\n"
      ]
    },
    {
      "cell_type": "code",
      "metadata": {
        "id": "5ZZy41xBuV_F",
        "colab": {
          "base_uri": "https://localhost:8080/"
        },
        "outputId": "2083aebd-2c39-4ae2-e537-536190753047"
      },
      "source": [
        "avg = df[df.YEAR.isin(['2013-14', '2014-15', '2015-16'])].GER.mean()\n",
        "avg"
      ],
      "execution_count": null,
      "outputs": [
        {
          "output_type": "execute_result",
          "data": {
            "text/plain": [
              "87.02993769401866"
            ]
          },
          "metadata": {
            "tags": []
          },
          "execution_count": 10
        }
      ]
    },
    {
      "cell_type": "markdown",
      "metadata": {
        "id": "gcz4nAYSICF3"
      },
      "source": [
        "b) What percentage of schools on an average are electrified?\n"
      ]
    },
    {
      "cell_type": "code",
      "metadata": {
        "id": "TftVP5JJuV_I",
        "colab": {
          "base_uri": "https://localhost:8080/"
        },
        "outputId": "b2594dfa-07f3-4a1d-d44a-aa4b7c6e9150"
      },
      "source": [
        "print(df['EL'].mean())"
      ],
      "execution_count": null,
      "outputs": [
        {
          "output_type": "stream",
          "text": [
            "70.04177570093458\n"
          ],
          "name": "stdout"
        }
      ]
    },
    {
      "cell_type": "markdown",
      "metadata": {
        "id": "tQ1RKEMvIOfE"
      },
      "source": [
        "c) What percentage of schools on an average have drinking waterfacility?"
      ]
    },
    {
      "cell_type": "code",
      "metadata": {
        "id": "-nY6gzEKuV_J",
        "colab": {
          "base_uri": "https://localhost:8080/"
        },
        "outputId": "f18e7f02-c4ba-482f-cbe9-fc783f352557"
      },
      "source": [
        "print(df['DW'].mean())"
      ],
      "execution_count": null,
      "outputs": [
        {
          "output_type": "stream",
          "text": [
            "94.8918691588785\n"
          ],
          "name": "stdout"
        }
      ]
    },
    {
      "cell_type": "markdown",
      "metadata": {
        "id": "Q86ff5EgIazJ"
      },
      "source": [
        "d) What percentage of schools on an average have boys toilets?\n"
      ]
    },
    {
      "cell_type": "code",
      "metadata": {
        "id": "WMOzWDRWuV_L",
        "colab": {
          "base_uri": "https://localhost:8080/"
        },
        "outputId": "f6fa4cc5-9eaa-434a-e097-28dc05797587"
      },
      "source": [
        "df['BT'].mean()"
      ],
      "execution_count": null,
      "outputs": [
        {
          "output_type": "execute_result",
          "data": {
            "text/plain": [
              "91.9244859813084"
            ]
          },
          "metadata": {
            "tags": []
          },
          "execution_count": 13
        }
      ]
    },
    {
      "cell_type": "markdown",
      "metadata": {
        "id": "U_Hp1-diIdMg"
      },
      "source": [
        "e) What percentage of schools on an average have girls toilets?"
      ]
    },
    {
      "cell_type": "code",
      "metadata": {
        "id": "097cGRfnuV_V",
        "colab": {
          "base_uri": "https://localhost:8080/"
        },
        "outputId": "4e7f837e-16ea-4287-e4c2-ce4eec8958a0"
      },
      "source": [
        "df['GT'].mean()"
      ],
      "execution_count": null,
      "outputs": [
        {
          "output_type": "execute_result",
          "data": {
            "text/plain": [
              "94.96691588785045"
            ]
          },
          "metadata": {
            "tags": []
          },
          "execution_count": 14
        }
      ]
    },
    {
      "cell_type": "markdown",
      "metadata": {
        "id": "rPOO62XZIm8a"
      },
      "source": [
        "f) What percentage of schools on an average have computer labs?\n"
      ]
    },
    {
      "cell_type": "code",
      "metadata": {
        "id": "__bYHzd5uV_X",
        "colab": {
          "base_uri": "https://localhost:8080/"
        },
        "outputId": "0f96cacb-36d6-4c03-a959-ed887f1b6080"
      },
      "source": [
        "df['CA'].mean()"
      ],
      "execution_count": null,
      "outputs": [
        {
          "output_type": "execute_result",
          "data": {
            "text/plain": [
              "40.40252336448599"
            ]
          },
          "metadata": {
            "tags": []
          },
          "execution_count": 15
        }
      ]
    },
    {
      "cell_type": "markdown",
      "metadata": {
        "id": "QLFRpEM-IwgF"
      },
      "source": [
        "g) Report variance for the above variables"
      ]
    },
    {
      "cell_type": "code",
      "metadata": {
        "id": "WUDRSB_8uV_Y",
        "colab": {
          "base_uri": "https://localhost:8080/"
        },
        "outputId": "dcb812c4-de7b-47df-b086-104bab30afb8"
      },
      "source": [
        "df.var()"
      ],
      "execution_count": null,
      "outputs": [
        {
          "output_type": "execute_result",
          "data": {
            "text/plain": [
              "BT     140.795591\n",
              "EL     949.367115\n",
              "CA     780.806093\n",
              "GT      72.512418\n",
              "DW      63.402027\n",
              "GER    127.656137\n",
              "dtype: float64"
            ]
          },
          "metadata": {
            "tags": []
          },
          "execution_count": 16
        }
      ]
    },
    {
      "cell_type": "code",
      "metadata": {
        "id": "fgHbLE86uV_Z",
        "colab": {
          "base_uri": "https://localhost:8080/"
        },
        "outputId": "eb24a98b-c8d9-43b9-a01e-bc6138b36b4d"
      },
      "source": [
        "D= df['GT']-df['BT']\n",
        "D.mean()"
      ],
      "execution_count": null,
      "outputs": [
        {
          "output_type": "execute_result",
          "data": {
            "text/plain": [
              "3.0424299065420577"
            ]
          },
          "metadata": {
            "tags": []
          },
          "execution_count": 17
        }
      ]
    },
    {
      "cell_type": "markdown",
      "metadata": {
        "id": "Pn5ePHsiJblZ"
      },
      "source": [
        "h) Create a histogram for GER\n"
      ]
    },
    {
      "cell_type": "code",
      "metadata": {
        "colab": {
          "base_uri": "https://localhost:8080/",
          "height": 281
        },
        "id": "vfpyM6FW5dNs",
        "outputId": "ff0cd781-88db-45b2-a0d4-34514808255c"
      },
      "source": [
        "%matplotlib inline\n",
        "import matplotlib.pyplot as plt\n",
        "GER =df['GER']\n",
        "sns.set_style(\"whitegrid\")\n",
        "plt.title(\"Histogram of GER\")\n",
        "plt.hist([GER],color=['red'])\n",
        "plt.show()"
      ],
      "execution_count": null,
      "outputs": [
        {
          "output_type": "display_data",
          "data": {
            "image/png": "[encoded data removed]",
            "text/plain": [
              "<Figure size 432x288 with 1 Axes>"
            ]
          },
          "metadata": {
            "tags": []
          }
        }
      ]
    },
    {
      "cell_type": "markdown",
      "metadata": {
        "id": "3qNTX3qQJMzj"
      },
      "source": [
        "Drinking water availability"
      ]
    },
    {
      "cell_type": "code",
      "metadata": {
        "colab": {
          "base_uri": "https://localhost:8080/",
          "height": 354
        },
        "id": "W8iCsWQP5nEN",
        "outputId": "33e89329-e2a0-46b9-cd5e-f56f4c3f18fb"
      },
      "source": [
        "%matplotlib inline\n",
        "DW=df['DW']\n",
        "sns.set_style(\"whitegrid\")\n",
        "plt.title(\"Histogram of Drinking Water Availability\")\n",
        "plt.hist([DW],color=['blue'])"
      ],
      "execution_count": null,
      "outputs": [
        {
          "output_type": "execute_result",
          "data": {
            "text/plain": [
              "(array([ 3.,  0.,  1.,  0.,  4.,  4.,  1., 11., 14., 69.]),\n",
              " array([ 61.76 ,  65.584,  69.408,  73.232,  77.056,  80.88 ,  84.704,\n",
              "         88.528,  92.352,  96.176, 100.   ]),\n",
              " <a list of 10 Patch objects>)"
            ]
          },
          "metadata": {
            "tags": []
          },
          "execution_count": 19
        },
        {
          "output_type": "display_data",
          "data": {
            "image/png": "[encoded data removed]",
            "text/plain": [
              "<Figure size 432x288 with 1 Axes>"
            ]
          },
          "metadata": {
            "tags": []
          }
        }
      ]
    },
    {
      "cell_type": "markdown",
      "metadata": {
        "id": "Sgp1CuDmJUFi"
      },
      "source": [
        "Difference of boys and girls toilet\n",
        "availability."
      ]
    },
    {
      "cell_type": "code",
      "metadata": {
        "id": "hnOQGPzQuV_i",
        "colab": {
          "base_uri": "https://localhost:8080/",
          "height": 354
        },
        "outputId": "3da48b87-6790-4ae9-9530-e23b5776a3f5"
      },
      "source": [
        "%matplotlib inline\n",
        "D= df['GT']-df['BT']\n",
        "sns.set_style(\"whitegrid\")\n",
        "plt.title(\"Histogram of difference of boys and girls toilet availability\")\n",
        "plt.hist([D],color=['green'])"
      ],
      "execution_count": null,
      "outputs": [
        {
          "output_type": "execute_result",
          "data": {
            "text/plain": [
              "(array([58., 30.,  5.,  6.,  0.,  2.,  2.,  1.,  2.,  1.]),\n",
              " array([-2.76 ,  0.789,  4.338,  7.887, 11.436, 14.985, 18.534, 22.083,\n",
              "        25.632, 29.181, 32.73 ]),\n",
              " <a list of 10 Patch objects>)"
            ]
          },
          "metadata": {
            "tags": []
          },
          "execution_count": 20
        },
        {
          "output_type": "display_data",
          "data": {
            "image/png": "[encoded data removed]",
            "text/plain": [
              "<Figure size 432x288 with 1 Axes>"
            ]
          },
          "metadata": {
            "tags": []
          }
        }
      ]
    },
    {
      "cell_type": "markdown",
      "metadata": {
        "id": "EryLTMmbJmHl"
      },
      "source": [
        "i) Considering your findings from the above exercise, what do you think about the state of\n",
        "school infrastructure and enrollment in India?\n",
        "Answer: GER has improved with the improvisation in infrastructure over time , Technical skill facilities like computer labs accessibility requires more attention for a better awareness and  participation of students.\n",
        "\n"
      ]
    },
    {
      "cell_type": "markdown",
      "metadata": {
        "id": "OdbFyvDcblKs"
      },
      "source": [
        "QUESTION - 2"
      ]
    },
    {
      "cell_type": "code",
      "metadata": {
        "id": "F4H2TRNmuV_m",
        "colab": {
          "base_uri": "https://localhost:8080/"
        },
        "outputId": "3fc6495d-69a5-4ea8-8fc9-7eb15ad44ca4"
      },
      "source": [
        "df1 = pd.read_excel('literacy.xlsx')\n",
        "df1.describe()\n",
        "a=df1['Literacy']\n",
        "b=a.quantile([0])\n",
        "c=a.quantile([0.25])\n",
        "d=a.quantile([0.75])\n",
        "e=a.quantile([1.0])\n",
        "b,c,d,e"
      ],
      "execution_count": null,
      "outputs": [
        {
          "output_type": "execute_result",
          "data": {
            "text/plain": [
              "(0.0    61.8\n",
              " Name: Literacy, dtype: float64, 0.25    71.7125\n",
              " Name: Literacy, dtype: float64, 0.75    85.9\n",
              " Name: Literacy, dtype: float64, 1.0    94.0\n",
              " Name: Literacy, dtype: float64)"
            ]
          },
          "metadata": {
            "tags": []
          },
          "execution_count": 21
        }
      ]
    },
    {
      "cell_type": "code",
      "metadata": {
        "id": "lsn_Enb-uV_n",
        "colab": {
          "base_uri": "https://localhost:8080/",
          "height": 198
        },
        "outputId": "c044aa73-1da7-4eb9-9660-1404104e4c31"
      },
      "source": [
        "import numpy as np\n",
        "\n",
        "conditions = [\n",
        "    (df1['Literacy'] >= 61.8000) & (df1['Literacy'] < 71.7125),\n",
        "    (df1['Literacy'] >= 71.7125) & (df1['Literacy'] < 85.9000),\n",
        "    (df1['Literacy'] >= 85.9000)\n",
        "    ]\n",
        "\n",
        "# create a list of the values we want to assign for each condition\n",
        "values = ['Low','Medium','High']\n",
        "\n",
        "# create a new column and use np.select to assign values to it using our lists as arguments\n",
        "df1['LIT'] = np.select(conditions, values)\n",
        "\n",
        "# display updated DataFrame\n",
        "df1.head()"
      ],
      "execution_count": null,
      "outputs": [
        {
          "output_type": "execute_result",
          "data": {
            "text/html": [
              "<div>\n",
              "<style scoped>\n",
              "    .dataframe tbody tr th:only-of-type {\n",
              "        vertical-align: middle;\n",
              "    }\n",
              "\n",
              "    .dataframe tbody tr th {\n",
              "        vertical-align: top;\n",
              "    }\n",
              "\n",
              "    .dataframe thead th {\n",
              "        text-align: right;\n",
              "    }\n",
              "</style>\n",
              "<table border=\"1\" class=\"dataframe\">\n",
              "  <thead>\n",
              "    <tr style=\"text-align: right;\">\n",
              "      <th></th>\n",
              "      <th>State</th>\n",
              "      <th>Literacy</th>\n",
              "      <th>Male</th>\n",
              "      <th>Female</th>\n",
              "      <th>% Change</th>\n",
              "      <th>LIT</th>\n",
              "    </tr>\n",
              "  </thead>\n",
              "  <tbody>\n",
              "    <tr>\n",
              "      <th>0</th>\n",
              "      <td>India</td>\n",
              "      <td>74.04</td>\n",
              "      <td>82.14</td>\n",
              "      <td>65.46</td>\n",
              "      <td>8.66</td>\n",
              "      <td>Medium</td>\n",
              "    </tr>\n",
              "    <tr>\n",
              "      <th>1</th>\n",
              "      <td>Kerala</td>\n",
              "      <td>94.00</td>\n",
              "      <td>96.11</td>\n",
              "      <td>92.07</td>\n",
              "      <td>3.14</td>\n",
              "      <td>High</td>\n",
              "    </tr>\n",
              "    <tr>\n",
              "      <th>2</th>\n",
              "      <td>Lakshadweep</td>\n",
              "      <td>91.85</td>\n",
              "      <td>95.56</td>\n",
              "      <td>87.95</td>\n",
              "      <td>5.19</td>\n",
              "      <td>High</td>\n",
              "    </tr>\n",
              "    <tr>\n",
              "      <th>3</th>\n",
              "      <td>Mizoram</td>\n",
              "      <td>91.33</td>\n",
              "      <td>93.35</td>\n",
              "      <td>89.27</td>\n",
              "      <td>2.53</td>\n",
              "      <td>High</td>\n",
              "    </tr>\n",
              "    <tr>\n",
              "      <th>4</th>\n",
              "      <td>Goa</td>\n",
              "      <td>88.70</td>\n",
              "      <td>92.65</td>\n",
              "      <td>84.66</td>\n",
              "      <td>6.69</td>\n",
              "      <td>High</td>\n",
              "    </tr>\n",
              "  </tbody>\n",
              "</table>\n",
              "</div>"
            ],
            "text/plain": [
              "         State  Literacy   Male  Female  % Change     LIT\n",
              "0        India     74.04  82.14   65.46      8.66  Medium\n",
              "1       Kerala     94.00  96.11   92.07      3.14    High\n",
              "2  Lakshadweep     91.85  95.56   87.95      5.19    High\n",
              "3      Mizoram     91.33  93.35   89.27      2.53    High\n",
              "4          Goa     88.70  92.65   84.66      6.69    High"
            ]
          },
          "metadata": {
            "tags": []
          },
          "execution_count": 22
        }
      ]
    },
    {
      "cell_type": "markdown",
      "metadata": {
        "id": "lARE-piGKB0P"
      },
      "source": [
        " a) Find mean GER, mean boys toilet availability, girls toilet availability, drinking water availability, electricity availability for these three groups."
      ]
    },
    {
      "cell_type": "code",
      "metadata": {
        "id": "EjgSHkvQuV_q",
        "colab": {
          "base_uri": "https://localhost:8080/",
          "height": 1000
        },
        "outputId": "c78f7780-fecb-46dd-f9c5-d21e6ca4d35b"
      },
      "source": [
        "df2 = df.groupby(\"STATE\").agg({\"GER\":['mean'],\"BT\":['mean'],\"EL\":['mean'],\"CA\":['mean'],\"GT\":['mean'],\"DW\":['mean']})\n",
        "df2"
      ],
      "execution_count": null,
      "outputs": [
        {
          "output_type": "execute_result",
          "data": {
            "text/html": [
              "<div>\n",
              "<style scoped>\n",
              "    .dataframe tbody tr th:only-of-type {\n",
              "        vertical-align: middle;\n",
              "    }\n",
              "\n",
              "    .dataframe tbody tr th {\n",
              "        vertical-align: top;\n",
              "    }\n",
              "\n",
              "    .dataframe thead tr th {\n",
              "        text-align: left;\n",
              "    }\n",
              "\n",
              "    .dataframe thead tr:last-of-type th {\n",
              "        text-align: right;\n",
              "    }\n",
              "</style>\n",
              "<table border=\"1\" class=\"dataframe\">\n",
              "  <thead>\n",
              "    <tr>\n",
              "      <th></th>\n",
              "      <th>GER</th>\n",
              "      <th>BT</th>\n",
              "      <th>EL</th>\n",
              "      <th>CA</th>\n",
              "      <th>GT</th>\n",
              "      <th>DW</th>\n",
              "    </tr>\n",
              "    <tr>\n",
              "      <th></th>\n",
              "      <th>mean</th>\n",
              "      <th>mean</th>\n",
              "      <th>mean</th>\n",
              "      <th>mean</th>\n",
              "      <th>mean</th>\n",
              "      <th>mean</th>\n",
              "    </tr>\n",
              "    <tr>\n",
              "      <th>STATE</th>\n",
              "      <th></th>\n",
              "      <th></th>\n",
              "      <th></th>\n",
              "      <th></th>\n",
              "      <th></th>\n",
              "      <th></th>\n",
              "    </tr>\n",
              "  </thead>\n",
              "  <tbody>\n",
              "    <tr>\n",
              "      <th>Andaman &amp; Nicobar Islands</th>\n",
              "      <td>89.880000</td>\n",
              "      <td>98.173333</td>\n",
              "      <td>89.283333</td>\n",
              "      <td>55.770000</td>\n",
              "      <td>97.813333</td>\n",
              "      <td>99.403333</td>\n",
              "    </tr>\n",
              "    <tr>\n",
              "      <th>Andhra Pradesh</th>\n",
              "      <td>76.210000</td>\n",
              "      <td>73.970000</td>\n",
              "      <td>92.200000</td>\n",
              "      <td>29.406667</td>\n",
              "      <td>93.033333</td>\n",
              "      <td>93.153333</td>\n",
              "    </tr>\n",
              "    <tr>\n",
              "      <th>Arunachal Pradesh</th>\n",
              "      <td>105.082222</td>\n",
              "      <td>80.116667</td>\n",
              "      <td>38.163333</td>\n",
              "      <td>24.440000</td>\n",
              "      <td>90.116667</td>\n",
              "      <td>80.633333</td>\n",
              "    </tr>\n",
              "    <tr>\n",
              "      <th>Assam</th>\n",
              "      <td>80.251111</td>\n",
              "      <td>65.923333</td>\n",
              "      <td>22.446667</td>\n",
              "      <td>9.813333</td>\n",
              "      <td>78.026667</td>\n",
              "      <td>83.290000</td>\n",
              "    </tr>\n",
              "    <tr>\n",
              "      <th>Bihar</th>\n",
              "      <td>76.781111</td>\n",
              "      <td>78.833333</td>\n",
              "      <td>24.320000</td>\n",
              "      <td>7.676667</td>\n",
              "      <td>80.586667</td>\n",
              "      <td>93.233333</td>\n",
              "    </tr>\n",
              "    <tr>\n",
              "      <th>Chandigarh</th>\n",
              "      <td>91.207778</td>\n",
              "      <td>100.000000</td>\n",
              "      <td>100.000000</td>\n",
              "      <td>95.263333</td>\n",
              "      <td>100.000000</td>\n",
              "      <td>100.000000</td>\n",
              "    </tr>\n",
              "    <tr>\n",
              "      <th>Chhattisgarh</th>\n",
              "      <td>87.326667</td>\n",
              "      <td>85.803333</td>\n",
              "      <td>65.606667</td>\n",
              "      <td>11.460000</td>\n",
              "      <td>95.086667</td>\n",
              "      <td>97.186667</td>\n",
              "    </tr>\n",
              "    <tr>\n",
              "      <th>Dadra &amp; Nagar Haveli</th>\n",
              "      <td>72.934444</td>\n",
              "      <td>93.623333</td>\n",
              "      <td>98.446667</td>\n",
              "      <td>40.320000</td>\n",
              "      <td>97.830000</td>\n",
              "      <td>100.000000</td>\n",
              "    </tr>\n",
              "    <tr>\n",
              "      <th>Daman &amp; Diu</th>\n",
              "      <td>67.712222</td>\n",
              "      <td>100.000000</td>\n",
              "      <td>100.000000</td>\n",
              "      <td>63.820000</td>\n",
              "      <td>100.000000</td>\n",
              "      <td>100.000000</td>\n",
              "    </tr>\n",
              "    <tr>\n",
              "      <th>Delhi</th>\n",
              "      <td>108.816667</td>\n",
              "      <td>100.000000</td>\n",
              "      <td>100.000000</td>\n",
              "      <td>82.150000</td>\n",
              "      <td>100.000000</td>\n",
              "      <td>100.000000</td>\n",
              "    </tr>\n",
              "    <tr>\n",
              "      <th>Goa</th>\n",
              "      <td>93.370000</td>\n",
              "      <td>92.640000</td>\n",
              "      <td>98.920000</td>\n",
              "      <td>42.953333</td>\n",
              "      <td>99.243333</td>\n",
              "      <td>99.280000</td>\n",
              "    </tr>\n",
              "    <tr>\n",
              "      <th>Gujarat</th>\n",
              "      <td>79.345556</td>\n",
              "      <td>98.756667</td>\n",
              "      <td>99.723333</td>\n",
              "      <td>74.266667</td>\n",
              "      <td>99.840000</td>\n",
              "      <td>99.933333</td>\n",
              "    </tr>\n",
              "    <tr>\n",
              "      <th>Haryana</th>\n",
              "      <td>84.986667</td>\n",
              "      <td>97.230000</td>\n",
              "      <td>98.866667</td>\n",
              "      <td>45.696667</td>\n",
              "      <td>98.583333</td>\n",
              "      <td>99.843333</td>\n",
              "    </tr>\n",
              "    <tr>\n",
              "      <th>Himachal Pradesh</th>\n",
              "      <td>100.022222</td>\n",
              "      <td>96.603333</td>\n",
              "      <td>95.120000</td>\n",
              "      <td>24.113333</td>\n",
              "      <td>98.270000</td>\n",
              "      <td>99.333333</td>\n",
              "    </tr>\n",
              "    <tr>\n",
              "      <th>Jammu And Kashmir</th>\n",
              "      <td>71.070000</td>\n",
              "      <td>77.746667</td>\n",
              "      <td>26.943333</td>\n",
              "      <td>17.536667</td>\n",
              "      <td>83.206667</td>\n",
              "      <td>91.040000</td>\n",
              "    </tr>\n",
              "    <tr>\n",
              "      <th>Jharkhand</th>\n",
              "      <td>85.196667</td>\n",
              "      <td>89.436667</td>\n",
              "      <td>17.926667</td>\n",
              "      <td>9.643333</td>\n",
              "      <td>90.583333</td>\n",
              "      <td>92.293333</td>\n",
              "    </tr>\n",
              "    <tr>\n",
              "      <th>Karnataka</th>\n",
              "      <td>75.041111</td>\n",
              "      <td>99.476667</td>\n",
              "      <td>97.513333</td>\n",
              "      <td>37.760000</td>\n",
              "      <td>99.690000</td>\n",
              "      <td>99.750000</td>\n",
              "    </tr>\n",
              "    <tr>\n",
              "      <th>Kerala</th>\n",
              "      <td>90.955556</td>\n",
              "      <td>97.336667</td>\n",
              "      <td>96.850000</td>\n",
              "      <td>93.633333</td>\n",
              "      <td>98.110000</td>\n",
              "      <td>99.546667</td>\n",
              "    </tr>\n",
              "    <tr>\n",
              "      <th>Lakshadweep</th>\n",
              "      <td>86.662222</td>\n",
              "      <td>100.000000</td>\n",
              "      <td>100.000000</td>\n",
              "      <td>100.000000</td>\n",
              "      <td>100.000000</td>\n",
              "      <td>100.000000</td>\n",
              "    </tr>\n",
              "    <tr>\n",
              "      <th>Madhya Pradesh</th>\n",
              "      <td>81.542222</td>\n",
              "      <td>92.840000</td>\n",
              "      <td>28.453333</td>\n",
              "      <td>14.260000</td>\n",
              "      <td>93.086667</td>\n",
              "      <td>96.243333</td>\n",
              "    </tr>\n",
              "    <tr>\n",
              "      <th>Maharashtra</th>\n",
              "      <td>86.670000</td>\n",
              "      <td>98.886667</td>\n",
              "      <td>93.540000</td>\n",
              "      <td>56.503333</td>\n",
              "      <td>99.053333</td>\n",
              "      <td>99.563333</td>\n",
              "    </tr>\n",
              "    <tr>\n",
              "      <th>Manipur</th>\n",
              "      <td>107.984444</td>\n",
              "      <td>96.300000</td>\n",
              "      <td>33.633333</td>\n",
              "      <td>25.986667</td>\n",
              "      <td>97.473333</td>\n",
              "      <td>92.436667</td>\n",
              "    </tr>\n",
              "    <tr>\n",
              "      <th>Meghalaya</th>\n",
              "      <td>98.428889</td>\n",
              "      <td>68.196667</td>\n",
              "      <td>26.583333</td>\n",
              "      <td>10.453333</td>\n",
              "      <td>66.386667</td>\n",
              "      <td>63.103333</td>\n",
              "    </tr>\n",
              "    <tr>\n",
              "      <th>Mizoram</th>\n",
              "      <td>103.290000</td>\n",
              "      <td>89.523333</td>\n",
              "      <td>75.070000</td>\n",
              "      <td>30.823333</td>\n",
              "      <td>99.570000</td>\n",
              "      <td>92.906667</td>\n",
              "    </tr>\n",
              "    <tr>\n",
              "      <th>Nagaland</th>\n",
              "      <td>80.500000</td>\n",
              "      <td>93.743333</td>\n",
              "      <td>43.900000</td>\n",
              "      <td>36.923333</td>\n",
              "      <td>98.780000</td>\n",
              "      <td>77.523333</td>\n",
              "    </tr>\n",
              "    <tr>\n",
              "      <th>Odisha</th>\n",
              "      <td>69.136667</td>\n",
              "      <td>84.270000</td>\n",
              "      <td>30.213333</td>\n",
              "      <td>13.110000</td>\n",
              "      <td>90.466667</td>\n",
              "      <td>98.090000</td>\n",
              "    </tr>\n",
              "    <tr>\n",
              "      <th>Puducherry</th>\n",
              "      <td>84.078889</td>\n",
              "      <td>99.903333</td>\n",
              "      <td>100.000000</td>\n",
              "      <td>98.066667</td>\n",
              "      <td>100.000000</td>\n",
              "      <td>99.910000</td>\n",
              "    </tr>\n",
              "    <tr>\n",
              "      <th>Punjab</th>\n",
              "      <td>90.475556</td>\n",
              "      <td>97.996667</td>\n",
              "      <td>99.893333</td>\n",
              "      <td>52.426667</td>\n",
              "      <td>98.906667</td>\n",
              "      <td>99.906667</td>\n",
              "    </tr>\n",
              "    <tr>\n",
              "      <th>Rajasthan</th>\n",
              "      <td>81.234444</td>\n",
              "      <td>97.376667</td>\n",
              "      <td>54.673333</td>\n",
              "      <td>27.393333</td>\n",
              "      <td>98.523333</td>\n",
              "      <td>96.743333</td>\n",
              "    </tr>\n",
              "    <tr>\n",
              "      <th>Sikkim</th>\n",
              "      <td>107.707778</td>\n",
              "      <td>98.346667</td>\n",
              "      <td>74.663333</td>\n",
              "      <td>57.416667</td>\n",
              "      <td>99.330000</td>\n",
              "      <td>97.620000</td>\n",
              "    </tr>\n",
              "    <tr>\n",
              "      <th>Tamil Nadu</th>\n",
              "      <td>92.428889</td>\n",
              "      <td>96.650000</td>\n",
              "      <td>98.416667</td>\n",
              "      <td>56.346667</td>\n",
              "      <td>98.840000</td>\n",
              "      <td>99.923333</td>\n",
              "    </tr>\n",
              "    <tr>\n",
              "      <th>Telangana</th>\n",
              "      <td>84.423333</td>\n",
              "      <td>86.695000</td>\n",
              "      <td>91.315000</td>\n",
              "      <td>36.705000</td>\n",
              "      <td>96.050000</td>\n",
              "      <td>93.800000</td>\n",
              "    </tr>\n",
              "    <tr>\n",
              "      <th>Tripura</th>\n",
              "      <td>91.293333</td>\n",
              "      <td>96.760000</td>\n",
              "      <td>27.763333</td>\n",
              "      <td>14.053333</td>\n",
              "      <td>96.290000</td>\n",
              "      <td>87.766667</td>\n",
              "    </tr>\n",
              "    <tr>\n",
              "      <th>Uttar Pradesh</th>\n",
              "      <td>76.905556</td>\n",
              "      <td>98.496667</td>\n",
              "      <td>53.346667</td>\n",
              "      <td>12.383333</td>\n",
              "      <td>99.060000</td>\n",
              "      <td>98.490000</td>\n",
              "    </tr>\n",
              "    <tr>\n",
              "      <th>Uttarakhand</th>\n",
              "      <td>87.985556</td>\n",
              "      <td>96.200000</td>\n",
              "      <td>76.600000</td>\n",
              "      <td>32.826667</td>\n",
              "      <td>96.403333</td>\n",
              "      <td>95.763333</td>\n",
              "    </tr>\n",
              "    <tr>\n",
              "      <th>West Bengal</th>\n",
              "      <td>85.271111</td>\n",
              "      <td>89.683333</td>\n",
              "      <td>58.200000</td>\n",
              "      <td>11.856667</td>\n",
              "      <td>90.930000</td>\n",
              "      <td>98.033333</td>\n",
              "    </tr>\n",
              "  </tbody>\n",
              "</table>\n",
              "</div>"
            ],
            "text/plain": [
              "                                  GER          BT  ...          GT          DW\n",
              "                                 mean        mean  ...        mean        mean\n",
              "STATE                                              ...                        \n",
              "Andaman & Nicobar Islands   89.880000   98.173333  ...   97.813333   99.403333\n",
              "Andhra Pradesh              76.210000   73.970000  ...   93.033333   93.153333\n",
              "Arunachal Pradesh          105.082222   80.116667  ...   90.116667   80.633333\n",
              "Assam                       80.251111   65.923333  ...   78.026667   83.290000\n",
              "Bihar                       76.781111   78.833333  ...   80.586667   93.233333\n",
              "Chandigarh                  91.207778  100.000000  ...  100.000000  100.000000\n",
              "Chhattisgarh                87.326667   85.803333  ...   95.086667   97.186667\n",
              "Dadra & Nagar Haveli        72.934444   93.623333  ...   97.830000  100.000000\n",
              "Daman & Diu                 67.712222  100.000000  ...  100.000000  100.000000\n",
              "Delhi                      108.816667  100.000000  ...  100.000000  100.000000\n",
              "Goa                         93.370000   92.640000  ...   99.243333   99.280000\n",
              "Gujarat                     79.345556   98.756667  ...   99.840000   99.933333\n",
              "Haryana                     84.986667   97.230000  ...   98.583333   99.843333\n",
              "Himachal Pradesh           100.022222   96.603333  ...   98.270000   99.333333\n",
              "Jammu And Kashmir           71.070000   77.746667  ...   83.206667   91.040000\n",
              "Jharkhand                   85.196667   89.436667  ...   90.583333   92.293333\n",
              "Karnataka                   75.041111   99.476667  ...   99.690000   99.750000\n",
              "Kerala                      90.955556   97.336667  ...   98.110000   99.546667\n",
              "Lakshadweep                 86.662222  100.000000  ...  100.000000  100.000000\n",
              "Madhya Pradesh              81.542222   92.840000  ...   93.086667   96.243333\n",
              "Maharashtra                 86.670000   98.886667  ...   99.053333   99.563333\n",
              "Manipur                    107.984444   96.300000  ...   97.473333   92.436667\n",
              "Meghalaya                   98.428889   68.196667  ...   66.386667   63.103333\n",
              "Mizoram                    103.290000   89.523333  ...   99.570000   92.906667\n",
              "Nagaland                    80.500000   93.743333  ...   98.780000   77.523333\n",
              "Odisha                      69.136667   84.270000  ...   90.466667   98.090000\n",
              "Puducherry                  84.078889   99.903333  ...  100.000000   99.910000\n",
              "Punjab                      90.475556   97.996667  ...   98.906667   99.906667\n",
              "Rajasthan                   81.234444   97.376667  ...   98.523333   96.743333\n",
              "Sikkim                     107.707778   98.346667  ...   99.330000   97.620000\n",
              "Tamil Nadu                  92.428889   96.650000  ...   98.840000   99.923333\n",
              "Telangana                   84.423333   86.695000  ...   96.050000   93.800000\n",
              "Tripura                     91.293333   96.760000  ...   96.290000   87.766667\n",
              "Uttar Pradesh               76.905556   98.496667  ...   99.060000   98.490000\n",
              "Uttarakhand                 87.985556   96.200000  ...   96.403333   95.763333\n",
              "West Bengal                 85.271111   89.683333  ...   90.930000   98.033333\n",
              "\n",
              "[36 rows x 6 columns]"
            ]
          },
          "metadata": {
            "tags": []
          },
          "execution_count": 23
        }
      ]
    },
    {
      "cell_type": "code",
      "metadata": {
        "id": "-kTFd5ftuV_r"
      },
      "source": [
        "def preprocess(x):\n",
        " x= x.replace('&' ,'and')\n",
        " x= x.replace(' And' ,' and')\n",
        " x= x.replace('Telangana' ,'Andhra Pradesh')\n",
        " x= x.replace('Odisha','Orissa')\n",
        " return x\n",
        "df_state = df\n",
        "df_state.STATE = df_state.STATE.apply(preprocess)\n",
        "df_state = df_state.groupby('STATE').mean()"
      ],
      "execution_count": null,
      "outputs": []
    },
    {
      "cell_type": "code",
      "metadata": {
        "id": "VK5AAnxBuV_r",
        "colab": {
          "base_uri": "https://localhost:8080/",
          "height": 1000
        },
        "outputId": "5cdbeccc-4cd5-495d-e414-8a1386122319"
      },
      "source": [
        "df1 = df1.set_index('State')\n",
        "df1"
      ],
      "execution_count": null,
      "outputs": [
        {
          "output_type": "execute_result",
          "data": {
            "text/html": [
              "<div>\n",
              "<style scoped>\n",
              "    .dataframe tbody tr th:only-of-type {\n",
              "        vertical-align: middle;\n",
              "    }\n",
              "\n",
              "    .dataframe tbody tr th {\n",
              "        vertical-align: top;\n",
              "    }\n",
              "\n",
              "    .dataframe thead th {\n",
              "        text-align: right;\n",
              "    }\n",
              "</style>\n",
              "<table border=\"1\" class=\"dataframe\">\n",
              "  <thead>\n",
              "    <tr style=\"text-align: right;\">\n",
              "      <th></th>\n",
              "      <th>Literacy</th>\n",
              "      <th>Male</th>\n",
              "      <th>Female</th>\n",
              "      <th>% Change</th>\n",
              "      <th>LIT</th>\n",
              "    </tr>\n",
              "    <tr>\n",
              "      <th>State</th>\n",
              "      <th></th>\n",
              "      <th></th>\n",
              "      <th></th>\n",
              "      <th></th>\n",
              "      <th></th>\n",
              "    </tr>\n",
              "  </thead>\n",
              "  <tbody>\n",
              "    <tr>\n",
              "      <th>India</th>\n",
              "      <td>74.04</td>\n",
              "      <td>82.14</td>\n",
              "      <td>65.46</td>\n",
              "      <td>8.66</td>\n",
              "      <td>Medium</td>\n",
              "    </tr>\n",
              "    <tr>\n",
              "      <th>Kerala</th>\n",
              "      <td>94.00</td>\n",
              "      <td>96.11</td>\n",
              "      <td>92.07</td>\n",
              "      <td>3.14</td>\n",
              "      <td>High</td>\n",
              "    </tr>\n",
              "    <tr>\n",
              "      <th>Lakshadweep</th>\n",
              "      <td>91.85</td>\n",
              "      <td>95.56</td>\n",
              "      <td>87.95</td>\n",
              "      <td>5.19</td>\n",
              "      <td>High</td>\n",
              "    </tr>\n",
              "    <tr>\n",
              "      <th>Mizoram</th>\n",
              "      <td>91.33</td>\n",
              "      <td>93.35</td>\n",
              "      <td>89.27</td>\n",
              "      <td>2.53</td>\n",
              "      <td>High</td>\n",
              "    </tr>\n",
              "    <tr>\n",
              "      <th>Goa</th>\n",
              "      <td>88.70</td>\n",
              "      <td>92.65</td>\n",
              "      <td>84.66</td>\n",
              "      <td>6.69</td>\n",
              "      <td>High</td>\n",
              "    </tr>\n",
              "    <tr>\n",
              "      <th>Tripura</th>\n",
              "      <td>87.22</td>\n",
              "      <td>91.53</td>\n",
              "      <td>82.73</td>\n",
              "      <td>14.03</td>\n",
              "      <td>High</td>\n",
              "    </tr>\n",
              "    <tr>\n",
              "      <th>Daman and Diu</th>\n",
              "      <td>87.10</td>\n",
              "      <td>91.54</td>\n",
              "      <td>79.55</td>\n",
              "      <td>8.92</td>\n",
              "      <td>High</td>\n",
              "    </tr>\n",
              "    <tr>\n",
              "      <th>Andaman and Nicobar Islands</th>\n",
              "      <td>86.63</td>\n",
              "      <td>90.27</td>\n",
              "      <td>82.43</td>\n",
              "      <td>5.33</td>\n",
              "      <td>High</td>\n",
              "    </tr>\n",
              "    <tr>\n",
              "      <th>Delhi</th>\n",
              "      <td>86.21</td>\n",
              "      <td>90.94</td>\n",
              "      <td>80.76</td>\n",
              "      <td>4.54</td>\n",
              "      <td>High</td>\n",
              "    </tr>\n",
              "    <tr>\n",
              "      <th>Chandigarh</th>\n",
              "      <td>86.05</td>\n",
              "      <td>89.99</td>\n",
              "      <td>81.19</td>\n",
              "      <td>4.11</td>\n",
              "      <td>High</td>\n",
              "    </tr>\n",
              "    <tr>\n",
              "      <th>Puducherry</th>\n",
              "      <td>85.85</td>\n",
              "      <td>91.26</td>\n",
              "      <td>80.67</td>\n",
              "      <td>4.61</td>\n",
              "      <td>Medium</td>\n",
              "    </tr>\n",
              "    <tr>\n",
              "      <th>Himachal Pradesh</th>\n",
              "      <td>82.80</td>\n",
              "      <td>89.53</td>\n",
              "      <td>75.93</td>\n",
              "      <td>6.32</td>\n",
              "      <td>Medium</td>\n",
              "    </tr>\n",
              "    <tr>\n",
              "      <th>Maharashtra</th>\n",
              "      <td>82.34</td>\n",
              "      <td>88.38</td>\n",
              "      <td>75.87</td>\n",
              "      <td>5.46</td>\n",
              "      <td>Medium</td>\n",
              "    </tr>\n",
              "    <tr>\n",
              "      <th>Sikkim</th>\n",
              "      <td>81.42</td>\n",
              "      <td>86.55</td>\n",
              "      <td>75.61</td>\n",
              "      <td>12.61</td>\n",
              "      <td>Medium</td>\n",
              "    </tr>\n",
              "    <tr>\n",
              "      <th>Tamil Nadu</th>\n",
              "      <td>80.09</td>\n",
              "      <td>86.77</td>\n",
              "      <td>73.44</td>\n",
              "      <td>6.64</td>\n",
              "      <td>Medium</td>\n",
              "    </tr>\n",
              "    <tr>\n",
              "      <th>Nagaland</th>\n",
              "      <td>79.55</td>\n",
              "      <td>82.75</td>\n",
              "      <td>76.11</td>\n",
              "      <td>12.96</td>\n",
              "      <td>Medium</td>\n",
              "    </tr>\n",
              "    <tr>\n",
              "      <th>Uttarakhand</th>\n",
              "      <td>78.82</td>\n",
              "      <td>87.40</td>\n",
              "      <td>70.01</td>\n",
              "      <td>7.20</td>\n",
              "      <td>Medium</td>\n",
              "    </tr>\n",
              "    <tr>\n",
              "      <th>Gujarat</th>\n",
              "      <td>78.03</td>\n",
              "      <td>85.75</td>\n",
              "      <td>69.68</td>\n",
              "      <td>8.89</td>\n",
              "      <td>Medium</td>\n",
              "    </tr>\n",
              "    <tr>\n",
              "      <th>Manipur</th>\n",
              "      <td>76.94</td>\n",
              "      <td>83.58</td>\n",
              "      <td>70.26</td>\n",
              "      <td>10.33</td>\n",
              "      <td>Medium</td>\n",
              "    </tr>\n",
              "    <tr>\n",
              "      <th>West Bengal</th>\n",
              "      <td>76.26</td>\n",
              "      <td>81.69</td>\n",
              "      <td>70.54</td>\n",
              "      <td>7.62</td>\n",
              "      <td>Medium</td>\n",
              "    </tr>\n",
              "    <tr>\n",
              "      <th>Dadra and Nagar Haveli</th>\n",
              "      <td>76.24</td>\n",
              "      <td>85.17</td>\n",
              "      <td>64.32</td>\n",
              "      <td>18.61</td>\n",
              "      <td>Medium</td>\n",
              "    </tr>\n",
              "    <tr>\n",
              "      <th>Punjab</th>\n",
              "      <td>75.84</td>\n",
              "      <td>80.44</td>\n",
              "      <td>70.73</td>\n",
              "      <td>6.19</td>\n",
              "      <td>Medium</td>\n",
              "    </tr>\n",
              "    <tr>\n",
              "      <th>Haryana</th>\n",
              "      <td>75.55</td>\n",
              "      <td>84.06</td>\n",
              "      <td>65.94</td>\n",
              "      <td>7.64</td>\n",
              "      <td>Medium</td>\n",
              "    </tr>\n",
              "    <tr>\n",
              "      <th>Karnataka</th>\n",
              "      <td>75.36</td>\n",
              "      <td>82.47</td>\n",
              "      <td>68.08</td>\n",
              "      <td>8.72</td>\n",
              "      <td>Medium</td>\n",
              "    </tr>\n",
              "    <tr>\n",
              "      <th>Meghalaya</th>\n",
              "      <td>74.43</td>\n",
              "      <td>75.95</td>\n",
              "      <td>72.89</td>\n",
              "      <td>11.87</td>\n",
              "      <td>Medium</td>\n",
              "    </tr>\n",
              "    <tr>\n",
              "      <th>Orissa</th>\n",
              "      <td>72.87</td>\n",
              "      <td>81.59</td>\n",
              "      <td>64.01</td>\n",
              "      <td>9.79</td>\n",
              "      <td>Medium</td>\n",
              "    </tr>\n",
              "    <tr>\n",
              "      <th>Assam</th>\n",
              "      <td>72.19</td>\n",
              "      <td>77.85</td>\n",
              "      <td>66.27</td>\n",
              "      <td>8.94</td>\n",
              "      <td>Medium</td>\n",
              "    </tr>\n",
              "    <tr>\n",
              "      <th>Chhattisgarh</th>\n",
              "      <td>70.28</td>\n",
              "      <td>80.27</td>\n",
              "      <td>60.24</td>\n",
              "      <td>5.62</td>\n",
              "      <td>Low</td>\n",
              "    </tr>\n",
              "    <tr>\n",
              "      <th>Madhya Pradesh</th>\n",
              "      <td>69.32</td>\n",
              "      <td>78.73</td>\n",
              "      <td>59.24</td>\n",
              "      <td>5.58</td>\n",
              "      <td>Low</td>\n",
              "    </tr>\n",
              "    <tr>\n",
              "      <th>Uttar Pradesh</th>\n",
              "      <td>67.68</td>\n",
              "      <td>77.28</td>\n",
              "      <td>57.18</td>\n",
              "      <td>11.41</td>\n",
              "      <td>Low</td>\n",
              "    </tr>\n",
              "    <tr>\n",
              "      <th>Jammu and Kashmir</th>\n",
              "      <td>67.16</td>\n",
              "      <td>76.75</td>\n",
              "      <td>56.43</td>\n",
              "      <td>11.64</td>\n",
              "      <td>Low</td>\n",
              "    </tr>\n",
              "    <tr>\n",
              "      <th>Andhra Pradesh</th>\n",
              "      <td>67.02</td>\n",
              "      <td>74.88</td>\n",
              "      <td>59.15</td>\n",
              "      <td>6.55</td>\n",
              "      <td>Low</td>\n",
              "    </tr>\n",
              "    <tr>\n",
              "      <th>Jharkhand</th>\n",
              "      <td>66.41</td>\n",
              "      <td>76.84</td>\n",
              "      <td>55.42</td>\n",
              "      <td>12.85</td>\n",
              "      <td>Low</td>\n",
              "    </tr>\n",
              "    <tr>\n",
              "      <th>Rajasthan</th>\n",
              "      <td>66.11</td>\n",
              "      <td>79.19</td>\n",
              "      <td>52.12</td>\n",
              "      <td>5.70</td>\n",
              "      <td>Low</td>\n",
              "    </tr>\n",
              "    <tr>\n",
              "      <th>Arunachal Pradesh</th>\n",
              "      <td>65.38</td>\n",
              "      <td>72.55</td>\n",
              "      <td>57.70</td>\n",
              "      <td>11.04</td>\n",
              "      <td>Low</td>\n",
              "    </tr>\n",
              "    <tr>\n",
              "      <th>Bihar</th>\n",
              "      <td>61.80</td>\n",
              "      <td>71.20</td>\n",
              "      <td>51.50</td>\n",
              "      <td>14.80</td>\n",
              "      <td>Low</td>\n",
              "    </tr>\n",
              "  </tbody>\n",
              "</table>\n",
              "</div>"
            ],
            "text/plain": [
              "                             Literacy   Male  Female  % Change     LIT\n",
              "State                                                                 \n",
              "India                           74.04  82.14   65.46      8.66  Medium\n",
              "Kerala                          94.00  96.11   92.07      3.14    High\n",
              "Lakshadweep                     91.85  95.56   87.95      5.19    High\n",
              "Mizoram                         91.33  93.35   89.27      2.53    High\n",
              "Goa                             88.70  92.65   84.66      6.69    High\n",
              "Tripura                         87.22  91.53   82.73     14.03    High\n",
              "Daman and Diu                   87.10  91.54   79.55      8.92    High\n",
              "Andaman and Nicobar Islands     86.63  90.27   82.43      5.33    High\n",
              "Delhi                           86.21  90.94   80.76      4.54    High\n",
              "Chandigarh                      86.05  89.99   81.19      4.11    High\n",
              "Puducherry                      85.85  91.26   80.67      4.61  Medium\n",
              "Himachal Pradesh                82.80  89.53   75.93      6.32  Medium\n",
              "Maharashtra                     82.34  88.38   75.87      5.46  Medium\n",
              "Sikkim                          81.42  86.55   75.61     12.61  Medium\n",
              "Tamil Nadu                      80.09  86.77   73.44      6.64  Medium\n",
              "Nagaland                        79.55  82.75   76.11     12.96  Medium\n",
              "Uttarakhand                     78.82  87.40   70.01      7.20  Medium\n",
              "Gujarat                         78.03  85.75   69.68      8.89  Medium\n",
              "Manipur                         76.94  83.58   70.26     10.33  Medium\n",
              "West Bengal                     76.26  81.69   70.54      7.62  Medium\n",
              "Dadra and Nagar Haveli          76.24  85.17   64.32     18.61  Medium\n",
              "Punjab                          75.84  80.44   70.73      6.19  Medium\n",
              "Haryana                         75.55  84.06   65.94      7.64  Medium\n",
              "Karnataka                       75.36  82.47   68.08      8.72  Medium\n",
              "Meghalaya                       74.43  75.95   72.89     11.87  Medium\n",
              "Orissa                          72.87  81.59   64.01      9.79  Medium\n",
              "Assam                           72.19  77.85   66.27      8.94  Medium\n",
              "Chhattisgarh                    70.28  80.27   60.24      5.62     Low\n",
              "Madhya Pradesh                  69.32  78.73   59.24      5.58     Low\n",
              "Uttar Pradesh                   67.68  77.28   57.18     11.41     Low\n",
              "Jammu and Kashmir               67.16  76.75   56.43     11.64     Low\n",
              "Andhra Pradesh                  67.02  74.88   59.15      6.55     Low\n",
              "Jharkhand                       66.41  76.84   55.42     12.85     Low\n",
              "Rajasthan                       66.11  79.19   52.12      5.70     Low\n",
              "Arunachal Pradesh               65.38  72.55   57.70     11.04     Low\n",
              "Bihar                           61.80  71.20   51.50     14.80     Low"
            ]
          },
          "metadata": {
            "tags": []
          },
          "execution_count": 25
        }
      ]
    },
    {
      "cell_type": "code",
      "metadata": {
        "colab": {
          "base_uri": "https://localhost:8080/",
          "height": 437
        },
        "id": "CTQOWI_YpCet",
        "outputId": "74d9219c-38ac-4651-8199-b15707820588"
      },
      "source": [
        "df = df.set_index('STATE')\n",
        "df"
      ],
      "execution_count": null,
      "outputs": [
        {
          "output_type": "execute_result",
          "data": {
            "text/html": [
              "<div>\n",
              "<style scoped>\n",
              "    .dataframe tbody tr th:only-of-type {\n",
              "        vertical-align: middle;\n",
              "    }\n",
              "\n",
              "    .dataframe tbody tr th {\n",
              "        vertical-align: top;\n",
              "    }\n",
              "\n",
              "    .dataframe thead th {\n",
              "        text-align: right;\n",
              "    }\n",
              "</style>\n",
              "<table border=\"1\" class=\"dataframe\">\n",
              "  <thead>\n",
              "    <tr style=\"text-align: right;\">\n",
              "      <th></th>\n",
              "      <th>YEAR</th>\n",
              "      <th>BT</th>\n",
              "      <th>EL</th>\n",
              "      <th>CA</th>\n",
              "      <th>GT</th>\n",
              "      <th>DW</th>\n",
              "      <th>GER</th>\n",
              "    </tr>\n",
              "    <tr>\n",
              "      <th>STATE</th>\n",
              "      <th></th>\n",
              "      <th></th>\n",
              "      <th></th>\n",
              "      <th></th>\n",
              "      <th></th>\n",
              "      <th></th>\n",
              "      <th></th>\n",
              "    </tr>\n",
              "  </thead>\n",
              "  <tbody>\n",
              "    <tr>\n",
              "      <th>Andaman and Nicobar Islands</th>\n",
              "      <td>2013-14</td>\n",
              "      <td>94.52</td>\n",
              "      <td>88.86</td>\n",
              "      <td>53.06</td>\n",
              "      <td>93.44</td>\n",
              "      <td>98.69</td>\n",
              "      <td>95.680000</td>\n",
              "    </tr>\n",
              "    <tr>\n",
              "      <th>Andaman and Nicobar Islands</th>\n",
              "      <td>2014-15</td>\n",
              "      <td>100.00</td>\n",
              "      <td>88.89</td>\n",
              "      <td>57.25</td>\n",
              "      <td>100.00</td>\n",
              "      <td>99.52</td>\n",
              "      <td>82.563333</td>\n",
              "    </tr>\n",
              "    <tr>\n",
              "      <th>Andaman and Nicobar Islands</th>\n",
              "      <td>2015-16</td>\n",
              "      <td>100.00</td>\n",
              "      <td>90.10</td>\n",
              "      <td>57.00</td>\n",
              "      <td>100.00</td>\n",
              "      <td>100.00</td>\n",
              "      <td>91.396667</td>\n",
              "    </tr>\n",
              "    <tr>\n",
              "      <th>Andhra Pradesh</th>\n",
              "      <td>2013-14</td>\n",
              "      <td>56.88</td>\n",
              "      <td>90.34</td>\n",
              "      <td>29.57</td>\n",
              "      <td>81.31</td>\n",
              "      <td>90.35</td>\n",
              "      <td>80.203333</td>\n",
              "    </tr>\n",
              "    <tr>\n",
              "      <th>Andhra Pradesh</th>\n",
              "      <td>2014-15</td>\n",
              "      <td>65.34</td>\n",
              "      <td>92.76</td>\n",
              "      <td>28.06</td>\n",
              "      <td>98.07</td>\n",
              "      <td>93.74</td>\n",
              "      <td>75.323333</td>\n",
              "    </tr>\n",
              "    <tr>\n",
              "      <th>...</th>\n",
              "      <td>...</td>\n",
              "      <td>...</td>\n",
              "      <td>...</td>\n",
              "      <td>...</td>\n",
              "      <td>...</td>\n",
              "      <td>...</td>\n",
              "      <td>...</td>\n",
              "    </tr>\n",
              "    <tr>\n",
              "      <th>Uttarakhand</th>\n",
              "      <td>2014-15</td>\n",
              "      <td>96.46</td>\n",
              "      <td>76.95</td>\n",
              "      <td>32.97</td>\n",
              "      <td>95.97</td>\n",
              "      <td>95.14</td>\n",
              "      <td>87.810000</td>\n",
              "    </tr>\n",
              "    <tr>\n",
              "      <th>Uttarakhand</th>\n",
              "      <td>2015-16</td>\n",
              "      <td>97.43</td>\n",
              "      <td>78.64</td>\n",
              "      <td>33.54</td>\n",
              "      <td>97.18</td>\n",
              "      <td>96.43</td>\n",
              "      <td>88.810000</td>\n",
              "    </tr>\n",
              "    <tr>\n",
              "      <th>West Bengal</th>\n",
              "      <td>2013-14</td>\n",
              "      <td>81.42</td>\n",
              "      <td>42.76</td>\n",
              "      <td>10.77</td>\n",
              "      <td>82.08</td>\n",
              "      <td>97.75</td>\n",
              "      <td>83.923333</td>\n",
              "    </tr>\n",
              "    <tr>\n",
              "      <th>West Bengal</th>\n",
              "      <td>2014-15</td>\n",
              "      <td>89.93</td>\n",
              "      <td>56.96</td>\n",
              "      <td>12.13</td>\n",
              "      <td>92.42</td>\n",
              "      <td>97.93</td>\n",
              "      <td>86.740000</td>\n",
              "    </tr>\n",
              "    <tr>\n",
              "      <th>West Bengal</th>\n",
              "      <td>2015-16</td>\n",
              "      <td>97.70</td>\n",
              "      <td>74.88</td>\n",
              "      <td>12.67</td>\n",
              "      <td>98.29</td>\n",
              "      <td>98.42</td>\n",
              "      <td>85.150000</td>\n",
              "    </tr>\n",
              "  </tbody>\n",
              "</table>\n",
              "<p>107 rows × 7 columns</p>\n",
              "</div>"
            ],
            "text/plain": [
              "                                YEAR      BT     EL  ...      GT      DW        GER\n",
              "STATE                                                ...                           \n",
              "Andaman and Nicobar Islands  2013-14   94.52  88.86  ...   93.44   98.69  95.680000\n",
              "Andaman and Nicobar Islands  2014-15  100.00  88.89  ...  100.00   99.52  82.563333\n",
              "Andaman and Nicobar Islands  2015-16  100.00  90.10  ...  100.00  100.00  91.396667\n",
              "Andhra Pradesh               2013-14   56.88  90.34  ...   81.31   90.35  80.203333\n",
              "Andhra Pradesh               2014-15   65.34  92.76  ...   98.07   93.74  75.323333\n",
              "...                              ...     ...    ...  ...     ...     ...        ...\n",
              "Uttarakhand                  2014-15   96.46  76.95  ...   95.97   95.14  87.810000\n",
              "Uttarakhand                  2015-16   97.43  78.64  ...   97.18   96.43  88.810000\n",
              "West Bengal                  2013-14   81.42  42.76  ...   82.08   97.75  83.923333\n",
              "West Bengal                  2014-15   89.93  56.96  ...   92.42   97.93  86.740000\n",
              "West Bengal                  2015-16   97.70  74.88  ...   98.29   98.42  85.150000\n",
              "\n",
              "[107 rows x 7 columns]"
            ]
          },
          "metadata": {
            "tags": []
          },
          "execution_count": 26
        }
      ]
    },
    {
      "cell_type": "code",
      "metadata": {
        "colab": {
          "base_uri": "https://localhost:8080/",
          "height": 407
        },
        "id": "PyZ4ar_SouBF",
        "outputId": "a4dec7a6-b6fe-485d-9073-f1838dd4dc4f"
      },
      "source": [
        "df_new1 = pd.merge(df1[['Literacy','LIT']], df, left_index=True, right_index=True).reset_index()\n",
        "t = list(df_new1.columns)\n",
        "t[0] = 'State'\n",
        "df_new1.columns = t\n",
        "df_new1"
      ],
      "execution_count": null,
      "outputs": [
        {
          "output_type": "execute_result",
          "data": {
            "text/html": [
              "<div>\n",
              "<style scoped>\n",
              "    .dataframe tbody tr th:only-of-type {\n",
              "        vertical-align: middle;\n",
              "    }\n",
              "\n",
              "    .dataframe tbody tr th {\n",
              "        vertical-align: top;\n",
              "    }\n",
              "\n",
              "    .dataframe thead th {\n",
              "        text-align: right;\n",
              "    }\n",
              "</style>\n",
              "<table border=\"1\" class=\"dataframe\">\n",
              "  <thead>\n",
              "    <tr style=\"text-align: right;\">\n",
              "      <th></th>\n",
              "      <th>State</th>\n",
              "      <th>Literacy</th>\n",
              "      <th>LIT</th>\n",
              "      <th>YEAR</th>\n",
              "      <th>BT</th>\n",
              "      <th>EL</th>\n",
              "      <th>CA</th>\n",
              "      <th>GT</th>\n",
              "      <th>DW</th>\n",
              "      <th>GER</th>\n",
              "    </tr>\n",
              "  </thead>\n",
              "  <tbody>\n",
              "    <tr>\n",
              "      <th>0</th>\n",
              "      <td>Andaman and Nicobar Islands</td>\n",
              "      <td>86.63</td>\n",
              "      <td>High</td>\n",
              "      <td>2013-14</td>\n",
              "      <td>94.52</td>\n",
              "      <td>88.86</td>\n",
              "      <td>53.06</td>\n",
              "      <td>93.44</td>\n",
              "      <td>98.69</td>\n",
              "      <td>95.680000</td>\n",
              "    </tr>\n",
              "    <tr>\n",
              "      <th>1</th>\n",
              "      <td>Andaman and Nicobar Islands</td>\n",
              "      <td>86.63</td>\n",
              "      <td>High</td>\n",
              "      <td>2014-15</td>\n",
              "      <td>100.00</td>\n",
              "      <td>88.89</td>\n",
              "      <td>57.25</td>\n",
              "      <td>100.00</td>\n",
              "      <td>99.52</td>\n",
              "      <td>82.563333</td>\n",
              "    </tr>\n",
              "    <tr>\n",
              "      <th>2</th>\n",
              "      <td>Andaman and Nicobar Islands</td>\n",
              "      <td>86.63</td>\n",
              "      <td>High</td>\n",
              "      <td>2015-16</td>\n",
              "      <td>100.00</td>\n",
              "      <td>90.10</td>\n",
              "      <td>57.00</td>\n",
              "      <td>100.00</td>\n",
              "      <td>100.00</td>\n",
              "      <td>91.396667</td>\n",
              "    </tr>\n",
              "    <tr>\n",
              "      <th>3</th>\n",
              "      <td>Andhra Pradesh</td>\n",
              "      <td>67.02</td>\n",
              "      <td>Low</td>\n",
              "      <td>2013-14</td>\n",
              "      <td>56.88</td>\n",
              "      <td>90.34</td>\n",
              "      <td>29.57</td>\n",
              "      <td>81.31</td>\n",
              "      <td>90.35</td>\n",
              "      <td>80.203333</td>\n",
              "    </tr>\n",
              "    <tr>\n",
              "      <th>4</th>\n",
              "      <td>Andhra Pradesh</td>\n",
              "      <td>67.02</td>\n",
              "      <td>Low</td>\n",
              "      <td>2014-15</td>\n",
              "      <td>65.34</td>\n",
              "      <td>92.76</td>\n",
              "      <td>28.06</td>\n",
              "      <td>98.07</td>\n",
              "      <td>93.74</td>\n",
              "      <td>75.323333</td>\n",
              "    </tr>\n",
              "    <tr>\n",
              "      <th>...</th>\n",
              "      <td>...</td>\n",
              "      <td>...</td>\n",
              "      <td>...</td>\n",
              "      <td>...</td>\n",
              "      <td>...</td>\n",
              "      <td>...</td>\n",
              "      <td>...</td>\n",
              "      <td>...</td>\n",
              "      <td>...</td>\n",
              "      <td>...</td>\n",
              "    </tr>\n",
              "    <tr>\n",
              "      <th>102</th>\n",
              "      <td>Uttarakhand</td>\n",
              "      <td>78.82</td>\n",
              "      <td>Medium</td>\n",
              "      <td>2014-15</td>\n",
              "      <td>96.46</td>\n",
              "      <td>76.95</td>\n",
              "      <td>32.97</td>\n",
              "      <td>95.97</td>\n",
              "      <td>95.14</td>\n",
              "      <td>87.810000</td>\n",
              "    </tr>\n",
              "    <tr>\n",
              "      <th>103</th>\n",
              "      <td>Uttarakhand</td>\n",
              "      <td>78.82</td>\n",
              "      <td>Medium</td>\n",
              "      <td>2015-16</td>\n",
              "      <td>97.43</td>\n",
              "      <td>78.64</td>\n",
              "      <td>33.54</td>\n",
              "      <td>97.18</td>\n",
              "      <td>96.43</td>\n",
              "      <td>88.810000</td>\n",
              "    </tr>\n",
              "    <tr>\n",
              "      <th>104</th>\n",
              "      <td>West Bengal</td>\n",
              "      <td>76.26</td>\n",
              "      <td>Medium</td>\n",
              "      <td>2013-14</td>\n",
              "      <td>81.42</td>\n",
              "      <td>42.76</td>\n",
              "      <td>10.77</td>\n",
              "      <td>82.08</td>\n",
              "      <td>97.75</td>\n",
              "      <td>83.923333</td>\n",
              "    </tr>\n",
              "    <tr>\n",
              "      <th>105</th>\n",
              "      <td>West Bengal</td>\n",
              "      <td>76.26</td>\n",
              "      <td>Medium</td>\n",
              "      <td>2014-15</td>\n",
              "      <td>89.93</td>\n",
              "      <td>56.96</td>\n",
              "      <td>12.13</td>\n",
              "      <td>92.42</td>\n",
              "      <td>97.93</td>\n",
              "      <td>86.740000</td>\n",
              "    </tr>\n",
              "    <tr>\n",
              "      <th>106</th>\n",
              "      <td>West Bengal</td>\n",
              "      <td>76.26</td>\n",
              "      <td>Medium</td>\n",
              "      <td>2015-16</td>\n",
              "      <td>97.70</td>\n",
              "      <td>74.88</td>\n",
              "      <td>12.67</td>\n",
              "      <td>98.29</td>\n",
              "      <td>98.42</td>\n",
              "      <td>85.150000</td>\n",
              "    </tr>\n",
              "  </tbody>\n",
              "</table>\n",
              "<p>107 rows × 10 columns</p>\n",
              "</div>"
            ],
            "text/plain": [
              "                           State  Literacy     LIT  ...      GT      DW        GER\n",
              "0    Andaman and Nicobar Islands     86.63    High  ...   93.44   98.69  95.680000\n",
              "1    Andaman and Nicobar Islands     86.63    High  ...  100.00   99.52  82.563333\n",
              "2    Andaman and Nicobar Islands     86.63    High  ...  100.00  100.00  91.396667\n",
              "3                 Andhra Pradesh     67.02     Low  ...   81.31   90.35  80.203333\n",
              "4                 Andhra Pradesh     67.02     Low  ...   98.07   93.74  75.323333\n",
              "..                           ...       ...     ...  ...     ...     ...        ...\n",
              "102                  Uttarakhand     78.82  Medium  ...   95.97   95.14  87.810000\n",
              "103                  Uttarakhand     78.82  Medium  ...   97.18   96.43  88.810000\n",
              "104                  West Bengal     76.26  Medium  ...   82.08   97.75  83.923333\n",
              "105                  West Bengal     76.26  Medium  ...   92.42   97.93  86.740000\n",
              "106                  West Bengal     76.26  Medium  ...   98.29   98.42  85.150000\n",
              "\n",
              "[107 rows x 10 columns]"
            ]
          },
          "metadata": {
            "tags": []
          },
          "execution_count": 27
        }
      ]
    },
    {
      "cell_type": "code",
      "metadata": {
        "id": "zOyy5uLxuV_s",
        "colab": {
          "base_uri": "https://localhost:8080/"
        },
        "outputId": "d1cbde25-f6c5-49e7-8aab-ce233d14257d"
      },
      "source": [
        "df_new = pd.merge(df1[['Literacy','LIT']], df2, left_index=True, right_index=True).reset_index()\n",
        "t = list(df_new.columns)\n",
        "t[0] = 'State'\n",
        "df_new.columns = t"
      ],
      "execution_count": null,
      "outputs": [
        {
          "output_type": "stream",
          "text": [
            "/usr/local/lib/python3.7/dist-packages/pandas/core/reshape/merge.py:643: UserWarning: merging between different levels can give an unintended result (1 levels on the left,2 on the right)\n",
            "  warnings.warn(msg, UserWarning)\n"
          ],
          "name": "stderr"
        }
      ]
    },
    {
      "cell_type": "code",
      "metadata": {
        "colab": {
          "base_uri": "https://localhost:8080/",
          "height": 948
        },
        "id": "Y8vOjzNEmpUk",
        "outputId": "308c235c-f366-486d-fb5c-eaa56410a7bd"
      },
      "source": [
        "df_new\n"
      ],
      "execution_count": null,
      "outputs": [
        {
          "output_type": "execute_result",
          "data": {
            "text/html": [
              "<div>\n",
              "<style scoped>\n",
              "    .dataframe tbody tr th:only-of-type {\n",
              "        vertical-align: middle;\n",
              "    }\n",
              "\n",
              "    .dataframe tbody tr th {\n",
              "        vertical-align: top;\n",
              "    }\n",
              "\n",
              "    .dataframe thead th {\n",
              "        text-align: right;\n",
              "    }\n",
              "</style>\n",
              "<table border=\"1\" class=\"dataframe\">\n",
              "  <thead>\n",
              "    <tr style=\"text-align: right;\">\n",
              "      <th></th>\n",
              "      <th>State</th>\n",
              "      <th>Literacy</th>\n",
              "      <th>LIT</th>\n",
              "      <th>(GER, mean)</th>\n",
              "      <th>(BT, mean)</th>\n",
              "      <th>(EL, mean)</th>\n",
              "      <th>(CA, mean)</th>\n",
              "      <th>(GT, mean)</th>\n",
              "      <th>(DW, mean)</th>\n",
              "    </tr>\n",
              "  </thead>\n",
              "  <tbody>\n",
              "    <tr>\n",
              "      <th>0</th>\n",
              "      <td>Kerala</td>\n",
              "      <td>94.00</td>\n",
              "      <td>High</td>\n",
              "      <td>90.955556</td>\n",
              "      <td>97.336667</td>\n",
              "      <td>96.850000</td>\n",
              "      <td>93.633333</td>\n",
              "      <td>98.110000</td>\n",
              "      <td>99.546667</td>\n",
              "    </tr>\n",
              "    <tr>\n",
              "      <th>1</th>\n",
              "      <td>Lakshadweep</td>\n",
              "      <td>91.85</td>\n",
              "      <td>High</td>\n",
              "      <td>86.662222</td>\n",
              "      <td>100.000000</td>\n",
              "      <td>100.000000</td>\n",
              "      <td>100.000000</td>\n",
              "      <td>100.000000</td>\n",
              "      <td>100.000000</td>\n",
              "    </tr>\n",
              "    <tr>\n",
              "      <th>2</th>\n",
              "      <td>Mizoram</td>\n",
              "      <td>91.33</td>\n",
              "      <td>High</td>\n",
              "      <td>103.290000</td>\n",
              "      <td>89.523333</td>\n",
              "      <td>75.070000</td>\n",
              "      <td>30.823333</td>\n",
              "      <td>99.570000</td>\n",
              "      <td>92.906667</td>\n",
              "    </tr>\n",
              "    <tr>\n",
              "      <th>3</th>\n",
              "      <td>Goa</td>\n",
              "      <td>88.70</td>\n",
              "      <td>High</td>\n",
              "      <td>93.370000</td>\n",
              "      <td>92.640000</td>\n",
              "      <td>98.920000</td>\n",
              "      <td>42.953333</td>\n",
              "      <td>99.243333</td>\n",
              "      <td>99.280000</td>\n",
              "    </tr>\n",
              "    <tr>\n",
              "      <th>4</th>\n",
              "      <td>Tripura</td>\n",
              "      <td>87.22</td>\n",
              "      <td>High</td>\n",
              "      <td>91.293333</td>\n",
              "      <td>96.760000</td>\n",
              "      <td>27.763333</td>\n",
              "      <td>14.053333</td>\n",
              "      <td>96.290000</td>\n",
              "      <td>87.766667</td>\n",
              "    </tr>\n",
              "    <tr>\n",
              "      <th>5</th>\n",
              "      <td>Delhi</td>\n",
              "      <td>86.21</td>\n",
              "      <td>High</td>\n",
              "      <td>108.816667</td>\n",
              "      <td>100.000000</td>\n",
              "      <td>100.000000</td>\n",
              "      <td>82.150000</td>\n",
              "      <td>100.000000</td>\n",
              "      <td>100.000000</td>\n",
              "    </tr>\n",
              "    <tr>\n",
              "      <th>6</th>\n",
              "      <td>Chandigarh</td>\n",
              "      <td>86.05</td>\n",
              "      <td>High</td>\n",
              "      <td>91.207778</td>\n",
              "      <td>100.000000</td>\n",
              "      <td>100.000000</td>\n",
              "      <td>95.263333</td>\n",
              "      <td>100.000000</td>\n",
              "      <td>100.000000</td>\n",
              "    </tr>\n",
              "    <tr>\n",
              "      <th>7</th>\n",
              "      <td>Puducherry</td>\n",
              "      <td>85.85</td>\n",
              "      <td>Medium</td>\n",
              "      <td>84.078889</td>\n",
              "      <td>99.903333</td>\n",
              "      <td>100.000000</td>\n",
              "      <td>98.066667</td>\n",
              "      <td>100.000000</td>\n",
              "      <td>99.910000</td>\n",
              "    </tr>\n",
              "    <tr>\n",
              "      <th>8</th>\n",
              "      <td>Himachal Pradesh</td>\n",
              "      <td>82.80</td>\n",
              "      <td>Medium</td>\n",
              "      <td>100.022222</td>\n",
              "      <td>96.603333</td>\n",
              "      <td>95.120000</td>\n",
              "      <td>24.113333</td>\n",
              "      <td>98.270000</td>\n",
              "      <td>99.333333</td>\n",
              "    </tr>\n",
              "    <tr>\n",
              "      <th>9</th>\n",
              "      <td>Maharashtra</td>\n",
              "      <td>82.34</td>\n",
              "      <td>Medium</td>\n",
              "      <td>86.670000</td>\n",
              "      <td>98.886667</td>\n",
              "      <td>93.540000</td>\n",
              "      <td>56.503333</td>\n",
              "      <td>99.053333</td>\n",
              "      <td>99.563333</td>\n",
              "    </tr>\n",
              "    <tr>\n",
              "      <th>10</th>\n",
              "      <td>Sikkim</td>\n",
              "      <td>81.42</td>\n",
              "      <td>Medium</td>\n",
              "      <td>107.707778</td>\n",
              "      <td>98.346667</td>\n",
              "      <td>74.663333</td>\n",
              "      <td>57.416667</td>\n",
              "      <td>99.330000</td>\n",
              "      <td>97.620000</td>\n",
              "    </tr>\n",
              "    <tr>\n",
              "      <th>11</th>\n",
              "      <td>Tamil Nadu</td>\n",
              "      <td>80.09</td>\n",
              "      <td>Medium</td>\n",
              "      <td>92.428889</td>\n",
              "      <td>96.650000</td>\n",
              "      <td>98.416667</td>\n",
              "      <td>56.346667</td>\n",
              "      <td>98.840000</td>\n",
              "      <td>99.923333</td>\n",
              "    </tr>\n",
              "    <tr>\n",
              "      <th>12</th>\n",
              "      <td>Nagaland</td>\n",
              "      <td>79.55</td>\n",
              "      <td>Medium</td>\n",
              "      <td>80.500000</td>\n",
              "      <td>93.743333</td>\n",
              "      <td>43.900000</td>\n",
              "      <td>36.923333</td>\n",
              "      <td>98.780000</td>\n",
              "      <td>77.523333</td>\n",
              "    </tr>\n",
              "    <tr>\n",
              "      <th>13</th>\n",
              "      <td>Uttarakhand</td>\n",
              "      <td>78.82</td>\n",
              "      <td>Medium</td>\n",
              "      <td>87.985556</td>\n",
              "      <td>96.200000</td>\n",
              "      <td>76.600000</td>\n",
              "      <td>32.826667</td>\n",
              "      <td>96.403333</td>\n",
              "      <td>95.763333</td>\n",
              "    </tr>\n",
              "    <tr>\n",
              "      <th>14</th>\n",
              "      <td>Gujarat</td>\n",
              "      <td>78.03</td>\n",
              "      <td>Medium</td>\n",
              "      <td>79.345556</td>\n",
              "      <td>98.756667</td>\n",
              "      <td>99.723333</td>\n",
              "      <td>74.266667</td>\n",
              "      <td>99.840000</td>\n",
              "      <td>99.933333</td>\n",
              "    </tr>\n",
              "    <tr>\n",
              "      <th>15</th>\n",
              "      <td>Manipur</td>\n",
              "      <td>76.94</td>\n",
              "      <td>Medium</td>\n",
              "      <td>107.984444</td>\n",
              "      <td>96.300000</td>\n",
              "      <td>33.633333</td>\n",
              "      <td>25.986667</td>\n",
              "      <td>97.473333</td>\n",
              "      <td>92.436667</td>\n",
              "    </tr>\n",
              "    <tr>\n",
              "      <th>16</th>\n",
              "      <td>West Bengal</td>\n",
              "      <td>76.26</td>\n",
              "      <td>Medium</td>\n",
              "      <td>85.271111</td>\n",
              "      <td>89.683333</td>\n",
              "      <td>58.200000</td>\n",
              "      <td>11.856667</td>\n",
              "      <td>90.930000</td>\n",
              "      <td>98.033333</td>\n",
              "    </tr>\n",
              "    <tr>\n",
              "      <th>17</th>\n",
              "      <td>Punjab</td>\n",
              "      <td>75.84</td>\n",
              "      <td>Medium</td>\n",
              "      <td>90.475556</td>\n",
              "      <td>97.996667</td>\n",
              "      <td>99.893333</td>\n",
              "      <td>52.426667</td>\n",
              "      <td>98.906667</td>\n",
              "      <td>99.906667</td>\n",
              "    </tr>\n",
              "    <tr>\n",
              "      <th>18</th>\n",
              "      <td>Haryana</td>\n",
              "      <td>75.55</td>\n",
              "      <td>Medium</td>\n",
              "      <td>84.986667</td>\n",
              "      <td>97.230000</td>\n",
              "      <td>98.866667</td>\n",
              "      <td>45.696667</td>\n",
              "      <td>98.583333</td>\n",
              "      <td>99.843333</td>\n",
              "    </tr>\n",
              "    <tr>\n",
              "      <th>19</th>\n",
              "      <td>Karnataka</td>\n",
              "      <td>75.36</td>\n",
              "      <td>Medium</td>\n",
              "      <td>75.041111</td>\n",
              "      <td>99.476667</td>\n",
              "      <td>97.513333</td>\n",
              "      <td>37.760000</td>\n",
              "      <td>99.690000</td>\n",
              "      <td>99.750000</td>\n",
              "    </tr>\n",
              "    <tr>\n",
              "      <th>20</th>\n",
              "      <td>Meghalaya</td>\n",
              "      <td>74.43</td>\n",
              "      <td>Medium</td>\n",
              "      <td>98.428889</td>\n",
              "      <td>68.196667</td>\n",
              "      <td>26.583333</td>\n",
              "      <td>10.453333</td>\n",
              "      <td>66.386667</td>\n",
              "      <td>63.103333</td>\n",
              "    </tr>\n",
              "    <tr>\n",
              "      <th>21</th>\n",
              "      <td>Assam</td>\n",
              "      <td>72.19</td>\n",
              "      <td>Medium</td>\n",
              "      <td>80.251111</td>\n",
              "      <td>65.923333</td>\n",
              "      <td>22.446667</td>\n",
              "      <td>9.813333</td>\n",
              "      <td>78.026667</td>\n",
              "      <td>83.290000</td>\n",
              "    </tr>\n",
              "    <tr>\n",
              "      <th>22</th>\n",
              "      <td>Chhattisgarh</td>\n",
              "      <td>70.28</td>\n",
              "      <td>Low</td>\n",
              "      <td>87.326667</td>\n",
              "      <td>85.803333</td>\n",
              "      <td>65.606667</td>\n",
              "      <td>11.460000</td>\n",
              "      <td>95.086667</td>\n",
              "      <td>97.186667</td>\n",
              "    </tr>\n",
              "    <tr>\n",
              "      <th>23</th>\n",
              "      <td>Madhya Pradesh</td>\n",
              "      <td>69.32</td>\n",
              "      <td>Low</td>\n",
              "      <td>81.542222</td>\n",
              "      <td>92.840000</td>\n",
              "      <td>28.453333</td>\n",
              "      <td>14.260000</td>\n",
              "      <td>93.086667</td>\n",
              "      <td>96.243333</td>\n",
              "    </tr>\n",
              "    <tr>\n",
              "      <th>24</th>\n",
              "      <td>Uttar Pradesh</td>\n",
              "      <td>67.68</td>\n",
              "      <td>Low</td>\n",
              "      <td>76.905556</td>\n",
              "      <td>98.496667</td>\n",
              "      <td>53.346667</td>\n",
              "      <td>12.383333</td>\n",
              "      <td>99.060000</td>\n",
              "      <td>98.490000</td>\n",
              "    </tr>\n",
              "    <tr>\n",
              "      <th>25</th>\n",
              "      <td>Andhra Pradesh</td>\n",
              "      <td>67.02</td>\n",
              "      <td>Low</td>\n",
              "      <td>76.210000</td>\n",
              "      <td>73.970000</td>\n",
              "      <td>92.200000</td>\n",
              "      <td>29.406667</td>\n",
              "      <td>93.033333</td>\n",
              "      <td>93.153333</td>\n",
              "    </tr>\n",
              "    <tr>\n",
              "      <th>26</th>\n",
              "      <td>Jharkhand</td>\n",
              "      <td>66.41</td>\n",
              "      <td>Low</td>\n",
              "      <td>85.196667</td>\n",
              "      <td>89.436667</td>\n",
              "      <td>17.926667</td>\n",
              "      <td>9.643333</td>\n",
              "      <td>90.583333</td>\n",
              "      <td>92.293333</td>\n",
              "    </tr>\n",
              "    <tr>\n",
              "      <th>27</th>\n",
              "      <td>Rajasthan</td>\n",
              "      <td>66.11</td>\n",
              "      <td>Low</td>\n",
              "      <td>81.234444</td>\n",
              "      <td>97.376667</td>\n",
              "      <td>54.673333</td>\n",
              "      <td>27.393333</td>\n",
              "      <td>98.523333</td>\n",
              "      <td>96.743333</td>\n",
              "    </tr>\n",
              "    <tr>\n",
              "      <th>28</th>\n",
              "      <td>Arunachal Pradesh</td>\n",
              "      <td>65.38</td>\n",
              "      <td>Low</td>\n",
              "      <td>105.082222</td>\n",
              "      <td>80.116667</td>\n",
              "      <td>38.163333</td>\n",
              "      <td>24.440000</td>\n",
              "      <td>90.116667</td>\n",
              "      <td>80.633333</td>\n",
              "    </tr>\n",
              "    <tr>\n",
              "      <th>29</th>\n",
              "      <td>Bihar</td>\n",
              "      <td>61.80</td>\n",
              "      <td>Low</td>\n",
              "      <td>76.781111</td>\n",
              "      <td>78.833333</td>\n",
              "      <td>24.320000</td>\n",
              "      <td>7.676667</td>\n",
              "      <td>80.586667</td>\n",
              "      <td>93.233333</td>\n",
              "    </tr>\n",
              "  </tbody>\n",
              "</table>\n",
              "</div>"
            ],
            "text/plain": [
              "                State  Literacy     LIT  ...  (CA, mean)  (GT, mean)  (DW, mean)\n",
              "0              Kerala     94.00    High  ...   93.633333   98.110000   99.546667\n",
              "1         Lakshadweep     91.85    High  ...  100.000000  100.000000  100.000000\n",
              "2             Mizoram     91.33    High  ...   30.823333   99.570000   92.906667\n",
              "3                 Goa     88.70    High  ...   42.953333   99.243333   99.280000\n",
              "4             Tripura     87.22    High  ...   14.053333   96.290000   87.766667\n",
              "5               Delhi     86.21    High  ...   82.150000  100.000000  100.000000\n",
              "6          Chandigarh     86.05    High  ...   95.263333  100.000000  100.000000\n",
              "7          Puducherry     85.85  Medium  ...   98.066667  100.000000   99.910000\n",
              "8    Himachal Pradesh     82.80  Medium  ...   24.113333   98.270000   99.333333\n",
              "9         Maharashtra     82.34  Medium  ...   56.503333   99.053333   99.563333\n",
              "10             Sikkim     81.42  Medium  ...   57.416667   99.330000   97.620000\n",
              "11         Tamil Nadu     80.09  Medium  ...   56.346667   98.840000   99.923333\n",
              "12           Nagaland     79.55  Medium  ...   36.923333   98.780000   77.523333\n",
              "13        Uttarakhand     78.82  Medium  ...   32.826667   96.403333   95.763333\n",
              "14            Gujarat     78.03  Medium  ...   74.266667   99.840000   99.933333\n",
              "15            Manipur     76.94  Medium  ...   25.986667   97.473333   92.436667\n",
              "16        West Bengal     76.26  Medium  ...   11.856667   90.930000   98.033333\n",
              "17             Punjab     75.84  Medium  ...   52.426667   98.906667   99.906667\n",
              "18            Haryana     75.55  Medium  ...   45.696667   98.583333   99.843333\n",
              "19          Karnataka     75.36  Medium  ...   37.760000   99.690000   99.750000\n",
              "20          Meghalaya     74.43  Medium  ...   10.453333   66.386667   63.103333\n",
              "21              Assam     72.19  Medium  ...    9.813333   78.026667   83.290000\n",
              "22       Chhattisgarh     70.28     Low  ...   11.460000   95.086667   97.186667\n",
              "23     Madhya Pradesh     69.32     Low  ...   14.260000   93.086667   96.243333\n",
              "24      Uttar Pradesh     67.68     Low  ...   12.383333   99.060000   98.490000\n",
              "25     Andhra Pradesh     67.02     Low  ...   29.406667   93.033333   93.153333\n",
              "26          Jharkhand     66.41     Low  ...    9.643333   90.583333   92.293333\n",
              "27          Rajasthan     66.11     Low  ...   27.393333   98.523333   96.743333\n",
              "28  Arunachal Pradesh     65.38     Low  ...   24.440000   90.116667   80.633333\n",
              "29              Bihar     61.80     Low  ...    7.676667   80.586667   93.233333\n",
              "\n",
              "[30 rows x 9 columns]"
            ]
          },
          "metadata": {
            "tags": []
          },
          "execution_count": 29
        }
      ]
    },
    {
      "cell_type": "code",
      "metadata": {
        "id": "WLov8YYSuV_u",
        "colab": {
          "base_uri": "https://localhost:8080/",
          "height": 168
        },
        "outputId": "e27bc53b-f9c9-47f3-d354-224f8f238753"
      },
      "source": [
        "df_literacy_group=df_new.groupby('LIT').mean()\n",
        "df_literacy_group"
      ],
      "execution_count": null,
      "outputs": [
        {
          "output_type": "execute_result",
          "data": {
            "text/html": [
              "<div>\n",
              "<style scoped>\n",
              "    .dataframe tbody tr th:only-of-type {\n",
              "        vertical-align: middle;\n",
              "    }\n",
              "\n",
              "    .dataframe tbody tr th {\n",
              "        vertical-align: top;\n",
              "    }\n",
              "\n",
              "    .dataframe thead th {\n",
              "        text-align: right;\n",
              "    }\n",
              "</style>\n",
              "<table border=\"1\" class=\"dataframe\">\n",
              "  <thead>\n",
              "    <tr style=\"text-align: right;\">\n",
              "      <th></th>\n",
              "      <th>Literacy</th>\n",
              "      <th>(GER, mean)</th>\n",
              "      <th>(BT, mean)</th>\n",
              "      <th>(EL, mean)</th>\n",
              "      <th>(CA, mean)</th>\n",
              "      <th>(GT, mean)</th>\n",
              "      <th>(DW, mean)</th>\n",
              "    </tr>\n",
              "    <tr>\n",
              "      <th>LIT</th>\n",
              "      <th></th>\n",
              "      <th></th>\n",
              "      <th></th>\n",
              "      <th></th>\n",
              "      <th></th>\n",
              "      <th></th>\n",
              "      <th></th>\n",
              "    </tr>\n",
              "  </thead>\n",
              "  <tbody>\n",
              "    <tr>\n",
              "      <th>High</th>\n",
              "      <td>89.337143</td>\n",
              "      <td>95.085079</td>\n",
              "      <td>96.608571</td>\n",
              "      <td>85.514762</td>\n",
              "      <td>65.553810</td>\n",
              "      <td>99.030476</td>\n",
              "      <td>97.071429</td>\n",
              "    </tr>\n",
              "    <tr>\n",
              "      <th>Low</th>\n",
              "      <td>66.750000</td>\n",
              "      <td>83.784861</td>\n",
              "      <td>87.109167</td>\n",
              "      <td>46.836250</td>\n",
              "      <td>17.082917</td>\n",
              "      <td>92.509583</td>\n",
              "      <td>93.497083</td>\n",
              "    </tr>\n",
              "    <tr>\n",
              "      <th>Medium</th>\n",
              "      <td>78.364667</td>\n",
              "      <td>89.411852</td>\n",
              "      <td>92.926444</td>\n",
              "      <td>74.606667</td>\n",
              "      <td>42.030444</td>\n",
              "      <td>94.700889</td>\n",
              "      <td>93.728889</td>\n",
              "    </tr>\n",
              "  </tbody>\n",
              "</table>\n",
              "</div>"
            ],
            "text/plain": [
              "         Literacy  (GER, mean)  (BT, mean)  ...  (CA, mean)  (GT, mean)  (DW, mean)\n",
              "LIT                                         ...                                    \n",
              "High    89.337143    95.085079   96.608571  ...   65.553810   99.030476   97.071429\n",
              "Low     66.750000    83.784861   87.109167  ...   17.082917   92.509583   93.497083\n",
              "Medium  78.364667    89.411852   92.926444  ...   42.030444   94.700889   93.728889\n",
              "\n",
              "[3 rows x 7 columns]"
            ]
          },
          "metadata": {
            "tags": []
          },
          "execution_count": 30
        }
      ]
    },
    {
      "cell_type": "markdown",
      "metadata": {
        "id": "Xu-nRHRiL8BT"
      },
      "source": [
        "b) From the findings, do you observe any pattern among the three groups in terms of relation between enrolment and school infrastructure? Explain.\n",
        "\n",
        "Answer: Gross enrollment ratio of students is high when infrastructure facilities are available, hence both these are directly proportional and participation varies accordingly.\n"
      ]
    },
    {
      "cell_type": "markdown",
      "metadata": {
        "id": "_9-8vpAKLlM8"
      },
      "source": [
        "c) For GER, create a table displaying comparison between mean GER and variaance of GER\n",
        "between different groups. Do this for all other variables.\"\"\""
      ]
    },
    {
      "cell_type": "code",
      "metadata": {
        "id": "6ht4wjN5WOQd"
      },
      "source": [
        "df = df.reset_index()"
      ],
      "execution_count": null,
      "outputs": []
    },
    {
      "cell_type": "code",
      "metadata": {
        "id": "3yP-a25hAarR"
      },
      "source": [
        "df_state = df.groupby(df.STATE).mean().reset_index()"
      ],
      "execution_count": null,
      "outputs": []
    },
    {
      "cell_type": "code",
      "metadata": {
        "id": "p96PJLin6nQF"
      },
      "source": [
        "North= ['HIMACHAL PRADESH', 'UTTARAKHAND', 'MANIPUR','SIKKIM','MIZORAM','ASSAM','ARUNACHAL PRADESH','NAGALAND','TRIPURA','MEGHALAYA']\n",
        "North = df_state[df_state.STATE.str.lower().isin([x.lower() for x in North])]\n",
        "\n",
        "UTs = ['DELHI','CHANDIGARH','DAMAN & DIU','PUDUCHERRY','GOA','DADRA & NAGAR HAVELI','ANDAMAN & NICOBAR ISLANDS','JAMMU KASHMIR','LAKSHADWEEP']\n",
        "UTs = df_state[df_state.STATE.str.lower().isin([x.lower() for x in UTs])]\n",
        "\n",
        "Southern = ['KARNATAKA','MAHARASHTRA','TAMIL NADU','TELANGANA','KERALA','ANDHRA PRADESH','ODISHA']\n",
        "Southern = df_state[df_state.STATE.str.lower().isin([x.lower() for x in Southern])]\n",
        "\n",
        "Others = ['HARYANA','GUJARAT','PUNJAB','UTTAR PRADESH','RAJASTHAN','MADHYA PRADESH','JHARKHAND','BIHAR','CHHATTISGARH','WEST BENGAL']\n",
        "Others = df_state[df_state.STATE.str.lower().isin([x.lower() for x in Others])]\n",
        "\n"
      ],
      "execution_count": null,
      "outputs": []
    },
    {
      "cell_type": "code",
      "metadata": {
        "id": "nkUg2YqO-sZU"
      },
      "source": [
        "North = North.describe().loc[['mean','std']]\n",
        "t=North.columns\n",
        "t=[x+ \"_North\" for x in t]\n",
        "North.columns = t\n",
        "North = North.T\n",
        "\n",
        "\n",
        "UTs = UTs.describe().loc[['mean','std']]\n",
        "t=UTs.columns\n",
        "t=[x+ \"_UTs\" for x in t]\n",
        "UTs.columns = t\n",
        "UTs = UTs.T\n",
        "\n",
        "Southern = Southern.describe().loc[['mean','std']]\n",
        "t=Southern.columns\n",
        "t=[x+ \"_Southern\" for x in t]\n",
        "Southern.columns = t\n",
        "Southern = Southern.T\n",
        "\n",
        "Others = Others.describe().loc[['mean','std']]\n",
        "t=Others.columns\n",
        "t=[x+ \"_Others\" for x in t]\n",
        "Others.columns = t\n",
        "Others = Others.T"
      ],
      "execution_count": null,
      "outputs": []
    },
    {
      "cell_type": "code",
      "metadata": {
        "id": "n6NQIskIHrBX"
      },
      "source": [
        "Final_df_state = pd.concat([North ,UTs ,Southern,Others])\n",
        "Final_df_state['var'] = Final_df_state['std']**2\n",
        "Final_df_state = Final_df_state.drop('std', axis=1)\n"
      ],
      "execution_count": null,
      "outputs": []
    },
    {
      "cell_type": "code",
      "metadata": {
        "id": "qGA_nQYKBCDB",
        "colab": {
          "base_uri": "https://localhost:8080/",
          "height": 768
        },
        "outputId": "29a41f75-2902-48c5-bfe2-ce6eefeee928"
      },
      "source": [
        "Final_df_state"
      ],
      "execution_count": null,
      "outputs": [
        {
          "output_type": "execute_result",
          "data": {
            "text/html": [
              "<div>\n",
              "<style scoped>\n",
              "    .dataframe tbody tr th:only-of-type {\n",
              "        vertical-align: middle;\n",
              "    }\n",
              "\n",
              "    .dataframe tbody tr th {\n",
              "        vertical-align: top;\n",
              "    }\n",
              "\n",
              "    .dataframe thead th {\n",
              "        text-align: right;\n",
              "    }\n",
              "</style>\n",
              "<table border=\"1\" class=\"dataframe\">\n",
              "  <thead>\n",
              "    <tr style=\"text-align: right;\">\n",
              "      <th></th>\n",
              "      <th>mean</th>\n",
              "      <th>var</th>\n",
              "    </tr>\n",
              "  </thead>\n",
              "  <tbody>\n",
              "    <tr>\n",
              "      <th>BT_North</th>\n",
              "      <td>88.171333</td>\n",
              "      <td>152.294388</td>\n",
              "    </tr>\n",
              "    <tr>\n",
              "      <th>EL_North</th>\n",
              "      <td>51.394333</td>\n",
              "      <td>689.766435</td>\n",
              "    </tr>\n",
              "    <tr>\n",
              "      <th>CA_North</th>\n",
              "      <td>26.685000</td>\n",
              "      <td>202.658331</td>\n",
              "    </tr>\n",
              "    <tr>\n",
              "      <th>GT_North</th>\n",
              "      <td>92.064667</td>\n",
              "      <td>124.318660</td>\n",
              "    </tr>\n",
              "    <tr>\n",
              "      <th>DW_North</th>\n",
              "      <td>87.037667</td>\n",
              "      <td>124.651956</td>\n",
              "    </tr>\n",
              "    <tr>\n",
              "      <th>GER_North</th>\n",
              "      <td>96.254556</td>\n",
              "      <td>112.491239</td>\n",
              "    </tr>\n",
              "    <tr>\n",
              "      <th>BT_UTs</th>\n",
              "      <td>98.508667</td>\n",
              "      <td>10.764642</td>\n",
              "    </tr>\n",
              "    <tr>\n",
              "      <th>EL_UTs</th>\n",
              "      <td>99.784000</td>\n",
              "      <td>0.233280</td>\n",
              "    </tr>\n",
              "    <tr>\n",
              "      <th>CA_UTs</th>\n",
              "      <td>83.686667</td>\n",
              "      <td>567.123561</td>\n",
              "    </tr>\n",
              "    <tr>\n",
              "      <th>GT_UTs</th>\n",
              "      <td>99.848667</td>\n",
              "      <td>0.114509</td>\n",
              "    </tr>\n",
              "    <tr>\n",
              "      <th>DW_UTs</th>\n",
              "      <td>99.838000</td>\n",
              "      <td>0.098820</td>\n",
              "    </tr>\n",
              "    <tr>\n",
              "      <th>GER_UTs</th>\n",
              "      <td>92.827111</td>\n",
              "      <td>93.280026</td>\n",
              "    </tr>\n",
              "    <tr>\n",
              "      <th>BT_Southern</th>\n",
              "      <td>94.282000</td>\n",
              "      <td>73.708803</td>\n",
              "    </tr>\n",
              "    <tr>\n",
              "      <th>EL_Southern</th>\n",
              "      <td>95.633200</td>\n",
              "      <td>7.871890</td>\n",
              "    </tr>\n",
              "    <tr>\n",
              "      <th>CA_Southern</th>\n",
              "      <td>55.313867</td>\n",
              "      <td>576.860820</td>\n",
              "    </tr>\n",
              "    <tr>\n",
              "      <th>GT_Southern</th>\n",
              "      <td>97.986667</td>\n",
              "      <td>4.705006</td>\n",
              "    </tr>\n",
              "    <tr>\n",
              "      <th>DW_Southern</th>\n",
              "      <td>98.439067</td>\n",
              "      <td>7.920937</td>\n",
              "    </tr>\n",
              "    <tr>\n",
              "      <th>GER_Southern</th>\n",
              "      <td>84.918178</td>\n",
              "      <td>55.723320</td>\n",
              "    </tr>\n",
              "    <tr>\n",
              "      <th>BT_Others</th>\n",
              "      <td>92.645333</td>\n",
              "      <td>44.479904</td>\n",
              "    </tr>\n",
              "    <tr>\n",
              "      <th>EL_Others</th>\n",
              "      <td>60.101000</td>\n",
              "      <td>980.630212</td>\n",
              "    </tr>\n",
              "    <tr>\n",
              "      <th>CA_Others</th>\n",
              "      <td>26.706333</td>\n",
              "      <td>527.880288</td>\n",
              "    </tr>\n",
              "    <tr>\n",
              "      <th>GT_Others</th>\n",
              "      <td>94.518667</td>\n",
              "      <td>36.176996</td>\n",
              "    </tr>\n",
              "    <tr>\n",
              "      <th>DW_Others</th>\n",
              "      <td>97.190667</td>\n",
              "      <td>7.230644</td>\n",
              "    </tr>\n",
              "    <tr>\n",
              "      <th>GER_Others</th>\n",
              "      <td>82.906556</td>\n",
              "      <td>20.317877</td>\n",
              "    </tr>\n",
              "  </tbody>\n",
              "</table>\n",
              "</div>"
            ],
            "text/plain": [
              "                   mean         var\n",
              "BT_North      88.171333  152.294388\n",
              "EL_North      51.394333  689.766435\n",
              "CA_North      26.685000  202.658331\n",
              "GT_North      92.064667  124.318660\n",
              "DW_North      87.037667  124.651956\n",
              "GER_North     96.254556  112.491239\n",
              "BT_UTs        98.508667   10.764642\n",
              "EL_UTs        99.784000    0.233280\n",
              "CA_UTs        83.686667  567.123561\n",
              "GT_UTs        99.848667    0.114509\n",
              "DW_UTs        99.838000    0.098820\n",
              "GER_UTs       92.827111   93.280026\n",
              "BT_Southern   94.282000   73.708803\n",
              "EL_Southern   95.633200    7.871890\n",
              "CA_Southern   55.313867  576.860820\n",
              "GT_Southern   97.986667    4.705006\n",
              "DW_Southern   98.439067    7.920937\n",
              "GER_Southern  84.918178   55.723320\n",
              "BT_Others     92.645333   44.479904\n",
              "EL_Others     60.101000  980.630212\n",
              "CA_Others     26.706333  527.880288\n",
              "GT_Others     94.518667   36.176996\n",
              "DW_Others     97.190667    7.230644\n",
              "GER_Others    82.906556   20.317877"
            ]
          },
          "metadata": {
            "tags": []
          },
          "execution_count": 36
        }
      ]
    },
    {
      "cell_type": "code",
      "metadata": {
        "id": "EVDGviNzHr5c",
        "colab": {
          "base_uri": "https://localhost:8080/",
          "height": 198
        },
        "outputId": "cb4113b0-2b87-4d70-a64e-4168f5eebdc2"
      },
      "source": [
        "Final_df_state.loc['BT_North':'DW_North']\n"
      ],
      "execution_count": null,
      "outputs": [
        {
          "output_type": "execute_result",
          "data": {
            "text/html": [
              "<div>\n",
              "<style scoped>\n",
              "    .dataframe tbody tr th:only-of-type {\n",
              "        vertical-align: middle;\n",
              "    }\n",
              "\n",
              "    .dataframe tbody tr th {\n",
              "        vertical-align: top;\n",
              "    }\n",
              "\n",
              "    .dataframe thead th {\n",
              "        text-align: right;\n",
              "    }\n",
              "</style>\n",
              "<table border=\"1\" class=\"dataframe\">\n",
              "  <thead>\n",
              "    <tr style=\"text-align: right;\">\n",
              "      <th></th>\n",
              "      <th>mean</th>\n",
              "      <th>var</th>\n",
              "    </tr>\n",
              "  </thead>\n",
              "  <tbody>\n",
              "    <tr>\n",
              "      <th>BT_North</th>\n",
              "      <td>88.171333</td>\n",
              "      <td>152.294388</td>\n",
              "    </tr>\n",
              "    <tr>\n",
              "      <th>EL_North</th>\n",
              "      <td>51.394333</td>\n",
              "      <td>689.766435</td>\n",
              "    </tr>\n",
              "    <tr>\n",
              "      <th>CA_North</th>\n",
              "      <td>26.685000</td>\n",
              "      <td>202.658331</td>\n",
              "    </tr>\n",
              "    <tr>\n",
              "      <th>GT_North</th>\n",
              "      <td>92.064667</td>\n",
              "      <td>124.318660</td>\n",
              "    </tr>\n",
              "    <tr>\n",
              "      <th>DW_North</th>\n",
              "      <td>87.037667</td>\n",
              "      <td>124.651956</td>\n",
              "    </tr>\n",
              "  </tbody>\n",
              "</table>\n",
              "</div>"
            ],
            "text/plain": [
              "               mean         var\n",
              "BT_North  88.171333  152.294388\n",
              "EL_North  51.394333  689.766435\n",
              "CA_North  26.685000  202.658331\n",
              "GT_North  92.064667  124.318660\n",
              "DW_North  87.037667  124.651956"
            ]
          },
          "metadata": {
            "tags": []
          },
          "execution_count": 37
        }
      ]
    },
    {
      "cell_type": "code",
      "metadata": {
        "id": "vq3CUTZi_GiH",
        "colab": {
          "base_uri": "https://localhost:8080/",
          "height": 198
        },
        "outputId": "0902609a-df3c-4a0d-e474-37aca68ae2bc"
      },
      "source": [
        "Final_df_state.loc['BT_Southern':'DW_Southern']"
      ],
      "execution_count": null,
      "outputs": [
        {
          "output_type": "execute_result",
          "data": {
            "text/html": [
              "<div>\n",
              "<style scoped>\n",
              "    .dataframe tbody tr th:only-of-type {\n",
              "        vertical-align: middle;\n",
              "    }\n",
              "\n",
              "    .dataframe tbody tr th {\n",
              "        vertical-align: top;\n",
              "    }\n",
              "\n",
              "    .dataframe thead th {\n",
              "        text-align: right;\n",
              "    }\n",
              "</style>\n",
              "<table border=\"1\" class=\"dataframe\">\n",
              "  <thead>\n",
              "    <tr style=\"text-align: right;\">\n",
              "      <th></th>\n",
              "      <th>mean</th>\n",
              "      <th>var</th>\n",
              "    </tr>\n",
              "  </thead>\n",
              "  <tbody>\n",
              "    <tr>\n",
              "      <th>BT_Southern</th>\n",
              "      <td>94.282000</td>\n",
              "      <td>73.708803</td>\n",
              "    </tr>\n",
              "    <tr>\n",
              "      <th>EL_Southern</th>\n",
              "      <td>95.633200</td>\n",
              "      <td>7.871890</td>\n",
              "    </tr>\n",
              "    <tr>\n",
              "      <th>CA_Southern</th>\n",
              "      <td>55.313867</td>\n",
              "      <td>576.860820</td>\n",
              "    </tr>\n",
              "    <tr>\n",
              "      <th>GT_Southern</th>\n",
              "      <td>97.986667</td>\n",
              "      <td>4.705006</td>\n",
              "    </tr>\n",
              "    <tr>\n",
              "      <th>DW_Southern</th>\n",
              "      <td>98.439067</td>\n",
              "      <td>7.920937</td>\n",
              "    </tr>\n",
              "  </tbody>\n",
              "</table>\n",
              "</div>"
            ],
            "text/plain": [
              "                  mean         var\n",
              "BT_Southern  94.282000   73.708803\n",
              "EL_Southern  95.633200    7.871890\n",
              "CA_Southern  55.313867  576.860820\n",
              "GT_Southern  97.986667    4.705006\n",
              "DW_Southern  98.439067    7.920937"
            ]
          },
          "metadata": {
            "tags": []
          },
          "execution_count": 38
        }
      ]
    },
    {
      "cell_type": "code",
      "metadata": {
        "id": "6DincOyBAJT7",
        "colab": {
          "base_uri": "https://localhost:8080/",
          "height": 198
        },
        "outputId": "651c9393-46cd-47ba-83f2-1869cb71d64e"
      },
      "source": [
        "Final_df_state.loc['BT_UTs':'DW_UTs']"
      ],
      "execution_count": null,
      "outputs": [
        {
          "output_type": "execute_result",
          "data": {
            "text/html": [
              "<div>\n",
              "<style scoped>\n",
              "    .dataframe tbody tr th:only-of-type {\n",
              "        vertical-align: middle;\n",
              "    }\n",
              "\n",
              "    .dataframe tbody tr th {\n",
              "        vertical-align: top;\n",
              "    }\n",
              "\n",
              "    .dataframe thead th {\n",
              "        text-align: right;\n",
              "    }\n",
              "</style>\n",
              "<table border=\"1\" class=\"dataframe\">\n",
              "  <thead>\n",
              "    <tr style=\"text-align: right;\">\n",
              "      <th></th>\n",
              "      <th>mean</th>\n",
              "      <th>var</th>\n",
              "    </tr>\n",
              "  </thead>\n",
              "  <tbody>\n",
              "    <tr>\n",
              "      <th>BT_UTs</th>\n",
              "      <td>98.508667</td>\n",
              "      <td>10.764642</td>\n",
              "    </tr>\n",
              "    <tr>\n",
              "      <th>EL_UTs</th>\n",
              "      <td>99.784000</td>\n",
              "      <td>0.233280</td>\n",
              "    </tr>\n",
              "    <tr>\n",
              "      <th>CA_UTs</th>\n",
              "      <td>83.686667</td>\n",
              "      <td>567.123561</td>\n",
              "    </tr>\n",
              "    <tr>\n",
              "      <th>GT_UTs</th>\n",
              "      <td>99.848667</td>\n",
              "      <td>0.114509</td>\n",
              "    </tr>\n",
              "    <tr>\n",
              "      <th>DW_UTs</th>\n",
              "      <td>99.838000</td>\n",
              "      <td>0.098820</td>\n",
              "    </tr>\n",
              "  </tbody>\n",
              "</table>\n",
              "</div>"
            ],
            "text/plain": [
              "             mean         var\n",
              "BT_UTs  98.508667   10.764642\n",
              "EL_UTs  99.784000    0.233280\n",
              "CA_UTs  83.686667  567.123561\n",
              "GT_UTs  99.848667    0.114509\n",
              "DW_UTs  99.838000    0.098820"
            ]
          },
          "metadata": {
            "tags": []
          },
          "execution_count": 39
        }
      ]
    },
    {
      "cell_type": "code",
      "metadata": {
        "id": "KbxcpsTRAfFi",
        "colab": {
          "base_uri": "https://localhost:8080/",
          "height": 198
        },
        "outputId": "5d17d23e-ee35-4353-99ac-34fa466a9ea6"
      },
      "source": [
        "Final_df_state.loc['BT_Others':'DW_Others']"
      ],
      "execution_count": null,
      "outputs": [
        {
          "output_type": "execute_result",
          "data": {
            "text/html": [
              "<div>\n",
              "<style scoped>\n",
              "    .dataframe tbody tr th:only-of-type {\n",
              "        vertical-align: middle;\n",
              "    }\n",
              "\n",
              "    .dataframe tbody tr th {\n",
              "        vertical-align: top;\n",
              "    }\n",
              "\n",
              "    .dataframe thead th {\n",
              "        text-align: right;\n",
              "    }\n",
              "</style>\n",
              "<table border=\"1\" class=\"dataframe\">\n",
              "  <thead>\n",
              "    <tr style=\"text-align: right;\">\n",
              "      <th></th>\n",
              "      <th>mean</th>\n",
              "      <th>var</th>\n",
              "    </tr>\n",
              "  </thead>\n",
              "  <tbody>\n",
              "    <tr>\n",
              "      <th>BT_Others</th>\n",
              "      <td>92.645333</td>\n",
              "      <td>44.479904</td>\n",
              "    </tr>\n",
              "    <tr>\n",
              "      <th>EL_Others</th>\n",
              "      <td>60.101000</td>\n",
              "      <td>980.630212</td>\n",
              "    </tr>\n",
              "    <tr>\n",
              "      <th>CA_Others</th>\n",
              "      <td>26.706333</td>\n",
              "      <td>527.880288</td>\n",
              "    </tr>\n",
              "    <tr>\n",
              "      <th>GT_Others</th>\n",
              "      <td>94.518667</td>\n",
              "      <td>36.176996</td>\n",
              "    </tr>\n",
              "    <tr>\n",
              "      <th>DW_Others</th>\n",
              "      <td>97.190667</td>\n",
              "      <td>7.230644</td>\n",
              "    </tr>\n",
              "  </tbody>\n",
              "</table>\n",
              "</div>"
            ],
            "text/plain": [
              "                mean         var\n",
              "BT_Others  92.645333   44.479904\n",
              "EL_Others  60.101000  980.630212\n",
              "CA_Others  26.706333  527.880288\n",
              "GT_Others  94.518667   36.176996\n",
              "DW_Others  97.190667    7.230644"
            ]
          },
          "metadata": {
            "tags": []
          },
          "execution_count": 40
        }
      ]
    },
    {
      "cell_type": "markdown",
      "metadata": {
        "id": "x6frFbG-MX06"
      },
      "source": [
        "Q3\n",
        "\n",
        "(i) Estimate and report the regression coefficients"
      ]
    },
    {
      "cell_type": "code",
      "metadata": {
        "id": "xRbgPVYGEAHe"
      },
      "source": [
        "from sklearn import linear_model\n"
      ],
      "execution_count": null,
      "outputs": []
    },
    {
      "cell_type": "markdown",
      "metadata": {
        "id": "RrDXFBmxOyOz"
      },
      "source": [
        "a) Set up a regression for GER, using all the covariates except state name and year.\n",
        "(i) Estimate and report the regression coefficients\n",
        "(ii) Estimate and report the variance."
      ]
    },
    {
      "cell_type": "code",
      "metadata": {
        "id": "u7xLC4PsYDl3"
      },
      "source": [
        "X = df[['BT', 'EL',\t'CA',\t'GT',\t'DW']]\n",
        "Y = df['GER']\n",
        "X_train, X_test, Y_train, Y_test = train_test_split(X, Y)\n",
        "\n",
        "\n",
        "\n"
      ],
      "execution_count": null,
      "outputs": []
    },
    {
      "cell_type": "code",
      "metadata": {
        "id": "c4ZtVnA0Zkdy",
        "colab": {
          "base_uri": "https://localhost:8080/"
        },
        "outputId": "b2eaf2b6-75d6-45f8-a6c1-b722d986f94a"
      },
      "source": [
        "reg = LinearRegression().fit(X_train, Y_train)\n",
        "print('regression coefficients: ', reg.coef_)\n",
        "Y_pred = reg.predict(X_test)\n",
        "print(\"Variance reported:\", Y_pred.var())"
      ],
      "execution_count": null,
      "outputs": [
        {
          "output_type": "stream",
          "text": [
            "regression coefficients:  [ 0.11239987  0.08412389  0.01999893  0.20253368 -0.70727941]\n",
            "Variance reported: 12.065884381866077\n"
          ],
          "name": "stdout"
        }
      ]
    },
    {
      "cell_type": "markdown",
      "metadata": {
        "id": "QuJz40IeO8kP"
      },
      "source": [
        "b) Incorporate dummy variables in the above regression equation for the groups made in 2 (a)\n",
        "and carry out the below exercise.\n",
        "(i) Estimate and report the regression coefficients.\n",
        "(ii) Estimate and report the variance.\n"
      ]
    },
    {
      "cell_type": "code",
      "metadata": {
        "id": "4XxZRIjrB3Mu"
      },
      "source": [
        "def lit_process(x):\n",
        "  if x == \"Medium\":\n",
        "    return 0\n",
        "  elif x == \"High\":\n",
        "    return 1\n",
        "  else:\n",
        "    return -1"
      ],
      "execution_count": null,
      "outputs": []
    },
    {
      "cell_type": "code",
      "metadata": {
        "id": "w4XzpQBMWd7J"
      },
      "source": [
        "df_new[\"LIT_Group\"] = df_new.LIT.apply(lit_process)"
      ],
      "execution_count": null,
      "outputs": []
    },
    {
      "cell_type": "code",
      "metadata": {
        "colab": {
          "base_uri": "https://localhost:8080/"
        },
        "id": "tT_T7qkaDbSL",
        "outputId": "8d40a43f-cb7d-4b3b-9952-91b2d8722f1e"
      },
      "source": [
        "df_new.columns"
      ],
      "execution_count": null,
      "outputs": [
        {
          "output_type": "execute_result",
          "data": {
            "text/plain": [
              "Index([        'State',      'Literacy',           'LIT', ('GER', 'mean'),\n",
              "        ('BT', 'mean'),  ('EL', 'mean'),  ('CA', 'mean'),  ('GT', 'mean'),\n",
              "        ('DW', 'mean'),     'LIT_Group'],\n",
              "      dtype='object')"
            ]
          },
          "metadata": {
            "tags": []
          },
          "execution_count": 46
        }
      ]
    },
    {
      "cell_type": "code",
      "metadata": {
        "id": "DmxLCZFBCRiA"
      },
      "source": [
        "df_new.columns = [\"State\", \"Literacy\", \"LIT\",\"GER\", \"BT\", \"EL\", \"CA\", \"GT\", \"DW\", \"LIT_Group\"]"
      ],
      "execution_count": null,
      "outputs": []
    },
    {
      "cell_type": "code",
      "metadata": {
        "id": "NC-xNaJRFmcq",
        "colab": {
          "base_uri": "https://localhost:8080/"
        },
        "outputId": "f9965ac7-5f14-490f-d31e-701bf47aca36"
      },
      "source": [
        "X = df_new[[\"Literacy\",\"GER\", \"BT\", \"EL\", \"CA\", \"GT\", \"DW\", \"LIT_Group\"]]\n",
        "Y = df_new['GER']\n",
        "X_train, X_test, Y_train, Y_test = train_test_split(X, Y,test_size=0.33, random_state=38)\n",
        "reg = LinearRegression().fit(X_train, Y_train)\n",
        "\n",
        "print('regression coefficients: ', reg.coef_)\n",
        "Y_pred = reg.predict(X_test)\n",
        "print(\"Variance reported:\", Y_pred.var())"
      ],
      "execution_count": null,
      "outputs": [
        {
          "output_type": "stream",
          "text": [
            "regression coefficients:  [ 5.62638780e-16  1.00000000e+00 -9.15933995e-16  1.11022302e-16\n",
            " -1.11022302e-16 -2.77555756e-16 -8.60422844e-16  9.07260378e-15]\n",
            "Variance reported: 97.96163621079104\n"
          ],
          "name": "stdout"
        }
      ]
    },
    {
      "cell_type": "markdown",
      "metadata": {
        "id": "Hb510CjrKrfw"
      },
      "source": [
        "c) Incorporate dummy variables in the above regression equation for the groups made in 2 (c)\n",
        "except state name and year and estimate regression.\n",
        "(i) Estimate and report the regression coefficients\n",
        "(ii)Estimate and report variance\n",
        "\n",
        "\n",
        "."
      ]
    },
    {
      "cell_type": "code",
      "metadata": {
        "id": "dQyTKtFpigju",
        "colab": {
          "base_uri": "https://localhost:8080/"
        },
        "outputId": "f8727cce-92f7-4793-a9e9-2b0c842ad235"
      },
      "source": [
        "North= ['HIMACHAL PRADESH', 'UTTARAKHAND', 'MANIPUR','SIKKIM','MIZORAM','ASSAM','ARUNACHAL PRADESH','NAGALAND','TRIPURA','MEGHALAYA']\n",
        "UTs = ['DELHI','CHANDIGARH','DAMAN & DIU','PUDUCHERRY','GOA','DADRA & NAGAR HAVELI','ANDAMAN & NICOBAR ISLANDS','JAMMU KASHMIR','LAKSHADWEEP']\n",
        "Southern = ['KARNATAKA','MAHARASHTRA','TAMIL NADU','TELANGANA','KERALA','ANDHRA PRADESH','ODISHA']\n",
        "\n",
        "Others = ['HARYANA','GUJARAT','PUNJAB','UTTAR PRADESH','RAJASTHAN','MADHYA PRADESH','JHARKHAND','BIHAR','CHHATTISGARH','WEST BENGAL']\n",
        "\n",
        "\n",
        "def pre_process3(X):\n",
        "\n",
        "  for x in X:\n",
        "    if x.lower() in [x.lower() for x in North]:\n",
        "      return 0\n",
        "    elif x.lower() in [x.lower() for x in UTs]:\n",
        "      return 1\n",
        "    elif x.lower() in [x.lower() for x in Southern]:\n",
        "      return 2\n",
        "    elif x.lower() in [x.lower() for x in Others]:\n",
        "      return 3\n",
        "\n",
        "\n",
        "df_new['REGION'] = df_new.State.apply(pre_process3)\n",
        "df_new['REGION'] = StandardScaler().fit_transform(df_new['REGION'].values.reshape(-1, 1))\n",
        "\n",
        "X = df_new[['Literacy',\t'BT',\t'EL',\t'CA',\t'GT',\t'DW']]\n",
        "Y = df_new['GER']\n",
        "X_train, X_test, Y_train, Y_test = train_test_split(X, Y, test_size=0.33, random_state=38)\n",
        "reg = LinearRegression().fit(X_train, Y_train)\n",
        "print('regression coefficients: ', reg.coef_)\n",
        "Y_pred = reg.predict(X_test)\n",
        "print(\"Variance reported:\", (Y_test - Y_pred).var())"
      ],
      "execution_count": null,
      "outputs": [
        {
          "output_type": "stream",
          "text": [
            "regression coefficients:  [ 0.57688377  0.04690031 -0.00168697 -0.08109578  0.60593732 -0.79633164]\n",
            "Variance reported: 146.18501589055637\n"
          ],
          "name": "stdout"
        },
        {
          "output_type": "stream",
          "text": [
            "/usr/local/lib/python3.7/dist-packages/sklearn/utils/extmath.py:765: RuntimeWarning: invalid value encountered in true_divide\n",
            "  updated_mean = (last_sum + new_sum) / updated_sample_count\n",
            "/usr/local/lib/python3.7/dist-packages/sklearn/utils/extmath.py:706: RuntimeWarning: Degrees of freedom <= 0 for slice.\n",
            "  result = op(x, *args, **kwargs)\n"
          ],
          "name": "stderr"
        }
      ]
    },
    {
      "cell_type": "code",
      "metadata": {
        "id": "tWe5xt37XXHM"
      },
      "source": [],
      "execution_count": null,
      "outputs": []
    }
  ]
}