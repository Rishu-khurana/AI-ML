{
  "nbformat": 4,
  "nbformat_minor": 0,
  "metadata": {
    "colab": {
      "provenance": []
    },
    "kernelspec": {
      "name": "python3",
      "display_name": "Python 3"
    },
    "language_info": {
      "name": "python"
    }
  },
  "cells": [
    {
      "cell_type": "markdown",
      "metadata": {
        "id": "qm0aDUS54YTQ"
      },
      "source": [
        "#QUESTION 1."
      ]
    },
    {
      "cell_type": "markdown",
      "metadata": {
        "id": "DIwR9gUl7aw-"
      },
      "source": [
        "Importing Libraries"
      ]
    },
    {
      "cell_type": "code",
      "metadata": {
        "id": "SuNHBixyLb7-"
      },
      "source": [
        "import tensorflow as tf\n",
        "import matplotlib.pyplot as plt\n",
        "import numpy as np\n",
        "import platform\n",
        "import time\n",
        "import pathlib\n",
        "import os\n",
        "import json\n",
        "import zipfile"
      ],
      "execution_count": null,
      "outputs": []
    },
    {
      "cell_type": "code",
      "metadata": {
        "id": "9Qmw8l5B5To3"
      },
      "source": [
        "# Create cache folder.\n",
        "cache_dir = './tmp'\n",
        "pathlib.Path(cache_dir).mkdir(exist_ok=True)"
      ],
      "execution_count": null,
      "outputs": []
    },
    {
      "cell_type": "code",
      "metadata": {
        "colab": {
          "base_uri": "https://localhost:8080/"
        },
        "id": "bIL3fhJ7LcxB",
        "outputId": "e8d3569e-4566-4737-920e-e9c623dba2c0"
      },
      "source": [
        "# Download and unpack the dataset.\n",
        "dataset_file_name = 'recipes_raw.zip'\n",
        "dataset_file_origin = 'https://storage.googleapis.com/recipe-box/recipes_raw.zip'\n",
        "\n",
        "dataset_file_path = tf.keras.utils.get_file(\n",
        "    fname=dataset_file_name,\n",
        "    origin=dataset_file_origin,\n",
        "    cache_dir=cache_dir,\n",
        "    extract=True,\n",
        "    archive_format='zip'\n",
        ")\n",
        "\n",
        "print(dataset_file_path)"
      ],
      "execution_count": null,
      "outputs": [
        {
          "output_type": "stream",
          "name": "stdout",
          "text": [
            "./tmp/datasets/recipes_raw.zip\n"
          ]
        }
      ]
    },
    {
      "cell_type": "markdown",
      "metadata": {
        "id": "xFtyxEb0M6_s"
      },
      "source": [
        "Q1(a)"
      ]
    },
    {
      "cell_type": "code",
      "metadata": {
        "id": "Kfomdz66Li-h"
      },
      "source": [
        "#Combining all the three dataset\n",
        "def load_dataset(silent=False):\n",
        "    dataset_file_names = [\n",
        "        'recipes_raw_nosource_ar.json',\n",
        "        'recipes_raw_nosource_epi.json',\n",
        "        'recipes_raw_nosource_fn.json',\n",
        "    ]\n",
        "\n",
        "    dataset = []\n",
        "\n",
        "    for dataset_file_name in dataset_file_names:\n",
        "        dataset_file_path = f'{cache_dir}/datasets/{dataset_file_name}'\n",
        "\n",
        "        with open(dataset_file_path) as dataset_file:\n",
        "            json_data_dict = json.load(dataset_file)\n",
        "            json_data_list = list(json_data_dict.values())\n",
        "            dict_keys = [key for key in json_data_list[0]]\n",
        "            dict_keys.sort()\n",
        "            dataset += json_data_list\n",
        "\n",
        "            if silent == False:\n",
        "                print(dataset_file_path)\n",
        "                print('===========================================')\n",
        "                print('Number of examples: ', len(json_data_list), '\\n')\n",
        "                print('Example object keys:\\n', dict_keys, '\\n')\n",
        "                print('Example object:\\n', json_data_list[0], '\\n')\n",
        "                print('Required keys:\\n')\n",
        "                print('  title: ', json_data_list[0]['title'], '\\n')\n",
        "                print('  ingredients: ', json_data_list[0]['ingredients'], '\\n')\n",
        "                print('  instructions: ', json_data_list[0]['instructions'])\n",
        "                print('\\n\\n')\n",
        "\n",
        "    return dataset"
      ],
      "execution_count": null,
      "outputs": []
    },
    {
      "cell_type": "code",
      "metadata": {
        "colab": {
          "base_uri": "https://localhost:8080/"
        },
        "id": "l7u5Z7EQL9Sb",
        "outputId": "873b94d2-3edb-4fa4-bc60-bc8a67b089fb"
      },
      "source": [
        "dataset_raw = load_dataset()"
      ],
      "execution_count": null,
      "outputs": [
        {
          "output_type": "stream",
          "name": "stdout",
          "text": [
            "./tmp/datasets/recipes_raw_nosource_ar.json\n",
            "===========================================\n",
            "Number of examples:  39802 \n",
            "\n",
            "Example object keys:\n",
            " ['ingredients', 'instructions', 'picture_link', 'title'] \n",
            "\n",
            "Example object:\n",
            " {'title': 'Slow Cooker Chicken and Dumplings', 'ingredients': ['4 skinless, boneless chicken breast halves ADVERTISEMENT', '2 tablespoons butter ADVERTISEMENT', '2 (10.75 ounce) cans condensed cream of chicken soup ADVERTISEMENT', '1 onion, finely diced ADVERTISEMENT', '2 (10 ounce) packages refrigerated biscuit dough, torn into pieces ADVERTISEMENT', 'ADVERTISEMENT'], 'instructions': 'Place the chicken, butter, soup, and onion in a slow cooker, and fill with enough water to cover.\\nCover, and cook for 5 to 6 hours on High. About 30 minutes before serving, place the torn biscuit dough in the slow cooker. Cook until the dough is no longer raw in the center.\\n', 'picture_link': '55lznCYBbs2mT8BTx6BTkLhynGHzM.S'} \n",
            "\n",
            "Required keys:\n",
            "\n",
            "  title:  Slow Cooker Chicken and Dumplings \n",
            "\n",
            "  ingredients:  ['4 skinless, boneless chicken breast halves ADVERTISEMENT', '2 tablespoons butter ADVERTISEMENT', '2 (10.75 ounce) cans condensed cream of chicken soup ADVERTISEMENT', '1 onion, finely diced ADVERTISEMENT', '2 (10 ounce) packages refrigerated biscuit dough, torn into pieces ADVERTISEMENT', 'ADVERTISEMENT'] \n",
            "\n",
            "  instructions:  Place the chicken, butter, soup, and onion in a slow cooker, and fill with enough water to cover.\n",
            "Cover, and cook for 5 to 6 hours on High. About 30 minutes before serving, place the torn biscuit dough in the slow cooker. Cook until the dough is no longer raw in the center.\n",
            "\n",
            "\n",
            "\n",
            "\n",
            "./tmp/datasets/recipes_raw_nosource_epi.json\n",
            "===========================================\n",
            "Number of examples:  25323 \n",
            "\n",
            "Example object keys:\n",
            " ['ingredients', 'instructions', 'picture_link', 'title'] \n",
            "\n",
            "Example object:\n",
            " {'ingredients': ['12 egg whites', '12 egg yolks', '1 1/2 cups sugar', '3/4 cup rye whiskey', '12 egg whites', '3/4 cup brandy', '1/2 cup rum', '1 to 2 cups heavy cream, lightly whipped', 'Garnish: ground nutmeg'], 'picture_link': None, 'instructions': 'Beat the egg whites until stiff, gradually adding in 3/4 cup sugar. Set aside. Beat the egg yolks until they are thick and pale and add the other 3/4 cup sugar and stir in rye whiskey. Blend well. Fold the egg white mixture into the yolk mixture and add the brandy and the rum. Beat the mixture well. To serve, fold the lightly whipped heavy cream into the eggnog. (If a thinner mixture is desired, add the heavy cream unwhipped.) Sprinkle the top of the eggnog with the nutmeg to taste.\\nBeat the egg whites until stiff, gradually adding in 3/4 cup sugar. Set aside. Beat the egg yolks until they are thick and pale and add the other 3/4 cup sugar and stir in rye whiskey. Blend well. Fold the egg white mixture into the yolk mixture and add the brandy and the rum. Beat the mixture well. To serve, fold the lightly whipped heavy cream into the eggnog. (If a thinner mixture is desired, add the heavy cream unwhipped.) Sprinkle the top of the eggnog with the nutmeg to taste.', 'title': 'Christmas Eggnog '} \n",
            "\n",
            "Required keys:\n",
            "\n",
            "  title:  Christmas Eggnog  \n",
            "\n",
            "  ingredients:  ['12 egg whites', '12 egg yolks', '1 1/2 cups sugar', '3/4 cup rye whiskey', '12 egg whites', '3/4 cup brandy', '1/2 cup rum', '1 to 2 cups heavy cream, lightly whipped', 'Garnish: ground nutmeg'] \n",
            "\n",
            "  instructions:  Beat the egg whites until stiff, gradually adding in 3/4 cup sugar. Set aside. Beat the egg yolks until they are thick and pale and add the other 3/4 cup sugar and stir in rye whiskey. Blend well. Fold the egg white mixture into the yolk mixture and add the brandy and the rum. Beat the mixture well. To serve, fold the lightly whipped heavy cream into the eggnog. (If a thinner mixture is desired, add the heavy cream unwhipped.) Sprinkle the top of the eggnog with the nutmeg to taste.\n",
            "Beat the egg whites until stiff, gradually adding in 3/4 cup sugar. Set aside. Beat the egg yolks until they are thick and pale and add the other 3/4 cup sugar and stir in rye whiskey. Blend well. Fold the egg white mixture into the yolk mixture and add the brandy and the rum. Beat the mixture well. To serve, fold the lightly whipped heavy cream into the eggnog. (If a thinner mixture is desired, add the heavy cream unwhipped.) Sprinkle the top of the eggnog with the nutmeg to taste.\n",
            "\n",
            "\n",
            "\n",
            "./tmp/datasets/recipes_raw_nosource_fn.json\n",
            "===========================================\n",
            "Number of examples:  60039 \n",
            "\n",
            "Example object keys:\n",
            " ['ingredients', 'instructions', 'picture_link', 'title'] \n",
            "\n",
            "Example object:\n",
            " {'instructions': 'Toss ingredients lightly and spoon into a buttered baking dish. Top with additional crushed cracker crumbs, and brush with melted butter. Bake in a preheated at 350 degrees oven for 25 to 30 minutes or until delicately browned.', 'ingredients': ['1/2 cup celery, finely chopped', '1 small green pepper finely chopped', '1/2 cup finely sliced green onions', '1/4 cup chopped parsley', '1 pound crabmeat', '1 1/4 cups coarsely crushed cracker crumbs', '1/2 teaspoon salt', '3/4 teaspoons dry mustard', 'Dash hot sauce', '1/4 cup heavy cream', '1/2 cup melted butter'], 'title': \"Grammie Hamblet's Deviled Crab\", 'picture_link': None} \n",
            "\n",
            "Required keys:\n",
            "\n",
            "  title:  Grammie Hamblet's Deviled Crab \n",
            "\n",
            "  ingredients:  ['1/2 cup celery, finely chopped', '1 small green pepper finely chopped', '1/2 cup finely sliced green onions', '1/4 cup chopped parsley', '1 pound crabmeat', '1 1/4 cups coarsely crushed cracker crumbs', '1/2 teaspoon salt', '3/4 teaspoons dry mustard', 'Dash hot sauce', '1/4 cup heavy cream', '1/2 cup melted butter'] \n",
            "\n",
            "  instructions:  Toss ingredients lightly and spoon into a buttered baking dish. Top with additional crushed cracker crumbs, and brush with melted butter. Bake in a preheated at 350 degrees oven for 25 to 30 minutes or until delicately browned.\n",
            "\n",
            "\n",
            "\n"
          ]
        }
      ]
    },
    {
      "cell_type": "code",
      "metadata": {
        "id": "MP1-Gw95MQsk"
      },
      "source": [
        "# Filters out datarows which don't have 1. title, 2. ingredients or 3.instructions.\n",
        "def recipe_validate_required_fields(recipe):\n",
        "    required_keys = ['title', 'ingredients', 'instructions']\n",
        "\n",
        "    if not recipe:\n",
        "        return False\n",
        "\n",
        "    for required_key in required_keys:\n",
        "        if not recipe[required_key]:\n",
        "            return False\n",
        "\n",
        "        if type(recipe[required_key]) == list and len(recipe[required_key]) == 0:\n",
        "            return False\n",
        "\n",
        "    return True"
      ],
      "execution_count": null,
      "outputs": []
    },
    {
      "cell_type": "code",
      "metadata": {
        "id": "2U0IrMhxMmv7"
      },
      "source": [
        "STOP_WORD_TITLE = '📗 '\n",
        "STOP_WORD_INGREDIENTS = '\\n🥕\\n\\n'\n",
        "STOP_WORD_INSTRUCTIONS = '\\n📝\\n\\n'"
      ],
      "execution_count": null,
      "outputs": []
    },
    {
      "cell_type": "code",
      "metadata": {
        "id": "cjJMO2PjMsTB"
      },
      "source": [
        "# Converts data of recipes into string (sequence of characters)\n",
        "def recipe_to_string(recipe):\n",
        "    noize_string = 'ADVERTISEMENT' #Cleaning any noise\n",
        "\n",
        "    title = recipe['title']\n",
        "    ingredients = recipe['ingredients']\n",
        "    instructions = recipe['instructions'].split('\\n')\n",
        "\n",
        "    ingredients_string = ''\n",
        "    for ingredient in ingredients:\n",
        "        ingredient = ingredient.replace(noize_string, '')\n",
        "        if ingredient:\n",
        "            ingredients_string += f'• {ingredient}\\n'\n",
        "\n",
        "    instructions_string = ''\n",
        "    for instruction in instructions:\n",
        "        instruction = instruction.replace(noize_string, '')\n",
        "        if instruction:\n",
        "            instructions_string += f'▪︎ {instruction}\\n'\n",
        "\n",
        "    return f'{STOP_WORD_TITLE}{title}\\n{STOP_WORD_INGREDIENTS}{ingredients_string}{STOP_WORD_INSTRUCTIONS}{instructions_string}'"
      ],
      "execution_count": null,
      "outputs": []
    },
    {
      "cell_type": "code",
      "metadata": {
        "colab": {
          "base_uri": "https://localhost:8080/"
        },
        "id": "bHc2LeDuMugV",
        "outputId": "482d1770-7bdf-430f-be4e-8c21af6cabd2"
      },
      "source": [
        "data_validate = [recipe for recipe in dataset_raw if recipe_validate_required_fields(recipe)]\n",
        "dataset_stringified = [recipe_to_string(recipe) for recipe in data_validate]\n",
        "\n",
        "print('Stringified dataset size: ', len(dataset_stringified))"
      ],
      "execution_count": null,
      "outputs": [
        {
          "output_type": "stream",
          "name": "stdout",
          "text": [
            "Stringified dataset size:  122938\n"
          ]
        }
      ]
    },
    {
      "cell_type": "markdown",
      "metadata": {
        "id": "wtUEu0k1PJK2"
      },
      "source": [
        "Five recipes"
      ]
    },
    {
      "cell_type": "code",
      "metadata": {
        "colab": {
          "base_uri": "https://localhost:8080/"
        },
        "id": "YGzLLs6gMxY0",
        "outputId": "f05a5fbb-ad0b-4b8d-daf3-4f71e596786f"
      },
      "source": [
        "for recipe_index, recipe_string in enumerate(dataset_stringified[25:30]):\n",
        "    print('Recipe #{}\\n---------'.format(recipe_index + 1))\n",
        "    print(recipe_string)\n",
        "    print('\\n')"
      ],
      "execution_count": null,
      "outputs": [
        {
          "output_type": "stream",
          "name": "stdout",
          "text": [
            "Recipe #1\n",
            "---------\n",
            "📗 Bailey's Irish Cream Brownies\n",
            "\n",
            "🥕\n",
            "\n",
            "• 2 (19.8 ounce) packages fudge brownie mix (such as Duncan Hines®) \n",
            "• 1 cup Irish cream liqueur (such as Baileys®) \n",
            "• 2/3 cup vegetable oil \n",
            "• 2 eggs \n",
            "• 1 cup unsalted butter, softened \n",
            "• 5 tablespoons Irish cream liqueur (such as Baileys®) \n",
            "• 4 cups confectioners' sugar \n",
            "\n",
            "📝\n",
            "\n",
            "▪︎ Preheat oven to 350 degrees F (175 degrees C).\n",
            "▪︎ Butter the bottom of a 10 1/2x15 1/2-inch jelly roll pan.\n",
            "▪︎ Place fudge brownie mix into a large bowl; beat in 1 cup of Irish cream liqueur, vegetable oil, and eggs until the mixture forms a smooth batter.\n",
            "▪︎ Spread the batter into the prepared jelly roll pan.\n",
            "▪︎ Bake in the preheated oven until the brownies are set and a toothpick inserted into the center comes out clean, about 20 minutes. Remove pan from oven and allow to cool completely.\n",
            "▪︎ Beat unsalted butter in a large bowl until smooth; beat in 5 tablespoons Irish cream liqueur until mixture is creamy.\n",
            "▪︎ Slowly beat in confectioners' sugar, 1 cup at a time, until frosting is desired stiffness; spread frosting on brownies to serve.\n",
            "\n",
            "\n",
            "\n",
            "Recipe #2\n",
            "---------\n",
            "📗 Apple Pie by Grandma Ople\n",
            "\n",
            "🥕\n",
            "\n",
            "• 1 recipe pastry for a 9 inch double crust pie \n",
            "• 1/2 cup unsalted butter \n",
            "• 3 tablespoons all-purpose flour \n",
            "• 1/4 cup water \n",
            "• 1/2 cup white sugar \n",
            "• 1/2 cup packed brown sugar \n",
            "• 8 Granny Smith apples - peeled, cored and sliced \n",
            "\n",
            "📝\n",
            "\n",
            "▪︎ Preheat oven to 425 degrees F (220 degrees C). Melt the butter in a saucepan. Stir in flour to form a paste. Add water, white sugar and brown sugar, and bring to a boil. Reduce temperature and let simmer.\n",
            "▪︎ Place the bottom crust in your pan. Fill with apples, mounded slightly. Cover with a lattice work crust. Gently pour the sugar and butter liquid over the crust. Pour slowly so that it does not run off.\n",
            "▪︎ Bake 15 minutes in the preheated oven. Reduce the temperature to 350 degrees F (175 degrees C). Continue baking for 35 to 45 minutes, until apples are soft.\n",
            "\n",
            "\n",
            "\n",
            "Recipe #3\n",
            "---------\n",
            "📗 Easy Irish Colcannon\n",
            "\n",
            "🥕\n",
            "\n",
            "• 2 pounds potatoes, peeled and cubed \n",
            "• 1 head cabbage, chopped \n",
            "• 1 bunch green onions, chopped \n",
            "• 1/4 cup butter, softened \n",
            "• 1/2 cup half-and-half cream \n",
            "• salt and black pepper to taste \n",
            "\n",
            "📝\n",
            "\n",
            "▪︎ Place the potatoes, cabbage, and green onions into a large sauce pan, fill with water, and bring to a boil. Reduce heat, cover, and simmer until the potatoes are tender, about 20 minutes.\n",
            "▪︎ Drain the vegetables and place into a large bowl. Mash the potatoes and vegetables with the butter using a fork until the mixture is chunky, pouring in half-and-half gradually as you mash. Season with salt and pepper, and serve.\n",
            "\n",
            "\n",
            "\n",
            "Recipe #4\n",
            "---------\n",
            "📗 Ang's Balsamic Maple Chicken\n",
            "\n",
            "🥕\n",
            "\n",
            "• 2 tablespoons maple syrup \n",
            "• 1 tablespoon balsamic syrup \n",
            "• 1/4 teaspoon garlic powder \n",
            "• 2 pinches cayenne pepper \n",
            "• 1 pinch ground white pepper \n",
            "• 1 pinch ground nutmeg \n",
            "• 1 pinch ground dried chipotle pepper \n",
            "• 3 skinless, boneless chicken breast halves \n",
            "• 1 tablespoon olive oil \n",
            "\n",
            "📝\n",
            "\n",
            "▪︎ Whisk maple syrup, balsamic vinegar, garlic powder, cayenne pepper, white pepper, nutmeg, and chipotle pepper together in a small bowl until rub is smooth. Coat chicken on all sides with rub.\n",
            "▪︎ Heat olive oil in a large skillet over medium-high heat. Cook chicken in hot oil until no longer pink in the center and juices run clear, 5 to 10 minutes per side. An instant-read thermometer inserted into the center should read at least 165 degrees F (74 degrees C).\n",
            "\n",
            "\n",
            "\n",
            "Recipe #5\n",
            "---------\n",
            "📗 Zesty Slow Cooker Chicken Barbecue\n",
            "\n",
            "🥕\n",
            "\n",
            "• 6 frozen skinless, boneless chicken breast halves \n",
            "• 1 (12 ounce) bottle barbeque sauce \n",
            "• 1/2 cup Italian salad dressing \n",
            "• 1/4 cup brown sugar \n",
            "• 2 tablespoons Worcestershire sauce \n",
            "\n",
            "📝\n",
            "\n",
            "▪︎ Place chicken in a slow cooker. In a bowl, mix the barbecue sauce, Italian salad dressing, brown sugar, and Worcestershire sauce. Pour over the chicken.\n",
            "▪︎ Cover, and cook 3 to 4 hours on High or 6 to 8 hours on Low.\n",
            "\n",
            "\n",
            "\n"
          ]
        }
      ]
    },
    {
      "cell_type": "markdown",
      "metadata": {
        "id": "-pHw12MUOZiB"
      },
      "source": [
        "Q1-(b)"
      ]
    },
    {
      "cell_type": "code",
      "metadata": {
        "id": "heQ4TYCQYdlC"
      },
      "source": [
        "import pandas as pd\n",
        "from wordcloud import WordCloud\n",
        "\n",
        "def minimal_wordcloud(df, column):\n",
        "  text = str(df[column].values)\n",
        "  wordcloud = WordCloud().generate(text)\n",
        "  image = wordcloud.to_image()\n",
        "  return image"
      ],
      "execution_count": null,
      "outputs": []
    },
    {
      "cell_type": "code",
      "metadata": {
        "id": "Ttll59JtcoAT"
      },
      "source": [
        "recipe = pd.read_csv('IndianFoodDatasetCSV.csv')\n",
        "\n"
      ],
      "execution_count": null,
      "outputs": []
    },
    {
      "cell_type": "code",
      "metadata": {
        "colab": {
          "base_uri": "https://localhost:8080/",
          "height": 559
        },
        "id": "5rWfeo1TmWbX",
        "outputId": "41953aed-f5e6-45b5-ab5c-7c05c1ab5ef1"
      },
      "source": [
        "recipe.tail(5)"
      ],
      "execution_count": null,
      "outputs": [
        {
          "output_type": "execute_result",
          "data": {
            "text/html": [
              "<div>\n",
              "<style scoped>\n",
              "    .dataframe tbody tr th:only-of-type {\n",
              "        vertical-align: middle;\n",
              "    }\n",
              "\n",
              "    .dataframe tbody tr th {\n",
              "        vertical-align: top;\n",
              "    }\n",
              "\n",
              "    .dataframe thead th {\n",
              "        text-align: right;\n",
              "    }\n",
              "</style>\n",
              "<table border=\"1\" class=\"dataframe\">\n",
              "  <thead>\n",
              "    <tr style=\"text-align: right;\">\n",
              "      <th></th>\n",
              "      <th>Srno</th>\n",
              "      <th>RecipeName</th>\n",
              "      <th>TranslatedRecipeName</th>\n",
              "      <th>Ingredients</th>\n",
              "      <th>TranslatedIngredients</th>\n",
              "      <th>PrepTimeInMins</th>\n",
              "      <th>CookTimeInMins</th>\n",
              "      <th>TotalTimeInMins</th>\n",
              "      <th>Servings</th>\n",
              "      <th>Cuisine</th>\n",
              "      <th>Course</th>\n",
              "      <th>Diet</th>\n",
              "      <th>Instructions</th>\n",
              "      <th>TranslatedInstructions</th>\n",
              "      <th>URL</th>\n",
              "    </tr>\n",
              "  </thead>\n",
              "  <tbody>\n",
              "    <tr>\n",
              "      <th>6866</th>\n",
              "      <td>14073</td>\n",
              "      <td>गोअन मशरुम जकुटी रेसिपी - Goan Mushroom Xacuti...</td>\n",
              "      <td>Goan Mushroom Xacuti Recipe</td>\n",
              "      <td>20 बटन मशरुम,2 प्याज - काट ले,1 टमाटर - बारीक ...</td>\n",
              "      <td>20 बटन मशरुम,2 प्याज - काट ले,1 टमाटर - बारीक ...</td>\n",
              "      <td>15</td>\n",
              "      <td>45</td>\n",
              "      <td>60</td>\n",
              "      <td>4</td>\n",
              "      <td>Goan Recipes</td>\n",
              "      <td>Lunch</td>\n",
              "      <td>Vegetarian</td>\n",
              "      <td>गोअन मशरुम जकुटी रेसिपी बनाने के लिए सबसे पहले...</td>\n",
              "      <td>गोअन मशरुम जकुटी रेसिपी बनाने के लिए सबसे पहले...</td>\n",
              "      <td>https://www.archanaskitchen.com/goan-mushroom-...</td>\n",
              "    </tr>\n",
              "    <tr>\n",
              "      <th>6867</th>\n",
              "      <td>14107</td>\n",
              "      <td>शकरकंदी और मेथी का पराठा रेसिपी - Sweet Potato...</td>\n",
              "      <td>Sweet Potato &amp; Methi Stuffed Paratha Recipe</td>\n",
              "      <td>1 बड़ा चम्मच तेल,1 कप गेहूं का आटा,नमक - स्वाद ...</td>\n",
              "      <td>1 बड़ा चम्मच तेल,1 कप गेहूं का आटा,नमक - स्वाद ...</td>\n",
              "      <td>30</td>\n",
              "      <td>60</td>\n",
              "      <td>90</td>\n",
              "      <td>4</td>\n",
              "      <td>North Indian Recipes</td>\n",
              "      <td>North Indian Breakfast</td>\n",
              "      <td>Diabetic Friendly</td>\n",
              "      <td>शकरकंदी और मेथी का पराठा रेसिपी बनाने के लिए स...</td>\n",
              "      <td>शकरकंदी और मेथी का पराठा रेसिपी बनाने के लिए स...</td>\n",
              "      <td>https://www.archanaskitchen.com/sweet-potato-m...</td>\n",
              "    </tr>\n",
              "    <tr>\n",
              "      <th>6868</th>\n",
              "      <td>14165</td>\n",
              "      <td>Ullikadala Pulusu Recipe | Spring Onion Curry</td>\n",
              "      <td>Ullikadala Pulusu Recipe | Spring Onion Curry</td>\n",
              "      <td>150 grams Spring Onion (Bulb &amp; Greens) - chopp...</td>\n",
              "      <td>150 grams Spring Onion (Bulb &amp; Greens) - chopp...</td>\n",
              "      <td>5</td>\n",
              "      <td>10</td>\n",
              "      <td>15</td>\n",
              "      <td>2</td>\n",
              "      <td>Andhra</td>\n",
              "      <td>Side Dish</td>\n",
              "      <td>Vegetarian</td>\n",
              "      <td>To begin making Ullikadala Pulusu Recipe | Spr...</td>\n",
              "      <td>To begin making Ullikadala Pulusu Recipe | Spr...</td>\n",
              "      <td>https://www.archanaskitchen.com/ullikadala-pul...</td>\n",
              "    </tr>\n",
              "    <tr>\n",
              "      <th>6869</th>\n",
              "      <td>14167</td>\n",
              "      <td>Kashmiri Style Kokur Yakhni Recipe-Chicken Coo...</td>\n",
              "      <td>Kashmiri Style Kokur Yakhni Recipe-Chicken Coo...</td>\n",
              "      <td>1 kg Chicken - medium pieces,1/2 cup Mustard o...</td>\n",
              "      <td>1 kg Chicken - medium pieces,1/2 cup Mustard o...</td>\n",
              "      <td>30</td>\n",
              "      <td>45</td>\n",
              "      <td>75</td>\n",
              "      <td>4</td>\n",
              "      <td>Kashmiri</td>\n",
              "      <td>Lunch</td>\n",
              "      <td>Non Vegeterian</td>\n",
              "      <td>To begin making the Kashmiri Kokur Yakhni reci...</td>\n",
              "      <td>To begin making the Kashmiri Kokur Yakhni reci...</td>\n",
              "      <td>http://www.archanaskitchen.com/kashmiri-kokur-...</td>\n",
              "    </tr>\n",
              "    <tr>\n",
              "      <th>6870</th>\n",
              "      <td>14211</td>\n",
              "      <td>नवरंग दाल रेसिपी - Navrang Dal Recipe</td>\n",
              "      <td>Navrang Dal Recipe</td>\n",
              "      <td>2 बड़े चम्मच हरी मूंग दाल,2 बड़े चम्मच सफ़ेद उरद ...</td>\n",
              "      <td>2 बड़े चम्मच हरी मूंग दाल,2 बड़े चम्मच सफ़ेद उरद ...</td>\n",
              "      <td>10</td>\n",
              "      <td>30</td>\n",
              "      <td>40</td>\n",
              "      <td>4</td>\n",
              "      <td>North Indian Recipes</td>\n",
              "      <td>Lunch</td>\n",
              "      <td>High Protein Vegetarian</td>\n",
              "      <td>नवरंग दाल रेसिपी  बनाने के लिए सबसे पहले सारी ...</td>\n",
              "      <td>नवरंग दाल रेसिपी  बनाने के लिए सबसे पहले सारी ...</td>\n",
              "      <td>https://www.archanaskitchen.com/navrang-dal-re...</td>\n",
              "    </tr>\n",
              "  </tbody>\n",
              "</table>\n",
              "</div>"
            ],
            "text/plain": [
              "       Srno  ...                                                URL\n",
              "6866  14073  ...  https://www.archanaskitchen.com/goan-mushroom-...\n",
              "6867  14107  ...  https://www.archanaskitchen.com/sweet-potato-m...\n",
              "6868  14165  ...  https://www.archanaskitchen.com/ullikadala-pul...\n",
              "6869  14167  ...  http://www.archanaskitchen.com/kashmiri-kokur-...\n",
              "6870  14211  ...  https://www.archanaskitchen.com/navrang-dal-re...\n",
              "\n",
              "[5 rows x 15 columns]"
            ]
          },
          "metadata": {},
          "execution_count": 43
        }
      ]
    },
    {
      "cell_type": "markdown",
      "metadata": {
        "id": "HCWOXuKrlwYv"
      },
      "source": [
        "STORAGE OF RECIPE -ID AND INGREDIENTS"
      ]
    },
    {
      "cell_type": "code",
      "metadata": {
        "colab": {
          "base_uri": "https://localhost:8080/",
          "height": 203
        },
        "id": "HzjleHCUmVFZ",
        "outputId": "1f064cb5-56ac-42f8-f190-fef976bc5ab0"
      },
      "source": [
        "recipe[['RecipeName','Ingredients']].head(5)"
      ],
      "execution_count": null,
      "outputs": [
        {
          "output_type": "execute_result",
          "data": {
            "text/html": [
              "<div>\n",
              "<style scoped>\n",
              "    .dataframe tbody tr th:only-of-type {\n",
              "        vertical-align: middle;\n",
              "    }\n",
              "\n",
              "    .dataframe tbody tr th {\n",
              "        vertical-align: top;\n",
              "    }\n",
              "\n",
              "    .dataframe thead th {\n",
              "        text-align: right;\n",
              "    }\n",
              "</style>\n",
              "<table border=\"1\" class=\"dataframe\">\n",
              "  <thead>\n",
              "    <tr style=\"text-align: right;\">\n",
              "      <th></th>\n",
              "      <th>RecipeName</th>\n",
              "      <th>Ingredients</th>\n",
              "    </tr>\n",
              "  </thead>\n",
              "  <tbody>\n",
              "    <tr>\n",
              "      <th>0</th>\n",
              "      <td>Masala Karela Recipe</td>\n",
              "      <td>6 Karela (Bitter Gourd/ Pavakkai) - deseeded,S...</td>\n",
              "    </tr>\n",
              "    <tr>\n",
              "      <th>1</th>\n",
              "      <td>टमाटर पुलियोगरे रेसिपी - Spicy Tomato Rice (Re...</td>\n",
              "      <td>2-1/2 कप चावल - पका ले,3 टमाटर,3 छोटा चमच्च बी...</td>\n",
              "    </tr>\n",
              "    <tr>\n",
              "      <th>2</th>\n",
              "      <td>Ragi Semiya Upma Recipe - Ragi Millet Vermicel...</td>\n",
              "      <td>1-1/2 cups Rice Vermicelli Noodles (Thin),1 On...</td>\n",
              "    </tr>\n",
              "    <tr>\n",
              "      <th>3</th>\n",
              "      <td>Gongura Chicken Curry Recipe - Andhra Style Go...</td>\n",
              "      <td>500 grams Chicken,2 Onion - chopped,1 Tomato -...</td>\n",
              "    </tr>\n",
              "    <tr>\n",
              "      <th>4</th>\n",
              "      <td>आंध्रा स्टाइल आलम पचड़ी रेसिपी - Adrak Chutney ...</td>\n",
              "      <td>1 बड़ा चमच्च चना दाल,1 बड़ा चमच्च सफ़ेद उरद दाल,2...</td>\n",
              "    </tr>\n",
              "  </tbody>\n",
              "</table>\n",
              "</div>"
            ],
            "text/plain": [
              "                                          RecipeName                                        Ingredients\n",
              "0                               Masala Karela Recipe  6 Karela (Bitter Gourd/ Pavakkai) - deseeded,S...\n",
              "1  टमाटर पुलियोगरे रेसिपी - Spicy Tomato Rice (Re...  2-1/2 कप चावल - पका ले,3 टमाटर,3 छोटा चमच्च बी...\n",
              "2  Ragi Semiya Upma Recipe - Ragi Millet Vermicel...  1-1/2 cups Rice Vermicelli Noodles (Thin),1 On...\n",
              "3  Gongura Chicken Curry Recipe - Andhra Style Go...  500 grams Chicken,2 Onion - chopped,1 Tomato -...\n",
              "4  आंध्रा स्टाइल आलम पचड़ी रेसिपी - Adrak Chutney ...  1 बड़ा चमच्च चना दाल,1 बड़ा चमच्च सफ़ेद उरद दाल,2..."
            ]
          },
          "metadata": {},
          "execution_count": 44
        }
      ]
    },
    {
      "cell_type": "markdown",
      "metadata": {
        "id": "GlpZYpxwiEoJ"
      },
      "source": [
        "INTERPRETATION (C and D)"
      ]
    },
    {
      "cell_type": "markdown",
      "metadata": {
        "id": "KbO9sYxLhDgU"
      },
      "source": [
        "The central problem for coarse-graining is how to link simulations of detailed models with simulations of coarse-grained (CG) ones through the propagation of information.\n",
        "CG model enables efficient simulations covering different spatial and temporal scales, from the quantum mechanics with the highest level of accuracy to the macroscopic continuum model that depends on the theoretical constitutive law or experimental empirical relationship.\n",
        "According to the direction of information propagation, CG methods can be classified into two different categories: bottom-up and top-down approaches:\n",
        "1)For the bottom-up methods, the fundamental physical principles at the smaller scales are used to parametrize a model at a CG scale; while the behavior at larger scales is used to inform the interactions at smaller scales in top-down CG methods. When designing a CG model, the first step is to define a pseudo atom or CG site. These sites can be designed to represent combined groups of multiple atoms or functional groups.\n",
        "2)The second key aspect in developing the CG model is to define an effective energy function U for the CG model, which determines the interactions between pseudo atoms.\n",
        "In the top-down CG methods, the energy function U is constructed and parametrized by either atomistic simulations or experiments to reproduce target properties, such as density, diffusivity, and partition energy.\n",
        "\n"
      ]
    },
    {
      "cell_type": "markdown",
      "metadata": {
        "id": "tcpWraYclbXX"
      },
      "source": [
        "#QUESTION 2."
      ]
    },
    {
      "cell_type": "code",
      "metadata": {
        "id": "gwmLzjJSXhhc"
      },
      "source": [
        "import pandas as pd\n",
        "import seaborn as sns\n",
        "import matplotlib.pyplot as plt\n",
        "import nltk\n",
        "from nltk.stem import WordNetLemmatizer\n",
        "from collections import Counter\n",
        "import json\n",
        "from nltk.stem import WordNetLemmatizer\n",
        "import re\n",
        "from sklearn.feature_extraction.text import TfidfVectorizer\n",
        "from sklearn.linear_model import LogisticRegression"
      ],
      "execution_count": null,
      "outputs": []
    },
    {
      "cell_type": "code",
      "metadata": {
        "id": "saOpi8fZZxdl"
      },
      "source": [
        "df = pd.read_json('/content/train.json')\n",
        "\n",
        "df_newd.read_json('/content/test.json')"
      ],
      "execution_count": null,
      "outputs": []
    },
    {
      "cell_type": "code",
      "metadata": {
        "colab": {
          "base_uri": "https://localhost:8080/",
          "height": 203
        },
        "id": "lb22vYz9bJkZ",
        "outputId": "5e290879-2c4e-4657-9a2c-b1c08e575806"
      },
      "source": [
        "df.head(5)"
      ],
      "execution_count": null,
      "outputs": [
        {
          "output_type": "execute_result",
          "data": {
            "text/html": [
              "<div>\n",
              "<style scoped>\n",
              "    .dataframe tbody tr th:only-of-type {\n",
              "        vertical-align: middle;\n",
              "    }\n",
              "\n",
              "    .dataframe tbody tr th {\n",
              "        vertical-align: top;\n",
              "    }\n",
              "\n",
              "    .dataframe thead th {\n",
              "        text-align: right;\n",
              "    }\n",
              "</style>\n",
              "<table border=\"1\" class=\"dataframe\">\n",
              "  <thead>\n",
              "    <tr style=\"text-align: right;\">\n",
              "      <th></th>\n",
              "      <th>id</th>\n",
              "      <th>cuisine</th>\n",
              "      <th>ingredients</th>\n",
              "    </tr>\n",
              "  </thead>\n",
              "  <tbody>\n",
              "    <tr>\n",
              "      <th>0</th>\n",
              "      <td>10259</td>\n",
              "      <td>greek</td>\n",
              "      <td>[romaine lettuce, black olives, grape tomatoes...</td>\n",
              "    </tr>\n",
              "    <tr>\n",
              "      <th>1</th>\n",
              "      <td>25693</td>\n",
              "      <td>southern_us</td>\n",
              "      <td>[plain flour, ground pepper, salt, tomatoes, g...</td>\n",
              "    </tr>\n",
              "    <tr>\n",
              "      <th>2</th>\n",
              "      <td>20130</td>\n",
              "      <td>filipino</td>\n",
              "      <td>[eggs, pepper, salt, mayonaise, cooking oil, g...</td>\n",
              "    </tr>\n",
              "    <tr>\n",
              "      <th>3</th>\n",
              "      <td>22213</td>\n",
              "      <td>indian</td>\n",
              "      <td>[water, vegetable oil, wheat, salt]</td>\n",
              "    </tr>\n",
              "    <tr>\n",
              "      <th>4</th>\n",
              "      <td>13162</td>\n",
              "      <td>indian</td>\n",
              "      <td>[black pepper, shallots, cornflour, cayenne pe...</td>\n",
              "    </tr>\n",
              "  </tbody>\n",
              "</table>\n",
              "</div>"
            ],
            "text/plain": [
              "      id      cuisine                                        ingredients\n",
              "0  10259        greek  [romaine lettuce, black olives, grape tomatoes...\n",
              "1  25693  southern_us  [plain flour, ground pepper, salt, tomatoes, g...\n",
              "2  20130     filipino  [eggs, pepper, salt, mayonaise, cooking oil, g...\n",
              "3  22213       indian                [water, vegetable oil, wheat, salt]\n",
              "4  13162       indian  [black pepper, shallots, cornflour, cayenne pe..."
            ]
          },
          "metadata": {},
          "execution_count": 47
        }
      ]
    },
    {
      "cell_type": "code",
      "metadata": {
        "id": "-kM8hZkW-Yuw",
        "colab": {
          "base_uri": "https://localhost:8080/",
          "height": 203
        },
        "outputId": "42b80ebe-945d-4c25-c773-26cfe5b7738b"
      },
      "source": [
        "df_new.head(5)"
      ],
      "execution_count": null,
      "outputs": [
        {
          "output_type": "execute_result",
          "data": {
            "text/html": [
              "<div>\n",
              "<style scoped>\n",
              "    .dataframe tbody tr th:only-of-type {\n",
              "        vertical-align: middle;\n",
              "    }\n",
              "\n",
              "    .dataframe tbody tr th {\n",
              "        vertical-align: top;\n",
              "    }\n",
              "\n",
              "    .dataframe thead th {\n",
              "        text-align: right;\n",
              "    }\n",
              "</style>\n",
              "<table border=\"1\" class=\"dataframe\">\n",
              "  <thead>\n",
              "    <tr style=\"text-align: right;\">\n",
              "      <th></th>\n",
              "      <th>id</th>\n",
              "      <th>ingredients</th>\n",
              "    </tr>\n",
              "  </thead>\n",
              "  <tbody>\n",
              "    <tr>\n",
              "      <th>0</th>\n",
              "      <td>18009</td>\n",
              "      <td>[baking powder, eggs, all-purpose flour, raisi...</td>\n",
              "    </tr>\n",
              "    <tr>\n",
              "      <th>1</th>\n",
              "      <td>28583</td>\n",
              "      <td>[sugar, egg yolks, corn starch, cream of tarta...</td>\n",
              "    </tr>\n",
              "    <tr>\n",
              "      <th>2</th>\n",
              "      <td>41580</td>\n",
              "      <td>[sausage links, fennel bulb, fronds, olive oil...</td>\n",
              "    </tr>\n",
              "    <tr>\n",
              "      <th>3</th>\n",
              "      <td>29752</td>\n",
              "      <td>[meat cuts, file powder, smoked sausage, okra,...</td>\n",
              "    </tr>\n",
              "    <tr>\n",
              "      <th>4</th>\n",
              "      <td>35687</td>\n",
              "      <td>[ground black pepper, salt, sausage casings, l...</td>\n",
              "    </tr>\n",
              "  </tbody>\n",
              "</table>\n",
              "</div>"
            ],
            "text/plain": [
              "      id                                        ingredients\n",
              "0  18009  [baking powder, eggs, all-purpose flour, raisi...\n",
              "1  28583  [sugar, egg yolks, corn starch, cream of tarta...\n",
              "2  41580  [sausage links, fennel bulb, fronds, olive oil...\n",
              "3  29752  [meat cuts, file powder, smoked sausage, okra,...\n",
              "4  35687  [ground black pepper, salt, sausage casings, l..."
            ]
          },
          "metadata": {},
          "execution_count": 48
        }
      ]
    },
    {
      "cell_type": "markdown",
      "metadata": {
        "id": "9LZr8WkRdc1n"
      },
      "source": [
        "Q-2 a) No. of recipes ,no. of cuisines and no. of unique ingredients."
      ]
    },
    {
      "cell_type": "code",
      "metadata": {
        "colab": {
          "base_uri": "https://localhost:8080/"
        },
        "id": "-sNDHRceN6YT",
        "outputId": "a929c091-ab87-460b-fa30-7829fd2f2d56"
      },
      "source": [
        "total_cuisines = set(df['cuisine'])\n",
        "total_cuisines"
      ],
      "execution_count": null,
      "outputs": [
        {
          "output_type": "execute_result",
          "data": {
            "text/plain": [
              "{'brazilian',\n",
              " 'british',\n",
              " 'cajun_creole',\n",
              " 'chinese',\n",
              " 'filipino',\n",
              " 'french',\n",
              " 'greek',\n",
              " 'indian',\n",
              " 'irish',\n",
              " 'italian',\n",
              " 'jamaican',\n",
              " 'japanese',\n",
              " 'korean',\n",
              " 'mexican',\n",
              " 'moroccan',\n",
              " 'russian',\n",
              " 'southern_us',\n",
              " 'spanish',\n",
              " 'thai',\n",
              " 'vietnamese'}"
            ]
          },
          "metadata": {},
          "execution_count": 49
        }
      ]
    },
    {
      "cell_type": "code",
      "metadata": {
        "colab": {
          "base_uri": "https://localhost:8080/"
        },
        "id": "0CuL8DsqbWK2",
        "outputId": "1b96137c-60a1-4d9b-fde8-bea08285173f"
      },
      "source": [
        "print('No. of unique cuisines',len(df.cuisine.unique()))"
      ],
      "execution_count": null,
      "outputs": [
        {
          "output_type": "stream",
          "name": "stdout",
          "text": [
            "No. of unique cuisines 20\n"
          ]
        }
      ]
    },
    {
      "cell_type": "code",
      "metadata": {
        "colab": {
          "base_uri": "https://localhost:8080/"
        },
        "id": "tIGvUTCH0juX",
        "outputId": "fbdf4739-e9ee-47b7-e5b4-24aa6fd51ce7"
      },
      "source": [
        "all_ingre = set()\n",
        "for ingre in df['ingredients']:\n",
        "    all_ingre = all_ingre | set(ingre)\n",
        "len(all_ingre)\n",
        "print('No. of unique ingredients- ',len(set(all_ingre)))"
      ],
      "execution_count": null,
      "outputs": [
        {
          "output_type": "stream",
          "name": "stdout",
          "text": [
            "No. of unique ingredients-  6714\n"
          ]
        }
      ]
    },
    {
      "cell_type": "code",
      "metadata": {
        "id": "IAsLeeePgWjY",
        "colab": {
          "base_uri": "https://localhost:8080/"
        },
        "outputId": "d9529e6e-53de-4b99-eac4-15addb583a6e"
      },
      "source": [
        "cuis = df.cuisine.unique()\n",
        "cuis"
      ],
      "execution_count": null,
      "outputs": [
        {
          "output_type": "execute_result",
          "data": {
            "text/plain": [
              "array(['greek', 'southern_us', 'filipino', 'indian', 'jamaican',\n",
              "       'spanish', 'italian', 'mexican', 'chinese', 'british', 'thai',\n",
              "       'vietnamese', 'cajun_creole', 'brazilian', 'french', 'japanese',\n",
              "       'irish', 'korean', 'moroccan', 'russian'], dtype=object)"
            ]
          },
          "metadata": {},
          "execution_count": 52
        }
      ]
    },
    {
      "cell_type": "code",
      "metadata": {
        "id": "xFW8keSQiwnd"
      },
      "source": [
        "cuisines = []\n",
        "recipe = []\n",
        "for i in cuis:\n",
        "  data = df.loc[ df.cuisine == i ]\n",
        "  recep = len(data.id.unique())\n",
        "  cuisines.append(i)\n",
        "  recipe.append(recep)"
      ],
      "execution_count": null,
      "outputs": []
    },
    {
      "cell_type": "code",
      "metadata": {
        "colab": {
          "base_uri": "https://localhost:8080/"
        },
        "id": "se780qBc3ItM",
        "outputId": "8c95ae33-33be-4edd-9618-f293b41b70b3"
      },
      "source": [
        "cuisines=df['cuisine'].value_counts()\n",
        "cuisines"
      ],
      "execution_count": null,
      "outputs": [
        {
          "output_type": "execute_result",
          "data": {
            "text/plain": [
              "italian         7838\n",
              "mexican         6438\n",
              "southern_us     4320\n",
              "indian          3003\n",
              "chinese         2673\n",
              "french          2646\n",
              "cajun_creole    1546\n",
              "thai            1539\n",
              "japanese        1423\n",
              "greek           1175\n",
              "spanish          989\n",
              "korean           830\n",
              "vietnamese       825\n",
              "moroccan         821\n",
              "british          804\n",
              "filipino         755\n",
              "irish            667\n",
              "jamaican         526\n",
              "russian          489\n",
              "brazilian        467\n",
              "Name: cuisine, dtype: int64"
            ]
          },
          "metadata": {},
          "execution_count": 54
        }
      ]
    },
    {
      "cell_type": "markdown",
      "metadata": {
        "id": "XIKZbsgJdw7I"
      },
      "source": [
        "No. of recipes in dataset"
      ]
    },
    {
      "cell_type": "code",
      "metadata": {
        "colab": {
          "base_uri": "https://localhost:8080/"
        },
        "id": "obrpVsGUYc14",
        "outputId": "a57cced2-8401-4465-9f86-094b3066ac15"
      },
      "source": [
        "n_recipes = df.shape[0]\n",
        "print('This dataset has %i recipes.' % n_recipes)"
      ],
      "execution_count": null,
      "outputs": [
        {
          "output_type": "stream",
          "name": "stdout",
          "text": [
            "This dataset has 39774 recipes.\n"
          ]
        }
      ]
    },
    {
      "cell_type": "markdown",
      "metadata": {
        "id": "PHqcGSt-eNUo"
      },
      "source": [
        "b) Bar plot for no. of recipes for each cuisine"
      ]
    },
    {
      "cell_type": "code",
      "metadata": {
        "colab": {
          "base_uri": "https://localhost:8080/",
          "height": 438
        },
        "id": "p-n-NiFZi_Rb",
        "outputId": "45149ed2-3959-483a-c332-eef04100659c"
      },
      "source": [
        "import seaborn as sns\n",
        "import matplotlib.pyplot as plt\n",
        "\n",
        "#sns.set_theme()\n",
        "fig, ax = plt.subplots(figsize=(11, 6))\n",
        "\n",
        "ax = sns.barplot(x=cuisines, y=recipe,color='orange')\n",
        "plt.xlabel(\"Cuisines\")\n",
        "plt.ylabel(\"Number of recipies\")\n",
        "plt.xticks(rotation=50)"
      ],
      "execution_count": null,
      "outputs": [
        {
          "output_type": "execute_result",
          "data": {
            "text/plain": [
              "(array([ 0,  1,  2,  3,  4,  5,  6,  7,  8,  9, 10, 11, 12, 13, 14, 15, 16,\n",
              "        17, 18, 19]), <a list of 20 Text major ticklabel objects>)"
            ]
          },
          "metadata": {},
          "execution_count": 56
        },
        {
          "output_type": "display_data",
          "data": {
            "image/png": "[encoded data removed]",
            "text/plain": [
              "<Figure size 792x432 with 1 Axes>"
            ]
          },
          "metadata": {
            "needs_background": "light"
          }
        }
      ]
    },
    {
      "cell_type": "code",
      "metadata": {
        "colab": {
          "base_uri": "https://localhost:8080/",
          "height": 384
        },
        "id": "SI6k-BSUxy-b",
        "outputId": "7be7a3fd-bf5e-4f19-866c-1d57e679e88e"
      },
      "source": [
        "ax =cuisines.plot(kind='bar', rot=55, fontsize=13,color='pink')\n",
        "ax.set_xlabel('Ingredient', fontsize=13)\n",
        "ax.set_ylabel('Number of recipes', fontsize=13)\n",
        "ax.set_title('Number of recipes per cuisine', fontsize=17)"
      ],
      "execution_count": null,
      "outputs": [
        {
          "output_type": "execute_result",
          "data": {
            "text/plain": [
              "Text(0.5, 1.0, 'Number of recipes per cuisine')"
            ]
          },
          "metadata": {},
          "execution_count": 57
        },
        {
          "output_type": "display_data",
          "data": {
            "image/png": "[encoded data removed]",
            "text/plain": [
              "<Figure size 432x288 with 1 Axes>"
            ]
          },
          "metadata": {
            "needs_background": "light"
          }
        }
      ]
    },
    {
      "cell_type": "markdown",
      "metadata": {
        "id": "lzHtjEsgHDd9"
      },
      "source": [
        "Average number of ingredients"
      ]
    },
    {
      "cell_type": "code",
      "metadata": {
        "colab": {
          "base_uri": "https://localhost:8080/"
        },
        "id": "JV8-zMLzhjbK",
        "outputId": "f72a8686-65c6-4489-d7c4-6b0fa9805753"
      },
      "source": [
        "total_ingredients = 0\n",
        "for ingredients in df['ingredients']:\n",
        "    total_ingredients += len(ingredients)\n",
        "avg_ingredients = total_ingredients / n_recipes\n",
        "avg_ingredients"
      ],
      "execution_count": null,
      "outputs": [
        {
          "output_type": "execute_result",
          "data": {
            "text/plain": [
              "10.76771257605471"
            ]
          },
          "metadata": {},
          "execution_count": 58
        }
      ]
    },
    {
      "cell_type": "markdown",
      "metadata": {
        "id": "KYbXtDQZl12h"
      },
      "source": [
        "(c) Plot the recipe size distribution for each cuisine as well as for all the recipes."
      ]
    },
    {
      "cell_type": "code",
      "metadata": {
        "colab": {
          "base_uri": "https://localhost:8080/",
          "height": 314
        },
        "id": "l3k2UfOAlQga",
        "outputId": "4985112f-edf5-4bd8-b28a-5e3cf8a3dd06"
      },
      "source": [
        "size_recipe = df['ingredients'].apply(len)\n",
        "ax = size_recipe.hist(bins=25,color='pink')\n",
        "plt.style.use('seaborn')\n",
        "ax.set_xlabel('Recipe size', fontsize=10)\n",
        "ax.set_ylabel('Occurrences', fontsize=10)\n",
        "ax.set_title('Histogram of recipe size', fontsize=17)"
      ],
      "execution_count": null,
      "outputs": [
        {
          "output_type": "execute_result",
          "data": {
            "text/plain": [
              "Text(0.5, 1.0, 'Histogram of recipe size')"
            ]
          },
          "metadata": {},
          "execution_count": 59
        },
        {
          "output_type": "display_data",
          "data": {
            "image/png": "[encoded data removed]",
            "text/plain": [
              "<Figure size 432x288 with 1 Axes>"
            ]
          },
          "metadata": {
            "needs_background": "light"
          }
        }
      ]
    },
    {
      "cell_type": "markdown",
      "metadata": {
        "id": "nuKFNNDAmCzf"
      },
      "source": [
        "(d) Plot cumulative distribution of recipe size"
      ]
    },
    {
      "cell_type": "code",
      "metadata": {
        "colab": {
          "base_uri": "https://localhost:8080/",
          "height": 393
        },
        "id": "ROjmuyAko4bo",
        "outputId": "1eaf111b-7bb4-4f34-f8dd-f185a7af2244"
      },
      "source": [
        "size_recipe = df['cuisine'].apply(len)\n",
        "ax = size_recipe.hist(bins=20,color='green')\n",
        "ax.set_xlabel('Recipe size', fontsize=10,color = 'brown')\n",
        "ax.set_ylabel('cuisines', fontsize=10,color = 'brown')\n",
        "ax.set_title('Histogram of recipe size', fontsize=12,color='green')"
      ],
      "execution_count": null,
      "outputs": [
        {
          "output_type": "execute_result",
          "data": {
            "text/plain": [
              "Text(0.5, 1.0, 'Histogram of recipe size')"
            ]
          },
          "metadata": {},
          "execution_count": 60
        },
        {
          "output_type": "display_data",
          "data": {
            "image/png": "[encoded data removed]",
            "text/plain": [
              "<Figure size 576x396 with 1 Axes>"
            ]
          },
          "metadata": {}
        }
      ]
    },
    {
      "cell_type": "markdown",
      "metadata": {
        "id": "gEUqmlJWmlRn"
      },
      "source": [
        "#QUESTION 3."
      ]
    },
    {
      "cell_type": "code",
      "metadata": {
        "id": "3TDKseIh_cco"
      },
      "source": [
        "from collections import Counter\n",
        "counters = {}\n",
        "for cuisine in df['cuisine'].unique():\n",
        "    counters[cuisine] = Counter()\n",
        "    indices = (df['cuisine'] == cuisine)\n",
        "    for ingredients in df[indices]['ingredients']:\n",
        "        counters[cuisine].update(ingredients)"
      ],
      "execution_count": null,
      "outputs": []
    },
    {
      "cell_type": "markdown",
      "metadata": {
        "id": "oHLLxJ-em3IA"
      },
      "source": [
        "(b)"
      ]
    },
    {
      "cell_type": "code",
      "metadata": {
        "colab": {
          "base_uri": "https://localhost:8080/"
        },
        "id": "Bua3OCs-_hMt",
        "outputId": "89ac1881-dffe-4add-9129-874120cfa6b3"
      },
      "source": [
        "counters['italian'].most_common(10)"
      ],
      "execution_count": null,
      "outputs": [
        {
          "output_type": "execute_result",
          "data": {
            "text/plain": [
              "[('salt', 3454),\n",
              " ('olive oil', 3111),\n",
              " ('garlic cloves', 1619),\n",
              " ('grated parmesan cheese', 1580),\n",
              " ('garlic', 1471),\n",
              " ('ground black pepper', 1444),\n",
              " ('extra-virgin olive oil', 1362),\n",
              " ('onions', 1240),\n",
              " ('water', 1052),\n",
              " ('butter', 1030)]"
            ]
          },
          "metadata": {},
          "execution_count": 62
        }
      ]
    },
    {
      "cell_type": "code",
      "metadata": {
        "colab": {
          "base_uri": "https://localhost:8080/",
          "height": 1000
        },
        "id": "r50YH9W1_lfK",
        "outputId": "fbe6de2c-9f24-4bee-f880-29ab17f75836"
      },
      "source": [
        "top10 = pd.DataFrame([[items[0] for items in counters[cuisine].most_common(10)] for cuisine in counters],\n",
        "            index=[cuisine for cuisine in counters],\n",
        "            columns=['top{}'.format(i) for i in range(1, 11)])\n",
        "top10"
      ],
      "execution_count": null,
      "outputs": [
        {
          "output_type": "execute_result",
          "data": {
            "text/html": [
              "<div>\n",
              "<style scoped>\n",
              "    .dataframe tbody tr th:only-of-type {\n",
              "        vertical-align: middle;\n",
              "    }\n",
              "\n",
              "    .dataframe tbody tr th {\n",
              "        vertical-align: top;\n",
              "    }\n",
              "\n",
              "    .dataframe thead th {\n",
              "        text-align: right;\n",
              "    }\n",
              "</style>\n",
              "<table border=\"1\" class=\"dataframe\">\n",
              "  <thead>\n",
              "    <tr style=\"text-align: right;\">\n",
              "      <th></th>\n",
              "      <th>top1</th>\n",
              "      <th>top2</th>\n",
              "      <th>top3</th>\n",
              "      <th>top4</th>\n",
              "      <th>top5</th>\n",
              "      <th>top6</th>\n",
              "      <th>top7</th>\n",
              "      <th>top8</th>\n",
              "      <th>top9</th>\n",
              "      <th>top10</th>\n",
              "    </tr>\n",
              "  </thead>\n",
              "  <tbody>\n",
              "    <tr>\n",
              "      <th>greek</th>\n",
              "      <td>salt</td>\n",
              "      <td>olive oil</td>\n",
              "      <td>dried oregano</td>\n",
              "      <td>garlic cloves</td>\n",
              "      <td>feta cheese crumbles</td>\n",
              "      <td>extra-virgin olive oil</td>\n",
              "      <td>fresh lemon juice</td>\n",
              "      <td>ground black pepper</td>\n",
              "      <td>garlic</td>\n",
              "      <td>pepper</td>\n",
              "    </tr>\n",
              "    <tr>\n",
              "      <th>southern_us</th>\n",
              "      <td>salt</td>\n",
              "      <td>butter</td>\n",
              "      <td>all-purpose flour</td>\n",
              "      <td>sugar</td>\n",
              "      <td>large eggs</td>\n",
              "      <td>baking powder</td>\n",
              "      <td>water</td>\n",
              "      <td>unsalted butter</td>\n",
              "      <td>milk</td>\n",
              "      <td>buttermilk</td>\n",
              "    </tr>\n",
              "    <tr>\n",
              "      <th>filipino</th>\n",
              "      <td>salt</td>\n",
              "      <td>garlic</td>\n",
              "      <td>water</td>\n",
              "      <td>onions</td>\n",
              "      <td>soy sauce</td>\n",
              "      <td>pepper</td>\n",
              "      <td>oil</td>\n",
              "      <td>sugar</td>\n",
              "      <td>carrots</td>\n",
              "      <td>ground black pepper</td>\n",
              "    </tr>\n",
              "    <tr>\n",
              "      <th>indian</th>\n",
              "      <td>salt</td>\n",
              "      <td>onions</td>\n",
              "      <td>garam masala</td>\n",
              "      <td>water</td>\n",
              "      <td>ground turmeric</td>\n",
              "      <td>garlic</td>\n",
              "      <td>cumin seed</td>\n",
              "      <td>ground cumin</td>\n",
              "      <td>vegetable oil</td>\n",
              "      <td>oil</td>\n",
              "    </tr>\n",
              "    <tr>\n",
              "      <th>jamaican</th>\n",
              "      <td>salt</td>\n",
              "      <td>onions</td>\n",
              "      <td>water</td>\n",
              "      <td>garlic</td>\n",
              "      <td>ground allspice</td>\n",
              "      <td>pepper</td>\n",
              "      <td>scallions</td>\n",
              "      <td>dried thyme</td>\n",
              "      <td>black pepper</td>\n",
              "      <td>garlic cloves</td>\n",
              "    </tr>\n",
              "    <tr>\n",
              "      <th>spanish</th>\n",
              "      <td>salt</td>\n",
              "      <td>olive oil</td>\n",
              "      <td>garlic cloves</td>\n",
              "      <td>extra-virgin olive oil</td>\n",
              "      <td>onions</td>\n",
              "      <td>water</td>\n",
              "      <td>tomatoes</td>\n",
              "      <td>ground black pepper</td>\n",
              "      <td>red bell pepper</td>\n",
              "      <td>pepper</td>\n",
              "    </tr>\n",
              "    <tr>\n",
              "      <th>italian</th>\n",
              "      <td>salt</td>\n",
              "      <td>olive oil</td>\n",
              "      <td>garlic cloves</td>\n",
              "      <td>grated parmesan cheese</td>\n",
              "      <td>garlic</td>\n",
              "      <td>ground black pepper</td>\n",
              "      <td>extra-virgin olive oil</td>\n",
              "      <td>onions</td>\n",
              "      <td>water</td>\n",
              "      <td>butter</td>\n",
              "    </tr>\n",
              "    <tr>\n",
              "      <th>mexican</th>\n",
              "      <td>salt</td>\n",
              "      <td>onions</td>\n",
              "      <td>ground cumin</td>\n",
              "      <td>garlic</td>\n",
              "      <td>olive oil</td>\n",
              "      <td>chili powder</td>\n",
              "      <td>jalapeno chilies</td>\n",
              "      <td>sour cream</td>\n",
              "      <td>avocado</td>\n",
              "      <td>corn tortillas</td>\n",
              "    </tr>\n",
              "    <tr>\n",
              "      <th>chinese</th>\n",
              "      <td>soy sauce</td>\n",
              "      <td>sesame oil</td>\n",
              "      <td>salt</td>\n",
              "      <td>corn starch</td>\n",
              "      <td>sugar</td>\n",
              "      <td>garlic</td>\n",
              "      <td>water</td>\n",
              "      <td>green onions</td>\n",
              "      <td>vegetable oil</td>\n",
              "      <td>scallions</td>\n",
              "    </tr>\n",
              "    <tr>\n",
              "      <th>british</th>\n",
              "      <td>salt</td>\n",
              "      <td>all-purpose flour</td>\n",
              "      <td>butter</td>\n",
              "      <td>milk</td>\n",
              "      <td>eggs</td>\n",
              "      <td>unsalted butter</td>\n",
              "      <td>sugar</td>\n",
              "      <td>onions</td>\n",
              "      <td>baking powder</td>\n",
              "      <td>large eggs</td>\n",
              "    </tr>\n",
              "    <tr>\n",
              "      <th>thai</th>\n",
              "      <td>fish sauce</td>\n",
              "      <td>garlic</td>\n",
              "      <td>salt</td>\n",
              "      <td>coconut milk</td>\n",
              "      <td>vegetable oil</td>\n",
              "      <td>soy sauce</td>\n",
              "      <td>sugar</td>\n",
              "      <td>water</td>\n",
              "      <td>garlic cloves</td>\n",
              "      <td>fresh lime juice</td>\n",
              "    </tr>\n",
              "    <tr>\n",
              "      <th>vietnamese</th>\n",
              "      <td>fish sauce</td>\n",
              "      <td>sugar</td>\n",
              "      <td>salt</td>\n",
              "      <td>garlic</td>\n",
              "      <td>water</td>\n",
              "      <td>carrots</td>\n",
              "      <td>soy sauce</td>\n",
              "      <td>shallots</td>\n",
              "      <td>garlic cloves</td>\n",
              "      <td>vegetable oil</td>\n",
              "    </tr>\n",
              "    <tr>\n",
              "      <th>cajun_creole</th>\n",
              "      <td>salt</td>\n",
              "      <td>onions</td>\n",
              "      <td>garlic</td>\n",
              "      <td>green bell pepper</td>\n",
              "      <td>butter</td>\n",
              "      <td>olive oil</td>\n",
              "      <td>cayenne pepper</td>\n",
              "      <td>cajun seasoning</td>\n",
              "      <td>all-purpose flour</td>\n",
              "      <td>water</td>\n",
              "    </tr>\n",
              "    <tr>\n",
              "      <th>brazilian</th>\n",
              "      <td>salt</td>\n",
              "      <td>onions</td>\n",
              "      <td>olive oil</td>\n",
              "      <td>lime</td>\n",
              "      <td>water</td>\n",
              "      <td>garlic cloves</td>\n",
              "      <td>garlic</td>\n",
              "      <td>cachaca</td>\n",
              "      <td>sugar</td>\n",
              "      <td>tomatoes</td>\n",
              "    </tr>\n",
              "    <tr>\n",
              "      <th>french</th>\n",
              "      <td>salt</td>\n",
              "      <td>sugar</td>\n",
              "      <td>all-purpose flour</td>\n",
              "      <td>unsalted butter</td>\n",
              "      <td>olive oil</td>\n",
              "      <td>butter</td>\n",
              "      <td>water</td>\n",
              "      <td>large eggs</td>\n",
              "      <td>garlic cloves</td>\n",
              "      <td>ground black pepper</td>\n",
              "    </tr>\n",
              "    <tr>\n",
              "      <th>japanese</th>\n",
              "      <td>soy sauce</td>\n",
              "      <td>salt</td>\n",
              "      <td>mirin</td>\n",
              "      <td>sugar</td>\n",
              "      <td>water</td>\n",
              "      <td>sake</td>\n",
              "      <td>rice vinegar</td>\n",
              "      <td>vegetable oil</td>\n",
              "      <td>scallions</td>\n",
              "      <td>ginger</td>\n",
              "    </tr>\n",
              "    <tr>\n",
              "      <th>irish</th>\n",
              "      <td>salt</td>\n",
              "      <td>all-purpose flour</td>\n",
              "      <td>butter</td>\n",
              "      <td>onions</td>\n",
              "      <td>sugar</td>\n",
              "      <td>potatoes</td>\n",
              "      <td>baking soda</td>\n",
              "      <td>baking powder</td>\n",
              "      <td>milk</td>\n",
              "      <td>carrots</td>\n",
              "    </tr>\n",
              "    <tr>\n",
              "      <th>korean</th>\n",
              "      <td>soy sauce</td>\n",
              "      <td>sesame oil</td>\n",
              "      <td>garlic</td>\n",
              "      <td>green onions</td>\n",
              "      <td>sugar</td>\n",
              "      <td>salt</td>\n",
              "      <td>water</td>\n",
              "      <td>sesame seeds</td>\n",
              "      <td>onions</td>\n",
              "      <td>scallions</td>\n",
              "    </tr>\n",
              "    <tr>\n",
              "      <th>moroccan</th>\n",
              "      <td>salt</td>\n",
              "      <td>olive oil</td>\n",
              "      <td>ground cumin</td>\n",
              "      <td>onions</td>\n",
              "      <td>ground cinnamon</td>\n",
              "      <td>garlic cloves</td>\n",
              "      <td>water</td>\n",
              "      <td>ground ginger</td>\n",
              "      <td>carrots</td>\n",
              "      <td>paprika</td>\n",
              "    </tr>\n",
              "    <tr>\n",
              "      <th>russian</th>\n",
              "      <td>salt</td>\n",
              "      <td>sugar</td>\n",
              "      <td>onions</td>\n",
              "      <td>all-purpose flour</td>\n",
              "      <td>sour cream</td>\n",
              "      <td>eggs</td>\n",
              "      <td>water</td>\n",
              "      <td>butter</td>\n",
              "      <td>unsalted butter</td>\n",
              "      <td>large eggs</td>\n",
              "    </tr>\n",
              "  </tbody>\n",
              "</table>\n",
              "</div>"
            ],
            "text/plain": [
              "                    top1  ...                top10\n",
              "greek               salt  ...               pepper\n",
              "southern_us         salt  ...           buttermilk\n",
              "filipino            salt  ...  ground black pepper\n",
              "indian              salt  ...                  oil\n",
              "jamaican            salt  ...        garlic cloves\n",
              "spanish             salt  ...               pepper\n",
              "italian             salt  ...               butter\n",
              "mexican             salt  ...       corn tortillas\n",
              "chinese        soy sauce  ...            scallions\n",
              "british             salt  ...           large eggs\n",
              "thai          fish sauce  ...     fresh lime juice\n",
              "vietnamese    fish sauce  ...        vegetable oil\n",
              "cajun_creole        salt  ...                water\n",
              "brazilian           salt  ...             tomatoes\n",
              "french              salt  ...  ground black pepper\n",
              "japanese       soy sauce  ...               ginger\n",
              "irish               salt  ...              carrots\n",
              "korean         soy sauce  ...            scallions\n",
              "moroccan            salt  ...              paprika\n",
              "russian             salt  ...           large eggs\n",
              "\n",
              "[20 rows x 10 columns]"
            ]
          },
          "metadata": {},
          "execution_count": 63
        }
      ]
    },
    {
      "cell_type": "code",
      "metadata": {
        "id": "qUZFgGBGk3kC",
        "colab": {
          "base_uri": "https://localhost:8080/"
        },
        "outputId": "a202a47b-e1c1-43c5-adba-01782631ced1"
      },
      "source": [
        "stemmer = WordNetLemmatizer()\n",
        "nltk.download('wordnet')"
      ],
      "execution_count": null,
      "outputs": [
        {
          "output_type": "stream",
          "name": "stdout",
          "text": [
            "[nltk_data] Downloading package wordnet to /root/nltk_data...\n",
            "[nltk_data]   Unzipping corpora/wordnet.zip.\n"
          ]
        },
        {
          "output_type": "execute_result",
          "data": {
            "text/plain": [
              "True"
            ]
          },
          "metadata": {},
          "execution_count": 64
        }
      ]
    },
    {
      "cell_type": "code",
      "metadata": {
        "id": "YTmpDPXOk3kL"
      },
      "source": [
        "df['ingredients_clean_string1'] = [','.join(z).strip() for z in df['ingredients']]\n",
        "strip = lambda x: ' , '.join(x).strip()\n",
        "df['ingredients_clean_string2'] = df['ingredients'].map(strip)\n",
        "df_new['ingredients_clean_string1'] = df_new['ingredients'].map(strip)\n"
      ],
      "execution_count": null,
      "outputs": []
    },
    {
      "cell_type": "code",
      "metadata": {
        "id": "l0ijWbr4k3kR"
      },
      "source": [
        "df['ingredients_string1'] = [' '.join([WordNetLemmatizer().lemmatize(re.sub('[^A-Za-z]', ' ', line)) for line in lists]).strip() for lists in df['ingredients']]\n",
        "df_new['ingredients_string1'] = [' '.join([WordNetLemmatizer().lemmatize(re.sub('[^A-Za-z]', ' ', line)) for line in lists]).strip() for lists in df_new['ingredients']]"
      ],
      "execution_count": null,
      "outputs": []
    },
    {
      "cell_type": "code",
      "metadata": {
        "id": "QVs8QVzgk3kV",
        "colab": {
          "base_uri": "https://localhost:8080/"
        },
        "outputId": "20c03528-a29e-4b56-a2ae-595ddd4b6a46"
      },
      "source": [
        "df['ingredients_string1']"
      ],
      "execution_count": null,
      "outputs": [
        {
          "output_type": "execute_result",
          "data": {
            "text/plain": [
              "0        romaine lettuce black olives grape tomatoes ga...\n",
              "1        plain flour ground pepper salt tomato ground b...\n",
              "2        egg pepper salt mayonaise cooking oil green ch...\n",
              "3                           water vegetable oil wheat salt\n",
              "4        black pepper shallot cornflour cayenne pepper ...\n",
              "                               ...                        \n",
              "39769    light brown sugar granulated sugar butter warm...\n",
              "39770    KRAFT Zesty Italian Dressing purple onion broc...\n",
              "39771    egg citrus fruit raisin sourdough starter flou...\n",
              "39772    boneless chicken skinless thigh minced garlic ...\n",
              "39773    green chile jalapeno chilies onion ground blac...\n",
              "Name: ingredients_string1, Length: 39774, dtype: object"
            ]
          },
          "metadata": {},
          "execution_count": 67
        }
      ]
    },
    {
      "cell_type": "code",
      "metadata": {
        "id": "_yr_buImk3kY",
        "colab": {
          "base_uri": "https://localhost:8080/"
        },
        "outputId": "1ea3e644-ab9e-417b-8c9d-4ec9f03d7ced"
      },
      "source": [
        "ingred = df['ingredients'].apply(lambda x:','.join(x))\n",
        "ingred"
      ],
      "execution_count": null,
      "outputs": [
        {
          "output_type": "execute_result",
          "data": {
            "text/plain": [
              "0        romaine lettuce,black olives,grape tomatoes,ga...\n",
              "1        plain flour,ground pepper,salt,tomatoes,ground...\n",
              "2        eggs,pepper,salt,mayonaise,cooking oil,green c...\n",
              "3                           water,vegetable oil,wheat,salt\n",
              "4        black pepper,shallots,cornflour,cayenne pepper...\n",
              "                               ...                        \n",
              "39769    light brown sugar,granulated sugar,butter,warm...\n",
              "39770    KRAFT Zesty Italian Dressing,purple onion,broc...\n",
              "39771    eggs,citrus fruit,raisins,sourdough starter,fl...\n",
              "39772    boneless chicken skinless thigh,minced garlic,...\n",
              "39773    green chile,jalapeno chilies,onions,ground bla...\n",
              "Name: ingredients, Length: 39774, dtype: object"
            ]
          },
          "metadata": {},
          "execution_count": 68
        }
      ]
    },
    {
      "cell_type": "code",
      "metadata": {
        "id": "ZbkK3RRNk3kb",
        "colab": {
          "base_uri": "https://localhost:8080/"
        },
        "outputId": "dbac160f-3659-4337-f69e-d4dd5d07fbc8"
      },
      "source": [
        "cortrain = df['ingredients_string1']\n",
        "cortest = df_new['ingredients_string1']\n",
        "cortrain"
      ],
      "execution_count": null,
      "outputs": [
        {
          "output_type": "execute_result",
          "data": {
            "text/plain": [
              "0        romaine lettuce black olives grape tomatoes ga...\n",
              "1        plain flour ground pepper salt tomato ground b...\n",
              "2        egg pepper salt mayonaise cooking oil green ch...\n",
              "3                           water vegetable oil wheat salt\n",
              "4        black pepper shallot cornflour cayenne pepper ...\n",
              "                               ...                        \n",
              "39769    light brown sugar granulated sugar butter warm...\n",
              "39770    KRAFT Zesty Italian Dressing purple onion broc...\n",
              "39771    egg citrus fruit raisin sourdough starter flou...\n",
              "39772    boneless chicken skinless thigh minced garlic ...\n",
              "39773    green chile jalapeno chilies onion ground blac...\n",
              "Name: ingredients_string1, Length: 39774, dtype: object"
            ]
          },
          "metadata": {},
          "execution_count": 69
        }
      ]
    },
    {
      "cell_type": "code",
      "metadata": {
        "id": "es8xKK3ACz8C"
      },
      "source": [
        "from operator import itemgetter\n",
        "import nltk\n",
        "import pandas as pd\n",
        "from nltk.corpus import stopwords\n",
        "from matplotlib import pyplot as plt"
      ],
      "execution_count": null,
      "outputs": []
    },
    {
      "cell_type": "markdown",
      "metadata": {
        "id": "f92lYx8tm_aI"
      },
      "source": [
        "(a)"
      ]
    },
    {
      "cell_type": "code",
      "metadata": {
        "id": "M-3mYBi84g1-"
      },
      "source": [],
      "execution_count": null,
      "outputs": []
    },
    {
      "cell_type": "code",
      "metadata": {
        "id": "vt5iaQz64hFL"
      },
      "source": [
        "vocabulary= {}\n",
        "for ingredient, i in zip(all_ingre, range(len(all_ingre))):\n",
        "    vocabulary[ingredient] = i"
      ],
      "execution_count": null,
      "outputs": []
    },
    {
      "cell_type": "code",
      "metadata": {
        "colab": {
          "base_uri": "https://localhost:8080/"
        },
        "id": "EChbVdro4hFN",
        "outputId": "ac03b3fc-521f-4f3d-9cb4-e0bfc23af529"
      },
      "source": [
        "vocabulary"
      ],
      "execution_count": null,
      "outputs": [
        {
          "output_type": "execute_result",
          "data": {
            "text/plain": [
              "{'regular or convert rice': 0,\n",
              " 'low-fat pasta sauce': 1,\n",
              " 'brown sauce': 2,\n",
              " 'louisiana hot sauce': 3,\n",
              " 'baby arugula': 4,\n",
              " 'basmati': 5,\n",
              " 'soya bean': 6,\n",
              " 'gluten-free flour': 7,\n",
              " 'smoked whitefish': 8,\n",
              " 'cookie crumbs': 9,\n",
              " 'beef steak': 10,\n",
              " 'caper berries': 11,\n",
              " 'vodka sauce': 12,\n",
              " 'fillets': 13,\n",
              " 'clam sauce': 14,\n",
              " 'onion rings': 15,\n",
              " 'lamb sausage': 16,\n",
              " 'chambord': 17,\n",
              " 'whole wheat buns': 18,\n",
              " 'chuka soba noodles': 19,\n",
              " 'brioche': 20,\n",
              " 'McCormick Parsley Flakes': 21,\n",
              " 'pork sausage links': 22,\n",
              " 'pisco brandy': 23,\n",
              " 'ragu': 24,\n",
              " 'whole wheat thin italian pizza crust': 25,\n",
              " 'yolk': 26,\n",
              " 'chees fresco queso': 27,\n",
              " 'red enchilada sauce': 28,\n",
              " 'quinces': 29,\n",
              " 'burgers': 30,\n",
              " 'crosswise': 31,\n",
              " 'pinot grigio': 32,\n",
              " 'black cumin seeds': 33,\n",
              " 'tagliatelle': 34,\n",
              " 'chile verde': 35,\n",
              " 'green chile sauce': 36,\n",
              " 'unsalted peanut butter': 37,\n",
              " 'cream': 38,\n",
              " 'non-fat sour cream': 39,\n",
              " 'gingerroot': 40,\n",
              " 'Imperial Sugar Light Brown Sugar': 41,\n",
              " 'white cabbage': 42,\n",
              " 'spicy sausage': 43,\n",
              " 'dillweed': 44,\n",
              " 'canned jalapeno peppers': 45,\n",
              " 'pastina': 46,\n",
              " 'won ton skins': 47,\n",
              " 'ground turmeric': 48,\n",
              " 'hickory-flavored liquid smoke': 49,\n",
              " 'basil leaves': 50,\n",
              " 'george dickel': 51,\n",
              " 'tortelloni': 52,\n",
              " 'sambal chile paste': 53,\n",
              " 'apple pie filling': 54,\n",
              " 'salted mixed nuts': 55,\n",
              " 'pasilla chiles': 56,\n",
              " 'Splenda Brown Sugar Blend': 57,\n",
              " 'CURRY GUY Smoked Spicy Salt': 58,\n",
              " 'ground espresso': 59,\n",
              " 'young nettle': 60,\n",
              " 'plums': 61,\n",
              " 'melissa': 62,\n",
              " 'knockwurst': 63,\n",
              " 'vegetables': 64,\n",
              " 'corn oil': 65,\n",
              " 'buffalo mozzarella': 66,\n",
              " 'sugar substitute': 67,\n",
              " 'veal': 68,\n",
              " 'chayotes': 69,\n",
              " 'sandwich buns': 70,\n",
              " 'baby broccoli': 71,\n",
              " 'veget soup mix': 72,\n",
              " 'Velveeta Cheese Spread': 73,\n",
              " 'toasted slivered almonds': 74,\n",
              " 'carnation condensed milk': 75,\n",
              " 'hot mustard': 76,\n",
              " 'genoa salami': 77,\n",
              " 'fresh parsley leaves': 78,\n",
              " 'sherbet': 79,\n",
              " 'gluten-free pasta': 80,\n",
              " 'mincemeat': 81,\n",
              " 'black tea leaves': 82,\n",
              " 'Italian turkey sausage links': 83,\n",
              " 'dried soba': 84,\n",
              " 'chinese winter melon': 85,\n",
              " 'small tomatoes': 86,\n",
              " 'non dairy milk': 87,\n",
              " 'veal stock': 88,\n",
              " 'dandelion': 89,\n",
              " 'chicken-flavored soup powder': 90,\n",
              " 'italian sauce': 91,\n",
              " 'sparkling sangria tradicional': 92,\n",
              " 'raita': 93,\n",
              " 'sauerkraut': 94,\n",
              " 'earl grey tea bags': 95,\n",
              " 'stewing hen': 96,\n",
              " 'large egg yolks': 97,\n",
              " 'pork cheeks': 98,\n",
              " 'tamarind water': 99,\n",
              " 'fat-free reduced-sodium chicken broth': 100,\n",
              " 'grated lemon peel': 101,\n",
              " 'strawberry ice cream': 102,\n",
              " 'licor 43': 103,\n",
              " 'tenderloin roast': 104,\n",
              " 'pigeon peas': 105,\n",
              " 'instant banana cream pudding': 106,\n",
              " 'hot spanish paprika': 107,\n",
              " 'hero rolls': 108,\n",
              " 'fish': 109,\n",
              " 'Bob Evans Italian Sausage': 110,\n",
              " 'powdered milk': 111,\n",
              " 'garbanzo bean flour': 112,\n",
              " 'tomato soup': 113,\n",
              " 'masa harina': 114,\n",
              " 'mixed dried fruit': 115,\n",
              " 'cassis liqueur': 116,\n",
              " 'bitters': 117,\n",
              " 'granular no-calorie sucralose sweetener': 118,\n",
              " 'italian eggplant': 119,\n",
              " 'soup pasta': 120,\n",
              " 'low-fat milk': 121,\n",
              " 'samphire': 122,\n",
              " 'cubed potatoes': 123,\n",
              " 'green beans': 124,\n",
              " 'guava': 125,\n",
              " 'opo squash': 126,\n",
              " 'perilla': 127,\n",
              " 'dry rub': 128,\n",
              " 'pound cake mix': 129,\n",
              " 'beef hot dogs': 130,\n",
              " 'coleslaw': 131,\n",
              " 'espresso': 132,\n",
              " 'whole wheat penne': 133,\n",
              " 'florets': 134,\n",
              " 'cream of tomato soup': 135,\n",
              " 'chocolate chip cookie mix': 136,\n",
              " 'Chartreuse Liqueur': 137,\n",
              " 'large shrimp': 138,\n",
              " 'prepared coleslaw': 139,\n",
              " 'evaporated skim milk': 140,\n",
              " 'fish paste': 141,\n",
              " 'Spice Islands Oregano': 142,\n",
              " 'hamachi': 143,\n",
              " 'cinnamon rolls': 144,\n",
              " 'smoked salmon': 145,\n",
              " 'yellow summer squash': 146,\n",
              " 'shaoxing': 147,\n",
              " 'seedless green grape': 148,\n",
              " 'Chinese sesame paste': 149,\n",
              " 'chinese rice wine': 150,\n",
              " 'strained yogurt': 151,\n",
              " 'empanada wrappers': 152,\n",
              " 'canton noodles': 153,\n",
              " 'onions': 154,\n",
              " 'red bartlett pears': 155,\n",
              " 'beef bones': 156,\n",
              " 'frozen meatballs': 157,\n",
              " 'pork spareribs': 158,\n",
              " 'queso fresca': 159,\n",
              " 'active dry yeast': 160,\n",
              " 'dried black mushrooms': 161,\n",
              " 'dri leav thyme': 162,\n",
              " 'cavatelli': 163,\n",
              " 'vindaloo paste': 164,\n",
              " 'crumb topping': 165,\n",
              " 'shiso': 166,\n",
              " 'Godiva Chocolate Liqueur': 167,\n",
              " 'broad beans': 168,\n",
              " 'lemon slices': 169,\n",
              " 'Tabasco Green Pepper Sauce': 170,\n",
              " 'celtic salt': 171,\n",
              " 'chopped ham': 172,\n",
              " 'gemelli': 173,\n",
              " 'bread flour': 174,\n",
              " 'mortadella': 175,\n",
              " 'chocolate flavored liqueur': 176,\n",
              " 'squash blossoms': 177,\n",
              " 'whole grain baguette': 178,\n",
              " 'crackers': 179,\n",
              " 'Adobo All Purpose Seasoning': 180,\n",
              " 'chili pepper flakes': 181,\n",
              " 'green mango': 182,\n",
              " 'boston butt': 183,\n",
              " \"Best Food's Mayonnaise with Lime Juice\": 184,\n",
              " 'mixed spice': 185,\n",
              " 'king crab legs': 186,\n",
              " 'green cabbage': 187,\n",
              " 'tempura batter': 188,\n",
              " 'beef rib short': 189,\n",
              " 'chees fresh mozzarella': 190,\n",
              " 'grilled chicken': 191,\n",
              " 'lobster tails': 192,\n",
              " 'chicken flavor stuffing mix': 193,\n",
              " 'boneless sirloin steak': 194,\n",
              " 'garbanzo beans': 195,\n",
              " 'cointreau liqueur': 196,\n",
              " 'large sausage casing': 197,\n",
              " 'jamaica': 198,\n",
              " 'holy basil': 199,\n",
              " 'dipping chocolate': 200,\n",
              " 'boneless skinless chicken breast halves': 201,\n",
              " 'rotel pasta, cook and drain': 202,\n",
              " 'puffed rice': 203,\n",
              " 'knorr pasta side': 204,\n",
              " 'dark molasses': 205,\n",
              " 'brine cured green olives': 206,\n",
              " 'turkey broth': 207,\n",
              " 'unsalted roasted pistachios': 208,\n",
              " 'butter pecan cake mix': 209,\n",
              " 'bread yeast': 210,\n",
              " 'breadstick': 211,\n",
              " 'purple potatoes': 212,\n",
              " 'fedelini': 213,\n",
              " 'organic coconut milk': 214,\n",
              " 'baked pita chips': 215,\n",
              " 'Land O Lakes® Butter': 216,\n",
              " 'boneless skinless chicken': 217,\n",
              " 'instant espresso granules': 218,\n",
              " 'rice paper': 219,\n",
              " 'cauliflower': 220,\n",
              " 'cholesterol free egg substitute': 221,\n",
              " 'no salt added chicken broth': 222,\n",
              " 'chilled prosecco': 223,\n",
              " 'shiitake': 224,\n",
              " 'Gebhardt Chili Powder': 225,\n",
              " 'hothouse cucumber': 226,\n",
              " 'english cucumber': 227,\n",
              " 'asian barbecue sauce': 228,\n",
              " 'alcohol': 229,\n",
              " 'italian rolls': 230,\n",
              " 'black bean sauce': 231,\n",
              " 'gluten-free tamari sauce': 232,\n",
              " 'shredded lowfat monterey jack cheese': 233,\n",
              " 'shredded carrots': 234,\n",
              " 'teleme': 235,\n",
              " 'cheese dip': 236,\n",
              " 'corn kernels': 237,\n",
              " 'berries': 238,\n",
              " 'sauce mix': 239,\n",
              " \"Eggland's Best® eggs\": 240,\n",
              " 'prepar salsa': 241,\n",
              " 'szechuan sauce': 242,\n",
              " 'lobster stock': 243,\n",
              " 'Bertolli® Alfredo Sauce': 244,\n",
              " 'tuna in oil': 245,\n",
              " 'peeled fresh ginger': 246,\n",
              " 'dinner rolls': 247,\n",
              " 'sodium reduced chicken broth': 248,\n",
              " 'low-fat bottled italian dressing': 249,\n",
              " 'cabbage lettuce': 250,\n",
              " '8 ounc ziti pasta, cook and drain': 251,\n",
              " 'sea salt flakes': 252,\n",
              " 'cassava root flour': 253,\n",
              " 'lamb neck': 254,\n",
              " 'bread dough': 255,\n",
              " 'orange marmalade': 256,\n",
              " 'cocktail cherries': 257,\n",
              " 'cheddar cheese soup': 258,\n",
              " 'instant tea powder': 259,\n",
              " 'arrowroot powder': 260,\n",
              " 'garlic cloves': 261,\n",
              " 'drummettes': 262,\n",
              " 'Camellia Red Kidney Beans': 263,\n",
              " 'yellow corn meal': 264,\n",
              " 'grated orange': 265,\n",
              " 'fresh leav spinach': 266,\n",
              " 'chinese red vinegar': 267,\n",
              " 'black cardamom pods': 268,\n",
              " 'homemade chicken stock': 269,\n",
              " 'unflavored gelatin': 270,\n",
              " 'KRAFT Mexican Style 2% Milk Finely Shredded Four Cheese': 271,\n",
              " 'chipotle chile': 272,\n",
              " 'white wine vinegar': 273,\n",
              " 'green split peas': 274,\n",
              " 'drambuie': 275,\n",
              " 'cream ic peach': 276,\n",
              " 'shelled shrimp': 277,\n",
              " 'chicken breast fillets': 278,\n",
              " 'grana padano': 279,\n",
              " 'ground sausage': 280,\n",
              " 'water crackers': 281,\n",
              " 'ground paprika': 282,\n",
              " 'brown gravy': 283,\n",
              " 'pitted olives': 284,\n",
              " 'minced peperoncini': 285,\n",
              " 'condensed cream of mushroom soup': 286,\n",
              " 'jeera': 287,\n",
              " 'barilla': 288,\n",
              " 'Progresso™ Chicken Broth': 289,\n",
              " 'butterscotch filling': 290,\n",
              " 'sweetener': 291,\n",
              " 'pecorino cheese': 292,\n",
              " 'knorr tomato bouillon with chicken flavor cube': 293,\n",
              " 'powdered vanilla pudding mix': 294,\n",
              " 'proscuitto': 295,\n",
              " 'eye of round steak': 296,\n",
              " 'chat masala': 297,\n",
              " 'ricard': 298,\n",
              " 'cranberry beans': 299,\n",
              " 'beluga lentil': 300,\n",
              " 'low sodium pinto beans': 301,\n",
              " 'turkey ham': 302,\n",
              " 'japanese style bread crumbs': 303,\n",
              " 'dried mango': 304,\n",
              " 'pepper jack': 305,\n",
              " 'creme de cacao': 306,\n",
              " 'seafood glaze': 307,\n",
              " 'cream of shrimp soup': 308,\n",
              " 'daikon sprouts': 309,\n",
              " 'pork butt roast': 310,\n",
              " 'rock cornish game hens': 311,\n",
              " 'wax beans': 312,\n",
              " 'sage leaves': 313,\n",
              " 'pork butt': 314,\n",
              " 'cooked pumpkin': 315,\n",
              " 'sweet white miso paste': 316,\n",
              " 'farofa': 317,\n",
              " 'passion fruit': 318,\n",
              " 'ramen soup mix': 319,\n",
              " 'serrano chile': 320,\n",
              " 'beet juice': 321,\n",
              " 'risotto rice': 322,\n",
              " 'light alfredo sauce': 323,\n",
              " 'wheat crackers': 324,\n",
              " 'black sea bass': 325,\n",
              " 'low-fat soft goat cheese': 326,\n",
              " 'peppermint': 327,\n",
              " 'vin santo': 328,\n",
              " '1% low-fat chocolate milk': 329,\n",
              " 'citrus fruit': 330,\n",
              " 'shrimp heads': 331,\n",
              " 'pork shoulder roast': 332,\n",
              " 'stewed tomatoes': 333,\n",
              " 'spring roll skins': 334,\n",
              " 'mackerel fillets': 335,\n",
              " 'grenadine syrup': 336,\n",
              " 'clove': 337,\n",
              " 'Braeburn Apple': 338,\n",
              " 'Irish whiskey': 339,\n",
              " 'recipe crumbles': 340,\n",
              " 'chopped tomatoes': 341,\n",
              " 'firm silken tofu': 342,\n",
              " 'queso crema': 343,\n",
              " 'low sodium store bought chicken stock': 344,\n",
              " 'peach juice': 345,\n",
              " 'ramen noodle soup': 346,\n",
              " 'fresh ginger': 347,\n",
              " 'vegan margarine': 348,\n",
              " 'natural sugar': 349,\n",
              " 'boneless beef short ribs': 350,\n",
              " 'bone in chicken thighs': 351,\n",
              " 'Knorr® Pasta Sides™ - Chicken flavor': 352,\n",
              " 'honey mustard': 353,\n",
              " 'Swanson Vegetable Broth': 354,\n",
              " 'chopped nuts': 355,\n",
              " 'low sodium black beans': 356,\n",
              " 'gingersnap cookies': 357,\n",
              " 'peas': 358,\n",
              " 'pig': 359,\n",
              " 'trout fillet': 360,\n",
              " 'plum tomatoes': 361,\n",
              " 'powdered turmeric': 362,\n",
              " 'buckwheat groats': 363,\n",
              " 'hot curry powder': 364,\n",
              " 'banh hoi': 365,\n",
              " 'sweet peas': 366,\n",
              " 'grapefruit juice': 367,\n",
              " 'orange segments': 368,\n",
              " 'kelp noodles': 369,\n",
              " 'artichoke bottoms': 370,\n",
              " 'store bought low sodium vegetable stock': 371,\n",
              " 'prosecco': 372,\n",
              " 'lentils': 373,\n",
              " 'american cheese slices': 374,\n",
              " 'cinnamon graham crackers': 375,\n",
              " 'leaves': 376,\n",
              " 'lamb': 377,\n",
              " 'country loaf': 378,\n",
              " 'champagne': 379,\n",
              " 'salsa verde': 380,\n",
              " 'tequila': 381,\n",
              " 'pink grapefruit': 382,\n",
              " 'pasta shell small': 383,\n",
              " 'arepa flour': 384,\n",
              " 'grit quick': 385,\n",
              " 'garam masala': 386,\n",
              " 'fine sea salt': 387,\n",
              " 'iodized salt': 388,\n",
              " 'tea cake': 389,\n",
              " 'savoy cabbage': 390,\n",
              " 'kiwi': 391,\n",
              " 'orange juice': 392,\n",
              " 'croissant dough': 393,\n",
              " 'turkey meatballs': 394,\n",
              " 'irish bacon': 395,\n",
              " 'alaskan king salmon': 396,\n",
              " 'Melba toast': 397,\n",
              " 'buckwheat flour': 398,\n",
              " 'blue crabs': 399,\n",
              " 'Daisy Sour Cream': 400,\n",
              " 'loin pork chops': 401,\n",
              " 'cajun-creole seasoning mix': 402,\n",
              " 'parmagiano reggiano': 403,\n",
              " 'sweet gherkin': 404,\n",
              " 'reduced fat firm tofu': 405,\n",
              " 'green soybeans': 406,\n",
              " 'dried barberries': 407,\n",
              " 'baby zucchini': 408,\n",
              " 'sato imo': 409,\n",
              " 'spaghetti': 410,\n",
              " 'game': 411,\n",
              " 'white vinegar': 412,\n",
              " 'forest mushroom': 413,\n",
              " 'kochu chang': 414,\n",
              " 'chicken stock': 415,\n",
              " 'worcestershire sauce': 416,\n",
              " 'flavored oil': 417,\n",
              " 'oil-cured black olives': 418,\n",
              " 'Maggi': 419,\n",
              " 'harissa sauce': 420,\n",
              " 'Castelvetrano olives': 421,\n",
              " 'reduced fat creamy peanut butter': 422,\n",
              " 'liquorice': 423,\n",
              " 'Knorr Fish Stock Cubes': 424,\n",
              " 'pineapple juice concentrate': 425,\n",
              " 'cane vinegar': 426,\n",
              " 'tex mex seasoning': 427,\n",
              " 'red capsicum': 428,\n",
              " 'scrod': 429,\n",
              " 'red anjou pears': 430,\n",
              " 'buckwheat noodles': 431,\n",
              " 'boneless pork shoulder': 432,\n",
              " 'italian vinaigrette': 433,\n",
              " 'roasted rice powder': 434,\n",
              " 'sea bass': 435,\n",
              " 'chicken sausage': 436,\n",
              " 'vegetable slaw': 437,\n",
              " 'ancho chile pepper': 438,\n",
              " 'black bean stir fry sauce': 439,\n",
              " 'Japanese Mayonnaise': 440,\n",
              " 'petite peas': 441,\n",
              " 'Tuaca Liqueur': 442,\n",
              " 'chard': 443,\n",
              " 'beef shoulder': 444,\n",
              " 'spelt flour': 445,\n",
              " 'frozen bread dough': 446,\n",
              " 'pizza crust mix': 447,\n",
              " 'mild pork sausage': 448,\n",
              " 'whole wheat bread slices': 449,\n",
              " 'pork bones': 450,\n",
              " 'solid pack pumpkin': 451,\n",
              " 'frozen cranberry juice concentrate': 452,\n",
              " 'dasheen': 453,\n",
              " 'coffee': 454,\n",
              " 'kale leaves': 455,\n",
              " 'veal loin': 456,\n",
              " 'coconut aminos': 457,\n",
              " 'swiss steak': 458,\n",
              " 'rainbow trout': 459,\n",
              " 'dark crème de cacao': 460,\n",
              " 'roast duck meat': 461,\n",
              " '2% milk shredded mozzarella cheese': 462,\n",
              " 'wasabi powder': 463,\n",
              " 'citrus': 464,\n",
              " 'char siu sauce': 465,\n",
              " 'andouille chicken sausage': 466,\n",
              " 'unsweetened applesauce': 467,\n",
              " 'dry white wine': 468,\n",
              " 'ripe olives': 469,\n",
              " 'goose liver': 470,\n",
              " 'fish broth': 471,\n",
              " 'bean dip': 472,\n",
              " 'panela': 473,\n",
              " 'vegan mayonnaise': 474,\n",
              " 'chinese black bean': 475,\n",
              " 'cashew milk': 476,\n",
              " 'beef round': 477,\n",
              " 'curry powder': 478,\n",
              " 'cinnamon sugar': 479,\n",
              " 'pita rounds': 480,\n",
              " 'Smithfield Ham': 481,\n",
              " 'ground bison': 482,\n",
              " 'chunk light tuna in water': 483,\n",
              " 'sparkling lemonade': 484,\n",
              " 'bottled chili sauce': 485,\n",
              " 'yellow curry paste': 486,\n",
              " 'tikka paste': 487,\n",
              " 'egg pasta': 488,\n",
              " 'seltzer water': 489,\n",
              " 'delicata squash': 490,\n",
              " 'dark chocolate': 491,\n",
              " 'wagon wheels': 492,\n",
              " 'pasilla pepper': 493,\n",
              " 'black mushrooms': 494,\n",
              " 'coconut milk yogurt': 495,\n",
              " 'crushed red pepper': 496,\n",
              " 'fleur de sel': 497,\n",
              " 'Knorr® Vegetable recipe mix': 498,\n",
              " 'doenzang': 499,\n",
              " 'roasting chickens': 500,\n",
              " 'wonton noodles': 501,\n",
              " '95% lean ground beef': 502,\n",
              " 'vegetable juice cocktail': 503,\n",
              " 'low-fat canned coconut milk': 504,\n",
              " 'raki': 505,\n",
              " 'lavash': 506,\n",
              " 'reduced sodium italian style stewed tomatoes': 507,\n",
              " 'low fat shred cheddar chees sharp varieti': 508,\n",
              " 'tamari almonds': 509,\n",
              " 'cajun seasoning': 510,\n",
              " 'cocktail pumpernickel bread': 511,\n",
              " 'dumpling skins': 512,\n",
              " 'arhar dal': 513,\n",
              " 'Fuyu persimmons': 514,\n",
              " 'peanut oil': 515,\n",
              " 'pure vanilla': 516,\n",
              " 'gorgonzola dolce': 517,\n",
              " 'abalone': 518,\n",
              " 'Heath Candy Bars': 519,\n",
              " 'dark rye flour': 520,\n",
              " 'baking sugar': 521,\n",
              " 'medium eggs': 522,\n",
              " 'tapioca flour': 523,\n",
              " 'low-fat tartar sauce': 524,\n",
              " 'pumpkin purée': 525,\n",
              " 'cod': 526,\n",
              " 'pork shoulder butt': 527,\n",
              " 'tortellini': 528,\n",
              " 'store bought low sodium chicken broth': 529,\n",
              " 'refined sugar': 530,\n",
              " 'Tuttorosso Diced Tomatoes': 531,\n",
              " 'tortilla wraps': 532,\n",
              " 'McCormick Ground Cumin': 533,\n",
              " 'chopped fresh herbs': 534,\n",
              " 'framboise liqueur': 535,\n",
              " 'chunky tomato salsa': 536,\n",
              " 'walnut halves': 537,\n",
              " 'cola': 538,\n",
              " 'matsutake mushrooms': 539,\n",
              " 'veal chops': 540,\n",
              " 'garlic powder': 541,\n",
              " 'candied peel': 542,\n",
              " 'braising beef': 543,\n",
              " 'cuminseed': 544,\n",
              " 'French mustard': 545,\n",
              " 'puff pastry cups': 546,\n",
              " 'reduced sodium tamari': 547,\n",
              " 'adzuki beans': 548,\n",
              " 'smoked pork neck bones': 549,\n",
              " 'goji berries': 550,\n",
              " 'salami': 551,\n",
              " 'mild curry powder': 552,\n",
              " 'frozen cod fillets': 553,\n",
              " 'Gold Medal All Purpose Flour': 554,\n",
              " 'batter': 555,\n",
              " 'Velveeta': 556,\n",
              " 'meat marinade': 557,\n",
              " 'paccheri': 558,\n",
              " 'tamarind concentrate': 559,\n",
              " 'brine': 560,\n",
              " 'chunky mild salsa': 561,\n",
              " 'Southern Comfort Liqueur': 562,\n",
              " 'pickled jalapeno peppers': 563,\n",
              " 'framboise eau-de-vie': 564,\n",
              " 'Knudsen Light Sour Cream': 565,\n",
              " 'low sodium soy sauce': 566,\n",
              " 'dark muscovado sugar': 567,\n",
              " 'king crab': 568,\n",
              " 'tomato ketchup': 569,\n",
              " 'tart filling': 570,\n",
              " 'scape pesto': 571,\n",
              " 'edamame': 572,\n",
              " 'riesling': 573,\n",
              " 'flour tortillas': 574,\n",
              " 'instant chicken bouillon': 575,\n",
              " 'SYD Hot Rub': 576,\n",
              " 'Pillsbury Pie Crusts': 577,\n",
              " 'bucatini': 578,\n",
              " 'turkey breast': 579,\n",
              " 'chinese wolfberries': 580,\n",
              " 'zinfandel': 581,\n",
              " 'beef stock cubes': 582,\n",
              " 'monkfish fillets': 583,\n",
              " 'and carrot green pea': 584,\n",
              " 'whole grain rotini': 585,\n",
              " 'cauliflower flowerets': 586,\n",
              " 'Tokyo negi': 587,\n",
              " 'royal olives': 588,\n",
              " 'umeboshi plum vinegar': 589,\n",
              " 'cactus leaf': 590,\n",
              " 'cornbread mix': 591,\n",
              " 'hand': 592,\n",
              " 'maraschino': 593,\n",
              " 'roquefort': 594,\n",
              " 'cajun style stewed tomatoes': 595,\n",
              " 'meatballs': 596,\n",
              " 'amber rum': 597,\n",
              " 'veal bones': 598,\n",
              " 'rapeseed oil': 599,\n",
              " 'wide rice noodles': 600,\n",
              " 'fresh raspberries': 601,\n",
              " 'peanut brittle': 602,\n",
              " 'unsalted roasted peanuts': 603,\n",
              " 'low sodium fat free vegetable broth': 604,\n",
              " 'phyllo pastry': 605,\n",
              " 'lime leaves': 606,\n",
              " 'chili oil': 607,\n",
              " 'uncooked ziti': 608,\n",
              " 'Kikkoman Oyster Sauce': 609,\n",
              " 'sourdough starter': 610,\n",
              " 'striped bass': 611,\n",
              " 'asafetida': 612,\n",
              " 'swordfish fillets': 613,\n",
              " 'english breakfast tea bags': 614,\n",
              " 'celery tops': 615,\n",
              " 'vietnamese fish sauce': 616,\n",
              " 'canned chopped tomatoes': 617,\n",
              " 'calamansi juice': 618,\n",
              " 'bread machine yeast': 619,\n",
              " 'organic chicken broth': 620,\n",
              " 'food paste color': 621,\n",
              " 'pita loaves': 622,\n",
              " 'miso sesame grilling sauce': 623,\n",
              " 'sprouts': 624,\n",
              " 'toasted nuts': 625,\n",
              " 'rice stick noodles': 626,\n",
              " 'beurre manié': 627,\n",
              " 'chocolatecovered espresso beans': 628,\n",
              " 'canadian bacon': 629,\n",
              " 'fresh ham': 630,\n",
              " 'skate': 631,\n",
              " 'splenda': 632,\n",
              " 'jamaican jerk rub': 633,\n",
              " 'bean threads': 634,\n",
              " 'baby artichokes': 635,\n",
              " 'Sicilian olives': 636,\n",
              " 'toasted baguette': 637,\n",
              " 'kingfish': 638,\n",
              " 'Soy Vay® Toasted Sesame Dressing & Marinade': 639,\n",
              " 'fresh chorizo': 640,\n",
              " 'potato starch flour': 641,\n",
              " 'thin pizza crust': 642,\n",
              " 'sun dried tomato dressing': 643,\n",
              " 'red chili powder': 644,\n",
              " 'russet potatoes': 645,\n",
              " 'fried rice': 646,\n",
              " 'Guinness Beer': 647,\n",
              " 'Makers Mark Whisky': 648,\n",
              " 'jambalaya mix': 649,\n",
              " 'fresh white truffles': 650,\n",
              " 'cointreau': 651,\n",
              " 'whole wheat english muffins': 652,\n",
              " 'thin rice stick noodles': 653,\n",
              " 'yellow split peas': 654,\n",
              " 'comino': 655,\n",
              " 'baobab fruit powder': 656,\n",
              " 'honey graham crackers': 657,\n",
              " 'shoga': 658,\n",
              " 'plain soy yogurt': 659,\n",
              " 'Nilla Wafers': 660,\n",
              " 'condensed reduced fat reduced sodium cream of mushroom soup': 661,\n",
              " 'cracked black pepper': 662,\n",
              " 'sablefish': 663,\n",
              " 'sauvignon blanc': 664,\n",
              " 'pineapple juice': 665,\n",
              " 'low fat mozzarella': 666,\n",
              " 'smithfield ham': 667,\n",
              " 'gingersnap cookie crumbs': 668,\n",
              " 'diced tomatoes with garlic and onion': 669,\n",
              " 'patis': 670,\n",
              " 'pancake': 671,\n",
              " 'croissants': 672,\n",
              " 'french baguette': 673,\n",
              " 'boudin': 674,\n",
              " 'ground hazelnuts': 675,\n",
              " 'pomegranate': 676,\n",
              " 'chile pepper': 677,\n",
              " 'shoulder roast': 678,\n",
              " 'chicken schmaltz': 679,\n",
              " 'white pepper': 680,\n",
              " 'sambuca': 681,\n",
              " 'rendered bacon fat': 682,\n",
              " 'palm vinegar': 683,\n",
              " 'usukuchi soy sauce': 684,\n",
              " 'toasted coconut': 685,\n",
              " 'canned coconut milk': 686,\n",
              " 'doritos': 687,\n",
              " 'KRAFT Shredded Low-Moisture Part-Skim Mozzarella Cheese': 688,\n",
              " 'gluten free cooking spray': 689,\n",
              " 'kaffir lime leaves': 690,\n",
              " 'longaniza': 691,\n",
              " 'seafood seasoning': 692,\n",
              " 'tofu': 693,\n",
              " 'BACARDI® Superior': 694,\n",
              " 'rape': 695,\n",
              " 'extra large shrimp': 696,\n",
              " 'English mustard': 697,\n",
              " 'pickled carrots': 698,\n",
              " 'ground nuts': 699,\n",
              " 'herb seasoned stuffing mix': 700,\n",
              " 'carne asada': 701,\n",
              " 'chipotle sauce': 702,\n",
              " 'cipollini onions': 703,\n",
              " 'seedless watermelon': 704,\n",
              " 'bone-in chicken': 705,\n",
              " 'tomatoes on the vine': 706,\n",
              " 'pecan pie': 707,\n",
              " 'pork spare ribs': 708,\n",
              " 'dark lager': 709,\n",
              " 'boneless beef rib eye steaks': 710,\n",
              " 'low sodium vegetable broth': 711,\n",
              " 'white tuna in water': 712,\n",
              " 'tandoori spices': 713,\n",
              " 'beef marrow': 714,\n",
              " 'wide egg noodles': 715,\n",
              " 'shungiku': 716,\n",
              " 'diced mushrooms': 717,\n",
              " 'mullet': 718,\n",
              " 'fenugreek leaves': 719,\n",
              " 'chocolate sprinkles': 720,\n",
              " 'mushroom caps': 721,\n",
              " 'large snails': 722,\n",
              " 'sturgeon fillets': 723,\n",
              " 'cooked italian meatballs': 724,\n",
              " 'karashi': 725,\n",
              " 'pork loin': 726,\n",
              " 'adobo sauce': 727,\n",
              " 'dill pickles': 728,\n",
              " 'yellow corn': 729,\n",
              " 'fresh basil leaves': 730,\n",
              " 'broccoli slaw': 731,\n",
              " 'beef brisket': 732,\n",
              " 'whole cranberry sauce': 733,\n",
              " 'pot roast': 734,\n",
              " 'catfish fillets': 735,\n",
              " 'Truvía® Baking Blend': 736,\n",
              " 'Heinz Worcestershire Sauce': 737,\n",
              " 'radish sprouts': 738,\n",
              " 'frozen whip topping, thaw': 739,\n",
              " 'candied pineapple': 740,\n",
              " 'mussels, well scrubbed': 741,\n",
              " 'dried chile': 742,\n",
              " 'boneless beef chuck roast': 743,\n",
              " 'kirschwasser': 744,\n",
              " 'salad greens': 745,\n",
              " 'dried allspice berries': 746,\n",
              " 'bibb lettuce': 747,\n",
              " 'ground round': 748,\n",
              " 'pork neck': 749,\n",
              " 'dried apple': 750,\n",
              " 'tamarind pulp': 751,\n",
              " 'refrigerated piecrusts': 752,\n",
              " 'pork rib chops': 753,\n",
              " 'tricolor quinoa': 754,\n",
              " 'lamb cutlet': 755,\n",
              " 'arugula': 756,\n",
              " 'chitterlings': 757,\n",
              " 'cube steaks': 758,\n",
              " 'red currants': 759,\n",
              " 'smoked turkey drumstick': 760,\n",
              " 'sliced turkey': 761,\n",
              " 'Chinese egg noodles': 762,\n",
              " 'cinnamon hot candy': 763,\n",
              " 'dried basil': 764,\n",
              " 'deveined shrimp': 765,\n",
              " 'coriander powder': 766,\n",
              " 'lotus seed paste': 767,\n",
              " 'ragu pizza quick sauc': 768,\n",
              " 'nonfat buttermilk': 769,\n",
              " 'toasted sesame seeds': 770,\n",
              " 'low-fat cheese': 771,\n",
              " 'San Marzano tomatoes': 772,\n",
              " 'apricot brandy': 773,\n",
              " 'ox tongue': 774,\n",
              " 'spiny lobsters': 775,\n",
              " 'whole wheat sandwich bread': 776,\n",
              " 'peppered bacon': 777,\n",
              " 'large flour tortillas': 778,\n",
              " 'poblano peppers': 779,\n",
              " 'rice vinegar': 780,\n",
              " 'pickling cucumbers': 781,\n",
              " 'crushed red pepper flakes': 782,\n",
              " 'hot dogs': 783,\n",
              " 'center cut pork chops': 784,\n",
              " 'aged gouda': 785,\n",
              " 'olive oil': 786,\n",
              " 'homemade vegetable stock': 787,\n",
              " 'raspberry jam': 788,\n",
              " 'wood ear mushrooms': 789,\n",
              " 'cooked fettuccini': 790,\n",
              " 'piecrust': 791,\n",
              " 'fat-trimmed beef flank steak': 792,\n",
              " 'mandarin orange juice': 793,\n",
              " 'meat seasoning': 794,\n",
              " 'stellette': 795,\n",
              " 'nonfat vanilla yogurt': 796,\n",
              " 'raw sugar': 797,\n",
              " 'kasu': 798,\n",
              " 'chinese pepper': 799,\n",
              " 'turkey sausage links': 800,\n",
              " 'beef drippings': 801,\n",
              " 'roasted ground cumin': 802,\n",
              " 'almond butter': 803,\n",
              " 'pineapple chunks': 804,\n",
              " 'white kidney beans': 805,\n",
              " 'grits': 806,\n",
              " 'whipped cream cheese': 807,\n",
              " 'sushi vinegar': 808,\n",
              " 'meat extract': 809,\n",
              " 'panko breadcrumbs': 810,\n",
              " 'center cut bacon': 811,\n",
              " 'Scotch whisky': 812,\n",
              " 'cream sauce': 813,\n",
              " 'rye bread': 814,\n",
              " 'cantaloupe': 815,\n",
              " 'light mayonnaise': 816,\n",
              " 'uncook medium shrimp, peel and devein': 817,\n",
              " 'syrup': 818,\n",
              " 'ground oregano': 819,\n",
              " 'persimmon': 820,\n",
              " 'red grapefruit': 821,\n",
              " 'Knorr® Fiesta Sides Spanish Rice': 822,\n",
              " 'jerk sauce': 823,\n",
              " 'pangasius': 824,\n",
              " 'curry paste': 825,\n",
              " 'scallion greens': 826,\n",
              " 'Green Giant™ sliced mushrooms': 827,\n",
              " 'crème de cassis': 828,\n",
              " 'ikura': 829,\n",
              " 'rotisserie chicken': 830,\n",
              " 'chinese jujubes': 831,\n",
              " 'Italian bread': 832,\n",
              " 'fresh tofu': 833,\n",
              " 'baked pizza crust': 834,\n",
              " 'green peppercorns': 835,\n",
              " 'empanada': 836,\n",
              " 'muscovy': 837,\n",
              " 'varnish clams': 838,\n",
              " 'madeira wine': 839,\n",
              " 'parsnips': 840,\n",
              " 'key lime juice': 841,\n",
              " 'strawberry jam': 842,\n",
              " 'yellow lentils': 843,\n",
              " 'macaroni and cheese dinner': 844,\n",
              " 'fresh lime juice': 845,\n",
              " 'skinless mahi mahi fillets': 846,\n",
              " 'half & half': 847,\n",
              " 'prime rib': 848,\n",
              " 'miswa': 849,\n",
              " 'tenderloin steaks': 850,\n",
              " 'feta cheese crumbles': 851,\n",
              " 'minced garlic': 852,\n",
              " 'wine vinegar': 853,\n",
              " 'Cholula Hot Sauce': 854,\n",
              " 'italian tomatoes': 855,\n",
              " 'chicory': 856,\n",
              " 'oven-ready lasagna noodles': 857,\n",
              " 'hamburger buns': 858,\n",
              " 'sambal ulek': 859,\n",
              " 'jumbo shells': 860,\n",
              " 'tomato garlic pasta sauce': 861,\n",
              " 'low sodium low fat vegetable broth': 862,\n",
              " 'cardamon': 863,\n",
              " 'sandwich steak': 864,\n",
              " 'endive': 865,\n",
              " 'lemon peel': 866,\n",
              " 'piment despelette': 867,\n",
              " 'pace picante sauce': 868,\n",
              " 'baked corn tortilla chips': 869,\n",
              " 'extra firm silken tofu': 870,\n",
              " 'canned chicken': 871,\n",
              " 'seltzer': 872,\n",
              " 'mie': 873,\n",
              " 'jerk seasoning mix': 874,\n",
              " 'pectin': 875,\n",
              " 'burgundy snails': 876,\n",
              " 'wholemeal flour': 877,\n",
              " 'german mustard': 878,\n",
              " 'simple syrup': 879,\n",
              " 'basil olive oil': 880,\n",
              " 'red grape': 881,\n",
              " 'gyoza skins': 882,\n",
              " 'homemade chicken broth': 883,\n",
              " 'chapatti flour': 884,\n",
              " 'honey mustard dressing': 885,\n",
              " 'frozen garden peas': 886,\n",
              " 'whole kernel corn, drain': 887,\n",
              " 'whipped dessert topping': 888,\n",
              " 'confit': 889,\n",
              " 'basil dried leaves': 890,\n",
              " 'baby gem lettuce': 891,\n",
              " 'frozen broccoli florets': 892,\n",
              " 'chili con carne': 893,\n",
              " 'low-fat cheddar': 894,\n",
              " 'leg of veal': 895,\n",
              " 'chestnuts': 896,\n",
              " 'wild mushrooms': 897,\n",
              " 'chopped pecans': 898,\n",
              " 'pitted date': 899,\n",
              " 'tom yum paste': 900,\n",
              " 'cottage cheese': 901,\n",
              " 'vanilla soy milk': 902,\n",
              " 'genoise': 903,\n",
              " 'yardlong beans': 904,\n",
              " 'panko': 905,\n",
              " 'Pillsbury Thin Pizza Crust': 906,\n",
              " 'lamb fillet': 907,\n",
              " 'chipotle paste': 908,\n",
              " 'boneless country pork ribs': 909,\n",
              " 'hazelnut butter': 910,\n",
              " 'condensed cream of broccoli soup': 911,\n",
              " 'salt free chili powder': 912,\n",
              " 'turkey breast steaks': 913,\n",
              " 'reduced fat coconut milk': 914,\n",
              " 'biscuit baking mix': 915,\n",
              " 'tater tots': 916,\n",
              " 'gumbo file powder': 917,\n",
              " 'low-fat natural yogurt': 918,\n",
              " 'Philadelphia Cream Cheese': 919,\n",
              " 'milk chocolate kisses': 920,\n",
              " 'boneless chicken cutlet': 921,\n",
              " 'arborio rice': 922,\n",
              " 'tandoori masala mix': 923,\n",
              " 'dried bonito flakes': 924,\n",
              " 'pork blood': 925,\n",
              " 'crimini mushrooms': 926,\n",
              " 'Crisco Pure Canola Oil': 927,\n",
              " 'tvp': 928,\n",
              " 'masa dough': 929,\n",
              " 'tart': 930,\n",
              " 'tomatillo salsa': 931,\n",
              " 'bean sauce': 932,\n",
              " 'dried shrimp': 933,\n",
              " 'stevia powder': 934,\n",
              " 'carbonated water': 935,\n",
              " 'reduced sugar ketchup': 936,\n",
              " 'ginger syrup': 937,\n",
              " 'suckling pig': 938,\n",
              " 'juniper berries': 939,\n",
              " 'boneless salmon fillets': 940,\n",
              " 'dried mint flakes': 941,\n",
              " 'frozen seafood': 942,\n",
              " 'light brown muscavado sugar': 943,\n",
              " 'stewing steak': 944,\n",
              " 'frozen popcorn chicken': 945,\n",
              " 'italian style rolls': 946,\n",
              " 'ginseng': 947,\n",
              " 'black pepper': 948,\n",
              " 'maifun': 949,\n",
              " 'ricotta cheese': 950,\n",
              " 'reduced fat mayonnaise': 951,\n",
              " 'lean chuck roast': 952,\n",
              " 'taleggio': 953,\n",
              " 'Truvía® natural sweetener': 954,\n",
              " 'green curry paste': 955,\n",
              " 'salt free cajun creole seasoning': 956,\n",
              " 'japanese breadcrumbs': 957,\n",
              " 'broccoli rabe': 958,\n",
              " 'orange soda': 959,\n",
              " 'focaccia': 960,\n",
              " 'fresh lemon': 961,\n",
              " 'tapioca': 962,\n",
              " 'rump steak': 963,\n",
              " 'low-fat vegetarian chili with beans': 964,\n",
              " 'frozen lemonade concentrate': 965,\n",
              " 'ducklings': 966,\n",
              " \"za'atar\": 967,\n",
              " 'low-fat ricotta': 968,\n",
              " 'medium salsa': 969,\n",
              " 'white beans': 970,\n",
              " 'ground turkey sausage': 971,\n",
              " 'frozen sweet peas': 972,\n",
              " 'molasses': 973,\n",
              " 'melted fat': 974,\n",
              " 'mature cheddar': 975,\n",
              " 'flower petals': 976,\n",
              " 'low-fat balsamic vinaigrette': 977,\n",
              " 'red chile powder': 978,\n",
              " 'cheese slices': 979,\n",
              " 'vegetarian chicken': 980,\n",
              " 'frozen petit pois': 981,\n",
              " 'dried salted codfish': 982,\n",
              " 'liquid': 983,\n",
              " 'Pace Chunky Salsa': 984,\n",
              " 'popcorn': 985,\n",
              " 'Hogue Cabernet Sauvignon': 986,\n",
              " 'panettone': 987,\n",
              " 'kamut flour': 988,\n",
              " 'pepperoni': 989,\n",
              " 'pike': 990,\n",
              " 'sweetened condensed milk': 991,\n",
              " 'flavored vinegar': 992,\n",
              " 'waffle fries': 993,\n",
              " 'hoop cheese': 994,\n",
              " 'marrons': 995,\n",
              " 'coffee liqueur': 996,\n",
              " 'cajun spice mix': 997,\n",
              " 'lavender honey': 998,\n",
              " 'ground sumac': 999,\n",
              " ...}"
            ]
          },
          "metadata": {},
          "execution_count": 72
        }
      ]
    },
    {
      "cell_type": "code",
      "metadata": {
        "colab": {
          "base_uri": "https://localhost:8080/",
          "height": 417
        },
        "id": "N-D6UQc3CvdX",
        "outputId": "a1de1455-4f87-4616-fc8b-a1bfc84adcf7"
      },
      "source": [
        "freq= {}\n",
        "ingredients = vocabulary\n",
        "ingredients = [word.lower() for word in ingredients if word.isalpha()]\n",
        "for word in ingredients :\n",
        "    count = freq.get(word , 0)\n",
        "    freq[ word ] = count + 1\n",
        "\n",
        "rank = 1\n",
        "column_header = ['Rank', 'Frequency']\n",
        "df = pd.DataFrame( columns = column_header )\n",
        "collection = sorted(freq.items(), key=itemgetter(1), reverse = True)\n",
        "\n",
        "\n",
        "for word , freq in collection:\n",
        "    df.loc[word] = [rank, freq]\n",
        "    rank = rank + 1\n",
        "df"
      ],
      "execution_count": null,
      "outputs": [
        {
          "output_type": "execute_result",
          "data": {
            "text/html": [
              "<div>\n",
              "<style scoped>\n",
              "    .dataframe tbody tr th:only-of-type {\n",
              "        vertical-align: middle;\n",
              "    }\n",
              "\n",
              "    .dataframe tbody tr th {\n",
              "        vertical-align: top;\n",
              "    }\n",
              "\n",
              "    .dataframe thead th {\n",
              "        text-align: right;\n",
              "    }\n",
              "</style>\n",
              "<table border=\"1\" class=\"dataframe\">\n",
              "  <thead>\n",
              "    <tr style=\"text-align: right;\">\n",
              "      <th></th>\n",
              "      <th>Rank</th>\n",
              "      <th>Frequency</th>\n",
              "    </tr>\n",
              "  </thead>\n",
              "  <tbody>\n",
              "    <tr>\n",
              "      <th>basmati</th>\n",
              "      <td>1</td>\n",
              "      <td>1</td>\n",
              "    </tr>\n",
              "    <tr>\n",
              "      <th>fillets</th>\n",
              "      <td>2</td>\n",
              "      <td>1</td>\n",
              "    </tr>\n",
              "    <tr>\n",
              "      <th>chambord</th>\n",
              "      <td>3</td>\n",
              "      <td>1</td>\n",
              "    </tr>\n",
              "    <tr>\n",
              "      <th>brioche</th>\n",
              "      <td>4</td>\n",
              "      <td>1</td>\n",
              "    </tr>\n",
              "    <tr>\n",
              "      <th>ragu</th>\n",
              "      <td>5</td>\n",
              "      <td>1</td>\n",
              "    </tr>\n",
              "    <tr>\n",
              "      <th>...</th>\n",
              "      <td>...</td>\n",
              "      <td>...</td>\n",
              "    </tr>\n",
              "    <tr>\n",
              "      <th>balm</th>\n",
              "      <td>1160</td>\n",
              "      <td>1</td>\n",
              "    </tr>\n",
              "    <tr>\n",
              "      <th>sansho</th>\n",
              "      <td>1161</td>\n",
              "      <td>1</td>\n",
              "    </tr>\n",
              "    <tr>\n",
              "      <th>nashi</th>\n",
              "      <td>1162</td>\n",
              "      <td>1</td>\n",
              "    </tr>\n",
              "    <tr>\n",
              "      <th>watercress</th>\n",
              "      <td>1163</td>\n",
              "      <td>1</td>\n",
              "    </tr>\n",
              "    <tr>\n",
              "      <th>peperoncini</th>\n",
              "      <td>1164</td>\n",
              "      <td>1</td>\n",
              "    </tr>\n",
              "  </tbody>\n",
              "</table>\n",
              "<p>1164 rows × 2 columns</p>\n",
              "</div>"
            ],
            "text/plain": [
              "             Rank Frequency\n",
              "basmati         1         1\n",
              "fillets         2         1\n",
              "chambord        3         1\n",
              "brioche         4         1\n",
              "ragu            5         1\n",
              "...           ...       ...\n",
              "balm         1160         1\n",
              "sansho       1161         1\n",
              "nashi        1162         1\n",
              "watercress   1163         1\n",
              "peperoncini  1164         1\n",
              "\n",
              "[1164 rows x 2 columns]"
            ]
          },
          "metadata": {},
          "execution_count": 73
        }
      ]
    },
    {
      "cell_type": "markdown",
      "metadata": {
        "id": "4P2r7X-tnBcI"
      },
      "source": [
        "Visualization"
      ]
    },
    {
      "cell_type": "code",
      "metadata": {
        "colab": {
          "base_uri": "https://localhost:8080/",
          "height": 431
        },
        "id": "sgh_AV4bIePw",
        "outputId": "46bb9022-9032-4453-c229-4c77887c3933"
      },
      "source": [
        "ax = sns.distplot(df,kde=True , color='yellow')\n",
        "ax.set(xlabel='Ingredients', ylabel='Frequency')"
      ],
      "execution_count": null,
      "outputs": [
        {
          "output_type": "stream",
          "name": "stderr",
          "text": [
            "/usr/local/lib/python3.7/dist-packages/seaborn/distributions.py:2557: FutureWarning: `distplot` is a deprecated function and will be removed in a future version. Please adapt your code to use either `displot` (a figure-level function with similar flexibility) or `histplot` (an axes-level function for histograms).\n",
            "  warnings.warn(msg, FutureWarning)\n"
          ]
        },
        {
          "output_type": "execute_result",
          "data": {
            "text/plain": [
              "[Text(0, 0.5, 'Frequency'), Text(0.5, 0, 'Ingredients')]"
            ]
          },
          "metadata": {},
          "execution_count": 74
        },
        {
          "output_type": "display_data",
          "data": {
            "image/png": "[encoded data removed]",
            "text/plain": [
              "<Figure size 576x396 with 1 Axes>"
            ]
          },
          "metadata": {}
        }
      ]
    },
    {
      "cell_type": "markdown",
      "metadata": {
        "id": "LpMh8wUTnM9l"
      },
      "source": [
        "(c)"
      ]
    },
    {
      "cell_type": "code",
      "metadata": {
        "colab": {
          "base_uri": "https://localhost:8080/",
          "height": 414
        },
        "id": "yVQRuJbO2I8r",
        "outputId": "5bd87c0f-b12d-4281-c00f-01c5399929fa"
      },
      "source": [
        "ax = sns.distplot(df['Rank'],kde=True , color='yellow')\n"
      ],
      "execution_count": null,
      "outputs": [
        {
          "output_type": "stream",
          "name": "stderr",
          "text": [
            "/usr/local/lib/python3.7/dist-packages/seaborn/distributions.py:2557: FutureWarning: `distplot` is a deprecated function and will be removed in a future version. Please adapt your code to use either `displot` (a figure-level function with similar flexibility) or `histplot` (an axes-level function for histograms).\n",
            "  warnings.warn(msg, FutureWarning)\n"
          ]
        },
        {
          "output_type": "display_data",
          "data": {
            "image/png": "[encoded data removed]",
            "text/plain": [
              "<Figure size 576x396 with 1 Axes>"
            ]
          },
          "metadata": {}
        }
      ]
    },
    {
      "cell_type": "code",
      "metadata": {
        "colab": {
          "base_uri": "https://localhost:8080/",
          "height": 448
        },
        "id": "sX9W760S2i4f",
        "outputId": "f4a9f053-f854-442e-d4f7-7a8220d89e2b"
      },
      "source": [
        "ax = sns.distplot(df['Frequency'],kde=True , color='yellow')\n"
      ],
      "execution_count": null,
      "outputs": [
        {
          "output_type": "stream",
          "name": "stderr",
          "text": [
            "/usr/local/lib/python3.7/dist-packages/seaborn/distributions.py:2557: FutureWarning: `distplot` is a deprecated function and will be removed in a future version. Please adapt your code to use either `displot` (a figure-level function with similar flexibility) or `histplot` (an axes-level function for histograms).\n",
            "  warnings.warn(msg, FutureWarning)\n",
            "/usr/local/lib/python3.7/dist-packages/seaborn/distributions.py:306: UserWarning: Dataset has 0 variance; skipping density estimate.\n",
            "  warnings.warn(msg, UserWarning)\n"
          ]
        },
        {
          "output_type": "display_data",
          "data": {
            "image/png": "[encoded data removed]",
            "text/plain": [
              "<Figure size 576x396 with 1 Axes>"
            ]
          },
          "metadata": {}
        }
      ]
    },
    {
      "cell_type": "code",
      "metadata": {
        "id": "PsUChFQpk3kd"
      },
      "source": [
        " vectrain = TfidfVectorizer(stop_words='english',\n",
        "                             ngram_range = ( 1 , 1 ),analyzer=\"word\",\n",
        "                             max_df = .57 , binary=False , token_pattern=r'\\w+' , sublinear_tf=False)\n",
        "vectest = TfidfVectorizer(stop_words='english')"
      ],
      "execution_count": null,
      "outputs": []
    },
    {
      "cell_type": "code",
      "metadata": {
        "id": "AVmoY41xk3kf"
      },
      "source": [
        "\n",
        "tfidf=vectrain.fit_transform(cortrain)\n",
        "trainpred = tfidf"
      ],
      "execution_count": null,
      "outputs": []
    },
    {
      "cell_type": "code",
      "metadata": {
        "id": "htsUTjQDk3kn"
      },
      "source": [
        "tfidf_new=vectrain.transform(cortest)\n",
        "testpred= tfidf_new"
      ],
      "execution_count": null,
      "outputs": []
    },
    {
      "cell_type": "code",
      "metadata": {
        "id": "PGnihLhhk3kq"
      },
      "source": [
        " targettrain = df['cuisine']"
      ],
      "execution_count": null,
      "outputs": []
    },
    {
      "cell_type": "code",
      "metadata": {
        "id": "PwkR9LUzk3kv"
      },
      "source": [
        " parameters = {'C':[1, 10]}\n",
        "clf = LogisticRegression()"
      ],
      "execution_count": null,
      "outputs": []
    },
    {
      "cell_type": "markdown",
      "metadata": {
        "id": "00YYXh-6nTgI"
      },
      "source": [
        "#QUESTION 4."
      ]
    },
    {
      "cell_type": "code",
      "metadata": {
        "id": "pWnl6CHSk3k1",
        "colab": {
          "base_uri": "https://localhost:8080/"
        },
        "outputId": "3f9c7e66-1656-43e4-d925-4d7cc1b22f10"
      },
      "source": [
        "from sklearn.model_selection import GridSearchCV\n",
        "classifier = GridSearchCV(clf, parameters)\n",
        "classifier=classifier.fit(trainpred,targettrain)"
      ],
      "execution_count": null,
      "outputs": [
        {
          "output_type": "stream",
          "name": "stderr",
          "text": [
            "/usr/local/lib/python3.7/dist-packages/sklearn/linear_model/_logistic.py:940: ConvergenceWarning: lbfgs failed to converge (status=1):\n",
            "STOP: TOTAL NO. of ITERATIONS REACHED LIMIT.\n",
            "\n",
            "Increase the number of iterations (max_iter) or scale the data as shown in:\n",
            "    https://scikit-learn.org/stable/modules/preprocessing.html\n",
            "Please also refer to the documentation for alternative solver options:\n",
            "    https://scikit-learn.org/stable/modules/linear_model.html#logistic-regression\n",
            "  extra_warning_msg=_LOGISTIC_SOLVER_CONVERGENCE_MSG)\n",
            "/usr/local/lib/python3.7/dist-packages/sklearn/linear_model/_logistic.py:940: ConvergenceWarning: lbfgs failed to converge (status=1):\n",
            "STOP: TOTAL NO. of ITERATIONS REACHED LIMIT.\n",
            "\n",
            "Increase the number of iterations (max_iter) or scale the data as shown in:\n",
            "    https://scikit-learn.org/stable/modules/preprocessing.html\n",
            "Please also refer to the documentation for alternative solver options:\n",
            "    https://scikit-learn.org/stable/modules/linear_model.html#logistic-regression\n",
            "  extra_warning_msg=_LOGISTIC_SOLVER_CONVERGENCE_MSG)\n",
            "/usr/local/lib/python3.7/dist-packages/sklearn/linear_model/_logistic.py:940: ConvergenceWarning: lbfgs failed to converge (status=1):\n",
            "STOP: TOTAL NO. of ITERATIONS REACHED LIMIT.\n",
            "\n",
            "Increase the number of iterations (max_iter) or scale the data as shown in:\n",
            "    https://scikit-learn.org/stable/modules/preprocessing.html\n",
            "Please also refer to the documentation for alternative solver options:\n",
            "    https://scikit-learn.org/stable/modules/linear_model.html#logistic-regression\n",
            "  extra_warning_msg=_LOGISTIC_SOLVER_CONVERGENCE_MSG)\n",
            "/usr/local/lib/python3.7/dist-packages/sklearn/linear_model/_logistic.py:940: ConvergenceWarning: lbfgs failed to converge (status=1):\n",
            "STOP: TOTAL NO. of ITERATIONS REACHED LIMIT.\n",
            "\n",
            "Increase the number of iterations (max_iter) or scale the data as shown in:\n",
            "    https://scikit-learn.org/stable/modules/preprocessing.html\n",
            "Please also refer to the documentation for alternative solver options:\n",
            "    https://scikit-learn.org/stable/modules/linear_model.html#logistic-regression\n",
            "  extra_warning_msg=_LOGISTIC_SOLVER_CONVERGENCE_MSG)\n",
            "/usr/local/lib/python3.7/dist-packages/sklearn/linear_model/_logistic.py:940: ConvergenceWarning: lbfgs failed to converge (status=1):\n",
            "STOP: TOTAL NO. of ITERATIONS REACHED LIMIT.\n",
            "\n",
            "Increase the number of iterations (max_iter) or scale the data as shown in:\n",
            "    https://scikit-learn.org/stable/modules/preprocessing.html\n",
            "Please also refer to the documentation for alternative solver options:\n",
            "    https://scikit-learn.org/stable/modules/linear_model.html#logistic-regression\n",
            "  extra_warning_msg=_LOGISTIC_SOLVER_CONVERGENCE_MSG)\n",
            "/usr/local/lib/python3.7/dist-packages/sklearn/linear_model/_logistic.py:940: ConvergenceWarning: lbfgs failed to converge (status=1):\n",
            "STOP: TOTAL NO. of ITERATIONS REACHED LIMIT.\n",
            "\n",
            "Increase the number of iterations (max_iter) or scale the data as shown in:\n",
            "    https://scikit-learn.org/stable/modules/preprocessing.html\n",
            "Please also refer to the documentation for alternative solver options:\n",
            "    https://scikit-learn.org/stable/modules/linear_model.html#logistic-regression\n",
            "  extra_warning_msg=_LOGISTIC_SOLVER_CONVERGENCE_MSG)\n",
            "/usr/local/lib/python3.7/dist-packages/sklearn/linear_model/_logistic.py:940: ConvergenceWarning: lbfgs failed to converge (status=1):\n",
            "STOP: TOTAL NO. of ITERATIONS REACHED LIMIT.\n",
            "\n",
            "Increase the number of iterations (max_iter) or scale the data as shown in:\n",
            "    https://scikit-learn.org/stable/modules/preprocessing.html\n",
            "Please also refer to the documentation for alternative solver options:\n",
            "    https://scikit-learn.org/stable/modules/linear_model.html#logistic-regression\n",
            "  extra_warning_msg=_LOGISTIC_SOLVER_CONVERGENCE_MSG)\n",
            "/usr/local/lib/python3.7/dist-packages/sklearn/linear_model/_logistic.py:940: ConvergenceWarning: lbfgs failed to converge (status=1):\n",
            "STOP: TOTAL NO. of ITERATIONS REACHED LIMIT.\n",
            "\n",
            "Increase the number of iterations (max_iter) or scale the data as shown in:\n",
            "    https://scikit-learn.org/stable/modules/preprocessing.html\n",
            "Please also refer to the documentation for alternative solver options:\n",
            "    https://scikit-learn.org/stable/modules/linear_model.html#logistic-regression\n",
            "  extra_warning_msg=_LOGISTIC_SOLVER_CONVERGENCE_MSG)\n",
            "/usr/local/lib/python3.7/dist-packages/sklearn/linear_model/_logistic.py:940: ConvergenceWarning: lbfgs failed to converge (status=1):\n",
            "STOP: TOTAL NO. of ITERATIONS REACHED LIMIT.\n",
            "\n",
            "Increase the number of iterations (max_iter) or scale the data as shown in:\n",
            "    https://scikit-learn.org/stable/modules/preprocessing.html\n",
            "Please also refer to the documentation for alternative solver options:\n",
            "    https://scikit-learn.org/stable/modules/linear_model.html#logistic-regression\n",
            "  extra_warning_msg=_LOGISTIC_SOLVER_CONVERGENCE_MSG)\n",
            "/usr/local/lib/python3.7/dist-packages/sklearn/linear_model/_logistic.py:940: ConvergenceWarning: lbfgs failed to converge (status=1):\n",
            "STOP: TOTAL NO. of ITERATIONS REACHED LIMIT.\n",
            "\n",
            "Increase the number of iterations (max_iter) or scale the data as shown in:\n",
            "    https://scikit-learn.org/stable/modules/preprocessing.html\n",
            "Please also refer to the documentation for alternative solver options:\n",
            "    https://scikit-learn.org/stable/modules/linear_model.html#logistic-regression\n",
            "  extra_warning_msg=_LOGISTIC_SOLVER_CONVERGENCE_MSG)\n",
            "/usr/local/lib/python3.7/dist-packages/sklearn/linear_model/_logistic.py:940: ConvergenceWarning: lbfgs failed to converge (status=1):\n",
            "STOP: TOTAL NO. of ITERATIONS REACHED LIMIT.\n",
            "\n",
            "Increase the number of iterations (max_iter) or scale the data as shown in:\n",
            "    https://scikit-learn.org/stable/modules/preprocessing.html\n",
            "Please also refer to the documentation for alternative solver options:\n",
            "    https://scikit-learn.org/stable/modules/linear_model.html#logistic-regression\n",
            "  extra_warning_msg=_LOGISTIC_SOLVER_CONVERGENCE_MSG)\n"
          ]
        }
      ]
    },
    {
      "cell_type": "code",
      "metadata": {
        "id": "I9RB6g4pk3k4"
      },
      "source": [
        " pred=classifier.predict(testpred)"
      ],
      "execution_count": null,
      "outputs": []
    },
    {
      "cell_type": "code",
      "metadata": {
        "id": "0uzbXDlfk3k7"
      },
      "source": [
        "df_new['cuisine'] = pred"
      ],
      "execution_count": null,
      "outputs": []
    },
    {
      "cell_type": "code",
      "metadata": {
        "id": "tOptCne4k3lC"
      },
      "source": [
        "from sklearn.ensemble import RandomForestClassifier"
      ],
      "execution_count": null,
      "outputs": []
    },
    {
      "cell_type": "code",
      "metadata": {
        "id": "71u-HUpKk3lE"
      },
      "source": [
        "forest = RandomForestClassifier(n_estimators = 10)"
      ],
      "execution_count": null,
      "outputs": []
    },
    {
      "cell_type": "code",
      "metadata": {
        "id": "weUnxDbRk3lH"
      },
      "source": [
        "forest = forest.fit(trainpred,targettrain)"
      ],
      "execution_count": null,
      "outputs": []
    },
    {
      "cell_type": "code",
      "metadata": {
        "id": "07jNdblQk3lK"
      },
      "source": [
        "predict = forest.predict(testpred)"
      ],
      "execution_count": null,
      "outputs": []
    },
    {
      "cell_type": "code",
      "metadata": {
        "id": "1nTY0nLbk3lM"
      },
      "source": [
        "df_new['cuisine'] = predict"
      ],
      "execution_count": null,
      "outputs": []
    },
    {
      "cell_type": "code",
      "metadata": {
        "id": "xa4njwC-k3lQ",
        "colab": {
          "base_uri": "https://localhost:8080/",
          "height": 803
        },
        "outputId": "a2cb8f48-095d-4395-9211-ddbcba0f4280"
      },
      "source": [
        "ingredients = df['ingredients'].apply(lambda x:','.join(x))\n",
        "ingredients\n",
        "df"
      ],
      "execution_count": null,
      "outputs": [
        {
          "output_type": "execute_result",
          "data": {
            "text/html": [
              "<div>\n",
              "<style scoped>\n",
              "    .dataframe tbody tr th:only-of-type {\n",
              "        vertical-align: middle;\n",
              "    }\n",
              "\n",
              "    .dataframe tbody tr th {\n",
              "        vertical-align: top;\n",
              "    }\n",
              "\n",
              "    .dataframe thead th {\n",
              "        text-align: right;\n",
              "    }\n",
              "</style>\n",
              "<table border=\"1\" class=\"dataframe\">\n",
              "  <thead>\n",
              "    <tr style=\"text-align: right;\">\n",
              "      <th></th>\n",
              "      <th>id</th>\n",
              "      <th>cuisine</th>\n",
              "      <th>ingredients</th>\n",
              "      <th>ingredients_clean_string1</th>\n",
              "      <th>ingredients_clean_string2</th>\n",
              "      <th>ingredients_string1</th>\n",
              "    </tr>\n",
              "  </thead>\n",
              "  <tbody>\n",
              "    <tr>\n",
              "      <th>0</th>\n",
              "      <td>10259</td>\n",
              "      <td>greek</td>\n",
              "      <td>[romaine lettuce, black olives, grape tomatoes...</td>\n",
              "      <td>romaine lettuce,black olives,grape tomatoes,ga...</td>\n",
              "      <td>romaine lettuce , black olives , grape tomatoe...</td>\n",
              "      <td>romaine lettuce black olives grape tomatoes ga...</td>\n",
              "    </tr>\n",
              "    <tr>\n",
              "      <th>1</th>\n",
              "      <td>25693</td>\n",
              "      <td>southern_us</td>\n",
              "      <td>[plain flour, ground pepper, salt, tomatoes, g...</td>\n",
              "      <td>plain flour,ground pepper,salt,tomatoes,ground...</td>\n",
              "      <td>plain flour , ground pepper , salt , tomatoes ...</td>\n",
              "      <td>plain flour ground pepper salt tomato ground b...</td>\n",
              "    </tr>\n",
              "    <tr>\n",
              "      <th>2</th>\n",
              "      <td>20130</td>\n",
              "      <td>filipino</td>\n",
              "      <td>[eggs, pepper, salt, mayonaise, cooking oil, g...</td>\n",
              "      <td>eggs,pepper,salt,mayonaise,cooking oil,green c...</td>\n",
              "      <td>eggs , pepper , salt , mayonaise , cooking oil...</td>\n",
              "      <td>egg pepper salt mayonaise cooking oil green ch...</td>\n",
              "    </tr>\n",
              "    <tr>\n",
              "      <th>3</th>\n",
              "      <td>22213</td>\n",
              "      <td>indian</td>\n",
              "      <td>[water, vegetable oil, wheat, salt]</td>\n",
              "      <td>water,vegetable oil,wheat,salt</td>\n",
              "      <td>water , vegetable oil , wheat , salt</td>\n",
              "      <td>water vegetable oil wheat salt</td>\n",
              "    </tr>\n",
              "    <tr>\n",
              "      <th>4</th>\n",
              "      <td>13162</td>\n",
              "      <td>indian</td>\n",
              "      <td>[black pepper, shallots, cornflour, cayenne pe...</td>\n",
              "      <td>black pepper,shallots,cornflour,cayenne pepper...</td>\n",
              "      <td>black pepper , shallots , cornflour , cayenne ...</td>\n",
              "      <td>black pepper shallot cornflour cayenne pepper ...</td>\n",
              "    </tr>\n",
              "    <tr>\n",
              "      <th>...</th>\n",
              "      <td>...</td>\n",
              "      <td>...</td>\n",
              "      <td>...</td>\n",
              "      <td>...</td>\n",
              "      <td>...</td>\n",
              "      <td>...</td>\n",
              "    </tr>\n",
              "    <tr>\n",
              "      <th>39769</th>\n",
              "      <td>29109</td>\n",
              "      <td>irish</td>\n",
              "      <td>[light brown sugar, granulated sugar, butter, ...</td>\n",
              "      <td>light brown sugar,granulated sugar,butter,warm...</td>\n",
              "      <td>light brown sugar , granulated sugar , butter ...</td>\n",
              "      <td>light brown sugar granulated sugar butter warm...</td>\n",
              "    </tr>\n",
              "    <tr>\n",
              "      <th>39770</th>\n",
              "      <td>11462</td>\n",
              "      <td>italian</td>\n",
              "      <td>[KRAFT Zesty Italian Dressing, purple onion, b...</td>\n",
              "      <td>KRAFT Zesty Italian Dressing,purple onion,broc...</td>\n",
              "      <td>KRAFT Zesty Italian Dressing , purple onion , ...</td>\n",
              "      <td>KRAFT Zesty Italian Dressing purple onion broc...</td>\n",
              "    </tr>\n",
              "    <tr>\n",
              "      <th>39771</th>\n",
              "      <td>2238</td>\n",
              "      <td>irish</td>\n",
              "      <td>[eggs, citrus fruit, raisins, sourdough starte...</td>\n",
              "      <td>eggs,citrus fruit,raisins,sourdough starter,fl...</td>\n",
              "      <td>eggs , citrus fruit , raisins , sourdough star...</td>\n",
              "      <td>egg citrus fruit raisin sourdough starter flou...</td>\n",
              "    </tr>\n",
              "    <tr>\n",
              "      <th>39772</th>\n",
              "      <td>41882</td>\n",
              "      <td>chinese</td>\n",
              "      <td>[boneless chicken skinless thigh, minced garli...</td>\n",
              "      <td>boneless chicken skinless thigh,minced garlic,...</td>\n",
              "      <td>boneless chicken skinless thigh , minced garli...</td>\n",
              "      <td>boneless chicken skinless thigh minced garlic ...</td>\n",
              "    </tr>\n",
              "    <tr>\n",
              "      <th>39773</th>\n",
              "      <td>2362</td>\n",
              "      <td>mexican</td>\n",
              "      <td>[green chile, jalapeno chilies, onions, ground...</td>\n",
              "      <td>green chile,jalapeno chilies,onions,ground bla...</td>\n",
              "      <td>green chile , jalapeno chilies , onions , grou...</td>\n",
              "      <td>green chile jalapeno chilies onion ground blac...</td>\n",
              "    </tr>\n",
              "  </tbody>\n",
              "</table>\n",
              "<p>39774 rows × 6 columns</p>\n",
              "</div>"
            ],
            "text/plain": [
              "          id  ...                                ingredients_string1\n",
              "0      10259  ...  romaine lettuce black olives grape tomatoes ga...\n",
              "1      25693  ...  plain flour ground pepper salt tomato ground b...\n",
              "2      20130  ...  egg pepper salt mayonaise cooking oil green ch...\n",
              "3      22213  ...                     water vegetable oil wheat salt\n",
              "4      13162  ...  black pepper shallot cornflour cayenne pepper ...\n",
              "...      ...  ...                                                ...\n",
              "39769  29109  ...  light brown sugar granulated sugar butter warm...\n",
              "39770  11462  ...  KRAFT Zesty Italian Dressing purple onion broc...\n",
              "39771   2238  ...  egg citrus fruit raisin sourdough starter flou...\n",
              "39772  41882  ...  boneless chicken skinless thigh minced garlic ...\n",
              "39773   2362  ...  green chile jalapeno chilies onion ground blac...\n",
              "\n",
              "[39774 rows x 6 columns]"
            ]
          },
          "metadata": {},
          "execution_count": 90
        }
      ]
    },
    {
      "cell_type": "code",
      "metadata": {
        "colab": {
          "base_uri": "https://localhost:8080/"
        },
        "id": "NJpEiI76i_k9",
        "outputId": "51a5ae28-732a-4638-8f05-050f55e71bfb"
      },
      "source": [
        "from sklearn.feature_extraction.text import TfidfVectorizer\n",
        "vectorizer = TfidfVectorizer()\n",
        "X = vectorizer.fit_transform(df['ingredients_string1'])\n",
        "\n",
        "print(X)"
      ],
      "execution_count": null,
      "outputs": [
        {
          "output_type": "stream",
          "name": "stdout",
          "text": [
            "  (0, 721)\t0.33470078357758687\n",
            "  (0, 508)\t0.1458494223406661\n",
            "  (0, 941)\t0.30438203532210567\n",
            "  (0, 172)\t0.20933523385450295\n",
            "  (0, 1074)\t0.3889730988891325\n",
            "  (0, 2389)\t0.23034068830753504\n",
            "  (0, 1861)\t0.11919980380981804\n",
            "  (0, 2171)\t0.23940422875669587\n",
            "  (0, 1987)\t0.10220024018746883\n",
            "  (0, 1080)\t0.10543052862276961\n",
            "  (0, 2758)\t0.17793349661633953\n",
            "  (0, 1154)\t0.3473360314647663\n",
            "  (0, 1857)\t0.26844637455934556\n",
            "  (0, 236)\t0.14005534054965388\n",
            "  (0, 1511)\t0.266690154534429\n",
            "  (0, 2282)\t0.3430569328892925\n",
            "  (1, 1848)\t0.11776058327805798\n",
            "  (1, 2864)\t0.21262361824792758\n",
            "  (1, 1693)\t0.2135975785684864\n",
            "  (1, 1651)\t0.4060947060629038\n",
            "  (1, 660)\t0.2224840480314699\n",
            "  (1, 2970)\t0.28002210950290646\n",
            "  (1, 1175)\t0.19056748812173793\n",
            "  (1, 875)\t0.21431071591417875\n",
            "  (1, 2736)\t0.27489245055428957\n",
            "  :\t:\n",
            "  (39772, 875)\t0.10284981087193673\n",
            "  (39772, 2336)\t0.05252243917159206\n",
            "  (39772, 997)\t0.08891032810817563\n",
            "  (39772, 1080)\t0.06158879878121565\n",
            "  (39773, 474)\t0.25675475040802453\n",
            "  (39773, 2280)\t0.4005237107971314\n",
            "  (39773, 192)\t0.22112285775701926\n",
            "  (39773, 531)\t0.2470295820886631\n",
            "  (39773, 1870)\t0.23976283995538786\n",
            "  (39773, 844)\t0.20979086226095126\n",
            "  (39773, 2930)\t0.1843915266372429\n",
            "  (39773, 1340)\t0.2682325623779437\n",
            "  (39773, 580)\t0.19136799960259052\n",
            "  (39773, 562)\t0.18144409947726722\n",
            "  (39773, 1029)\t0.13710713505393626\n",
            "  (39773, 2636)\t0.14798862764020407\n",
            "  (39773, 536)\t0.23847750138252008\n",
            "  (39773, 1175)\t0.3436286303595347\n",
            "  (39773, 2336)\t0.09867242741544847\n",
            "  (39773, 1189)\t0.13705265037878564\n",
            "  (39773, 1861)\t0.13081628627466568\n",
            "  (39773, 1987)\t0.22432009869805375\n",
            "  (39773, 1080)\t0.11570514190116113\n",
            "  (39773, 2758)\t0.1952738048827067\n",
            "  (39773, 236)\t0.1537042758297748\n"
          ]
        }
      ]
    },
    {
      "cell_type": "code",
      "metadata": {
        "id": "dWw_Vefj1l_f"
      },
      "source": [
        "from sklearn.feature_extraction.text import CountVectorizer\n",
        "from sklearn.feature_extraction.text import TfidfTransformer\n",
        "from sklearn.linear_model import SGDClassifier\n",
        "from sklearn.pipeline import Pipeline\n",
        "\n",
        "cls = Pipeline([\n",
        "    ('vect', CountVectorizer(vocabulary=vocabulary)),\n",
        "    ('tfidf', TfidfTransformer()),\n",
        "    ('clf', SGDClassifier()),\n",
        "])\n"
      ],
      "execution_count": null,
      "outputs": []
    },
    {
      "cell_type": "code",
      "metadata": {
        "colab": {
          "base_uri": "https://localhost:8080/"
        },
        "id": "u6eZttzWgng0",
        "outputId": "fa1f8002-85fa-4ae2-cb8d-4d264929c77a"
      },
      "source": [
        "train_ingredients = df['ingredients_string1']\n",
        "cls.fit(train_ingredients, df['cuisine'])\n",
        "cls.score(train_ingredients, df['cuisine'])"
      ],
      "execution_count": null,
      "outputs": [
        {
          "output_type": "execute_result",
          "data": {
            "text/plain": [
              "0.7221803188012269"
            ]
          },
          "metadata": {},
          "execution_count": 93
        }
      ]
    },
    {
      "cell_type": "code",
      "metadata": {
        "colab": {
          "base_uri": "https://localhost:8080/"
        },
        "id": "onJE6lxlgng2",
        "outputId": "4f4ad56f-fb9c-4cae-cc97-a66f1b95d6a6"
      },
      "source": [
        "pred = cls.predict(train_ingredients)\n",
        "pred"
      ],
      "execution_count": null,
      "outputs": [
        {
          "output_type": "execute_result",
          "data": {
            "text/plain": [
              "array(['greek', 'southern_us', 'filipino', ..., 'southern_us', 'chinese',\n",
              "       'mexican'], dtype='<U12')"
            ]
          },
          "metadata": {},
          "execution_count": 94
        }
      ]
    },
    {
      "cell_type": "code",
      "metadata": {
        "id": "eYrs7lE31C5_",
        "colab": {
          "base_uri": "https://localhost:8080/",
          "height": 361
        },
        "outputId": "b82e3c3e-657d-47dd-c218-214d806776c4"
      },
      "source": [
        "from sklearn.metrics import plot_confusion_matrix\n",
        "plot_confusion_matrix(cls,df['cuisine'], pred)\n",
        "plt.show()"
      ],
      "execution_count": null,
      "outputs": [
        {
          "output_type": "display_data",
          "data": {
            "image/png": "[encoded data removed]",
            "text/plain": [
              "<Figure size 576x396 with 2 Axes>"
            ]
          },
          "metadata": {}
        }
      ]
    },
    {
      "cell_type": "code",
      "metadata": {
        "colab": {
          "base_uri": "https://localhost:8080/",
          "height": 380
        },
        "id": "VrmS88tUgng3",
        "outputId": "2999b12f-6131-4848-b359-fad5d65bc968"
      },
      "source": [
        "from sklearn import metrics\n",
        "confusion_matrix = metrics.confusion_matrix(df['cuisine'], pred)\n",
        "fig, ax = plt.subplots(figsize=(5,5))\n",
        "im = ax.imshow(confusion_matrix)\n",
        "ax.set_xticks(np.arange(len(total_cuisines)))\n",
        "ax.set_yticks(np.arange(len(total_cuisines)))\n",
        "ax.set_xticklabels(total_cuisines, rotation=90)\n",
        "ax.set_yticklabels(total_cuisines)\n",
        "ax.set_xlabel('Predicted cuisine')\n",
        "ax.set_ylabel('Actual cuisine')\n",
        "im;\n"
      ],
      "execution_count": null,
      "outputs": [
        {
          "output_type": "display_data",
          "data": {
            "image/png": "[encoded data removed]",
            "text/plain": [
              "<Figure size 360x360 with 1 Axes>"
            ]
          },
          "metadata": {}
        }
      ]
    }
  ]
}